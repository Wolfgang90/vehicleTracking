{
 "cells": [
  {
   "cell_type": "markdown",
   "metadata": {},
   "source": [
    "# 0 Required imports, hyperparameters and general functions"
   ]
  },
  {
   "cell_type": "markdown",
   "metadata": {},
   "source": [
    "## 0.1 Required imports"
   ]
  },
  {
   "cell_type": "code",
   "execution_count": 1,
   "metadata": {
    "collapsed": false
   },
   "outputs": [],
   "source": [
    "import matplotlib.image as mpimg\n",
    "import matplotlib.pyplot as plt\n",
    "%matplotlib inline\n",
    "import numpy as np\n",
    "import cv2\n",
    "from sklearn.svm import LinearSVC\n",
    "from sklearn.preprocessing import StandardScaler\n",
    "from sklearn.svm import LinearSVC\n",
    "from sklearn.model_selection import train_test_split\n",
    "from sklearn.utils import shuffle\n",
    "from skimage.feature import hog\n",
    "import glob\n",
    "import time"
   ]
  },
  {
   "cell_type": "markdown",
   "metadata": {},
   "source": [
    "## 0.2 Hyperparameters"
   ]
  },
  {
   "cell_type": "code",
   "execution_count": 2,
   "metadata": {
    "collapsed": true
   },
   "outputs": [],
   "source": [
    "# 1 Classifier parameters\n",
    "# Features to be applied\n",
    "hog_feat = True # HOG features on or off\n",
    "spatial_feat = False # Spatial features on or off\n",
    "hist_feat = False # Histogram features on or off\n",
    "\n",
    "# Feature detection parameters\n",
    "color_space = 'RGB' # Can be RGB, HSV, LUV, HLS, YUV, YCrCb\n",
    "spatial_size = (16, 16) # Spatial binning dimensions\n",
    "hist_bins = 24    # Number of histogram bins\n",
    "orient = 9  # HOG orientations\n",
    "pix_per_cell = 8 # HOG pixels per cell\n",
    "cell_per_block = 5 # HOG cells per block\n",
    "hog_channel = \"1\" # Can be 0, 1, 2, or \"ALL\"\n",
    "\n",
    "\n",
    "\n",
    "classifier_shape = (64,64) # Defines the image shape required for the classifier\n",
    "\n",
    "\n",
    "window_ratio = 1.5 # window ratio * window hight = window width"
   ]
  },
  {
   "cell_type": "markdown",
   "metadata": {},
   "source": [
    "## 0.3 Plotting functions"
   ]
  },
  {
   "cell_type": "code",
   "execution_count": 3,
   "metadata": {
    "collapsed": false
   },
   "outputs": [],
   "source": [
    "def load_image(image_path):\n",
    "    \"\"\"\n",
    "    Loads an image from \"image_path\" and returns image\n",
    "    \"\"\"    \n",
    "    return mpimg.imread(image_path)\n",
    "\n",
    "\n",
    "def plot_and_save_image(img, cmap_img = None, heading = None, save = False, save_path = None):\n",
    "    \"\"\"\n",
    "    Plots an image in this notebook and optionally saves it\n",
    "    Input:\n",
    "    img (np.array): Image to be plotted\n",
    "    cmap (str): Cmap for plotting if required\n",
    "    heading (str): Heading to be displayed above image\n",
    "    save (bool): Indicates whether image should be saved or not\n",
    "    save_path (str): Path to where the image should be saved\n",
    "    \"\"\"\n",
    "    plt.imshow(img, cmap = cmap_img)\n",
    "    plt.axis(\"off\")\n",
    "    if heading:\n",
    "        plt.title(\"{}\".format(heading))\n",
    "    plt.show\n",
    "    if save:\n",
    "        plt.imsave(save_path,img)\n",
    "    \n",
    "\n",
    "    \n",
    "def plot_and_save_n_images(imgs, cmaps, headings, save = False, save_path = None,\n",
    "                          images_per_column = 1, images_per_line = 2, figw = 8, figh = 4):\n",
    "    \"\"\"\n",
    "    Plots n images in this notebook and optionally saves the figure in one file\n",
    "    Input:\n",
    "    imgs (np.array): Image to be plotted\n",
    "    cmap (str): Cmap for plotting if required\n",
    "    heading (str): Heading to be displayed above image\n",
    "    save (bool): Indicates whether image should be saved or not\n",
    "    save_path (str): Path to where the image should be saved\n",
    "    \"\"\"\n",
    "    \n",
    "    fig, axes = plt.subplots(images_per_column,images_per_line,figsize = (figw,figh))\n",
    "    for i, ax in enumerate(axes.flat):\n",
    "        if i in range(len(imgs)):\n",
    "            ax.imshow(imgs[i],cmap = cmaps[i])\n",
    "            ax.axis(\"off\")\n",
    "            if headings[i]:\n",
    "                ax.set_title(\"{}\".format(headings[i]),fontsize = 15, fontweight='bold')\n",
    "        else:\n",
    "            ax.axis(\"off\")\n",
    "    plt.tight_layout()\n",
    "    plt.axis(\"off\")\n",
    "    if save:\n",
    "        fig.savefig(save_path)\n",
    "    plt.show()"
   ]
  },
  {
   "cell_type": "markdown",
   "metadata": {},
   "source": [
    "# 1 Create detection classifier (Histogram of Oriented Gradients (HOG))"
   ]
  },
  {
   "cell_type": "markdown",
   "metadata": {},
   "source": [
    "## 1.0 Helper functions for feature extraction"
   ]
  },
  {
   "cell_type": "code",
   "execution_count": 99,
   "metadata": {
    "collapsed": true
   },
   "outputs": [],
   "source": [
    "# Define a function to return HOG features and visualization\n",
    "def get_hog_features(img, orient, pix_per_cell, cell_per_block, \n",
    "                        vis=False, feature_vec=True):\n",
    "    # Call with two outputs if vis==True\n",
    "    if vis == True:\n",
    "        features, hog_image = hog(img, orientations=orient, \n",
    "                                  pixels_per_cell=(pix_per_cell, pix_per_cell),\n",
    "                                  cells_per_block=(cell_per_block, cell_per_block), \n",
    "                                  transform_sqrt=True, \n",
    "                                  visualise=vis, feature_vector=feature_vec)\n",
    "        return features, hog_image\n",
    "    # Otherwise call with one output\n",
    "    else:      \n",
    "        features = hog(img, orientations=orient, \n",
    "                       pixels_per_cell=(pix_per_cell, pix_per_cell),\n",
    "                       cells_per_block=(cell_per_block, cell_per_block), \n",
    "                       transform_sqrt=True, \n",
    "                       visualise=vis, feature_vector=feature_vec)\n",
    "        return features\n",
    "\n",
    "# Define a function to compute binned color features  \n",
    "def bin_spatial(img, size=(32, 32)):\n",
    "    # Use cv2.resize().ravel() to create the feature vector\n",
    "    features = cv2.resize(img, size).ravel() \n",
    "    # Return the feature vector\n",
    "    return features\n",
    "\n",
    "# Define a function to compute color histogram features \n",
    "# NEED TO CHANGE bins_range if reading .png files with mpimg!\n",
    "def color_hist(img, nbins=32, bins_range=(0, 256)):\n",
    "    # Compute the histogram of the color channels separately\n",
    "    channel1_hist = np.histogram(img[:,:,0], bins=nbins, range=bins_range)\n",
    "    channel2_hist = np.histogram(img[:,:,1], bins=nbins, range=bins_range)\n",
    "    channel3_hist = np.histogram(img[:,:,2], bins=nbins, range=bins_range)\n",
    "    # Concatenate the histograms into a single feature vector\n",
    "    hist_features = np.concatenate((channel1_hist[0], channel2_hist[0], channel3_hist[0]))\n",
    "    # Return the individual histograms, bin_centers and feature vector\n",
    "    return hist_features\n",
    "\n",
    "# Define a function to extract features from a list of images\n",
    "# Have this function call bin_spatial() and color_hist()\n",
    "def extract_features(imgs, color_space='RGB', spatial_size=(32, 32),\n",
    "                        hist_bins=32, orient=9, \n",
    "                        pix_per_cell=8, cell_per_block=2, hog_channel=0,\n",
    "                        spatial_feat=True, hist_feat=True, hog_feat=True, from_file = True):\n",
    "    # Create a list to append feature vectors to\n",
    "    features = []\n",
    "    # Iterate through the list of images\n",
    "    for file in imgs:\n",
    "        file_features = []\n",
    "        if from_file:\n",
    "            # Read in each one by one\n",
    "            image = mpimg.imread(file)\n",
    "        else:\n",
    "            image = file\n",
    "        # apply color conversion if other than 'RGB'\n",
    "        if color_space != 'RGB':\n",
    "            if color_space == 'HSV':\n",
    "                feature_image = cv2.cvtColor(image, cv2.COLOR_RGB2HSV)\n",
    "            elif color_space == 'LUV':\n",
    "                feature_image = cv2.cvtColor(image, cv2.COLOR_RGB2LUV)\n",
    "            elif color_space == 'HLS':\n",
    "                feature_image = cv2.cvtColor(image, cv2.COLOR_RGB2HLS)\n",
    "            elif color_space == 'YUV':\n",
    "                feature_image = cv2.cvtColor(image, cv2.COLOR_RGB2YUV)\n",
    "            elif color_space == 'YCrCb':\n",
    "                feature_image = cv2.cvtColor(image, cv2.COLOR_RGB2YCrCb)\n",
    "        else: feature_image = np.copy(image)      \n",
    "\n",
    "        if spatial_feat == True:\n",
    "            spatial_features = bin_spatial(feature_image, size=spatial_size)\n",
    "            file_features.append(spatial_features)\n",
    "        if hist_feat == True:\n",
    "            # Apply color_hist()\n",
    "            hist_features = color_hist(feature_image, nbins=hist_bins)\n",
    "            file_features.append(hist_features)\n",
    "        if hog_feat == True:\n",
    "        # Call get_hog_features() with vis=False, feature_vec=True\n",
    "            if hog_channel == 'ALL':\n",
    "                hog_features = []\n",
    "                for channel in range(feature_image.shape[2]):\n",
    "                    hog_features.append(get_hog_features(feature_image[:,:,channel], \n",
    "                                        orient, pix_per_cell, cell_per_block, \n",
    "                                        vis=False, feature_vec=True))\n",
    "                hog_features = np.ravel(hog_features)        \n",
    "            else:\n",
    "                hog_features = get_hog_features(feature_image[:,:,hog_channel], orient, \n",
    "                            pix_per_cell, cell_per_block, vis=False, feature_vec=True)\n",
    "            # Append the new feature vector to the features list\n",
    "            file_features.append(hog_features)\n",
    "        features.append(np.concatenate(file_features))\n",
    "    # Return list of feature vectors\n",
    "    return features"
   ]
  },
  {
   "cell_type": "markdown",
   "metadata": {},
   "source": [
    "## 1.1 Prepare classifier data"
   ]
  },
  {
   "cell_type": "code",
   "execution_count": 5,
   "metadata": {
    "collapsed": false,
    "scrolled": false
   },
   "outputs": [
    {
     "name": "stdout",
     "output_type": "stream",
     "text": [
      "Number of images with cars:\t8792\n",
      "Number of images without cars:\t8968\n",
      "Total number of images:\t17760\n"
     ]
    }
   ],
   "source": [
    "# Import pathes to vehicle and none-vehicle test images\n",
    "imgs_vehicle = glob.glob('labeled_data/vehicles/*/*.png')\n",
    "imgs_non_vehicle = glob.glob('labeled_data/non-vehicles/*/*.png')\n",
    "\n",
    "# Shuffle pathes\n",
    "imgs_vehicle = shuffle(imgs_vehicle,random_state = 100)\n",
    "imgs_non_vehicle = shuffle(imgs_non_vehicle, random_state = 100)\n",
    "print(\"Number of images with cars:\\t{}\\nNumber of images without cars:\\t{}\\nTotal number of images:\\t{}\".format(len(imgs_vehicle),len(imgs_non_vehicle),len(imgs_vehicle)+len(imgs_non_vehicle)))"
   ]
  },
  {
   "cell_type": "code",
   "execution_count": 6,
   "metadata": {
    "collapsed": false,
    "scrolled": true
   },
   "outputs": [
    {
     "data": {
      "image/png": "[encoded data removed]",
      "text/plain": [
       "<matplotlib.figure.Figure at 0x7f7c4a662710>"
      ]
     },
     "metadata": {},
     "output_type": "display_data"
    }
   ],
   "source": [
    "# Define example images\n",
    "with_car = load_image(imgs_vehicle[0])\n",
    "without_car = load_image(imgs_non_vehicle[0])\n",
    "imgs = (with_car, without_car)\n",
    "cmaps = (None,None)\n",
    "headings = (\"With car\",\"Without car\")\n",
    "save_path = \"output_images/01_classifier_images\"\n",
    "\n",
    "# Plot and save comparison of example images\n",
    "plot_and_save_n_images(imgs, cmaps, headings, save = True, save_path = save_path, \n",
    "                       images_per_column = 1, images_per_line = 2, figw = 8, figh = 4)"
   ]
  },
  {
   "cell_type": "markdown",
   "metadata": {},
   "source": [
    "## 1.2 Select features to be applied"
   ]
  },
  {
   "cell_type": "code",
   "execution_count": 7,
   "metadata": {
    "collapsed": false
   },
   "outputs": [
    {
     "data": {
      "image/png": "[encoded data removed]",
      "text/plain": [
       "<matplotlib.figure.Figure at 0x7f7c42abd5f8>"
      ]
     },
     "metadata": {},
     "output_type": "display_data"
    }
   ],
   "source": [
    "# Function to experiment with hog features\n",
    "def visualize_hog(img, hog_channel):\n",
    "    \"\"\"\n",
    "    Visualizes the hog_features based on the input image\n",
    "    Input:\n",
    "    img (np.array): Input image\n",
    "    hog_channel: Indicates which hog_channels to be displayed (Can be 0, 1, 2, or \"ALL\")\n",
    "    Output:\n",
    "    imgs (list of np.arrays): List of visualized images\n",
    "    cmaps (list of strings): Required cmaps for image display\n",
    "    headings (list of strings): List of desired heading for each image\n",
    "    \"\"\"    \n",
    "\n",
    "    vis = True\n",
    "    feature_vec = True\n",
    "            \n",
    "    # Initialize lists to take up parameters for all images to be visualized (already contains initial image)\n",
    "    imgs = [img]\n",
    "    cmaps = [None]\n",
    "    headings = [\"Start image\"]    \n",
    "    \n",
    "    # Add parameters for 0-image channel to lists\n",
    "    if hog_channel == 0 or hog_channel == \"ALL\":\n",
    "        imgs.append(img[:,:,0])\n",
    "        cmaps.append(\"gray\")\n",
    "        headings.append(\"Channel 0\")\n",
    "    # Add parameters for 1-image channel to lists\n",
    "    if hog_channel == 1 or hog_channel == \"ALL\":\n",
    "        imgs.append(img[:,:,1])\n",
    "        cmaps.append(\"gray\")\n",
    "        headings.append(\"Channel 1\")\n",
    "    # Add parameters for 2-image channel to lists\n",
    "    if hog_channel == 2 or hog_channel == \"ALL\":\n",
    "        imgs.append(img[:,:,2])\n",
    "        cmaps.append(\"gray\")\n",
    "        headings.append(\"Channel 2\")\n",
    "    # Add parameters for all-image channels (black and white image) to lists\n",
    "    if hog_channel == \"ALL\":\n",
    "        imgs.append(cv2.cvtColor(img, cv2.COLOR_RGB2GRAY))\n",
    "        cmaps.append(\"gray\")\n",
    "        headings.append(\"All\")\n",
    "\n",
    "    # Get image visualizations for all images in list\n",
    "    for i, img_obj in enumerate(imgs[1:]):\n",
    "        _, imgs[i+1] = get_hog_features(img_obj, orient, pix_per_cell, cell_per_block, \n",
    "                            vis=vis, feature_vec=feature_vec)\n",
    "        \n",
    "    return imgs, cmaps, headings\n",
    "\n",
    "# Define example image\n",
    "input_img = load_image(imgs_vehicle[100])\n",
    "\n",
    "# Additional function to convert image to different color space (only required if not RGB image)\n",
    "#input_img = cv2.cvtColor(input_img, cv2.COLOR_RGB2YCrCb)\n",
    "\n",
    "# Call hog_visualization function (see above)\n",
    "imgs, cmaps, headings = visualize_hog(input_img,\"ALL\")\n",
    "\n",
    "# Plot and save comparison of all visualized images\n",
    "save_path = \"output_images/02_hog_features_YCrCb\"\n",
    "plot_and_save_n_images(imgs, cmaps, headings, save = False, save_path = save_path, \n",
    "                       images_per_column = 2, images_per_line = 3, figw = 15, figh = 8)"
   ]
  },
  {
   "cell_type": "markdown",
   "metadata": {
    "collapsed": true
   },
   "source": [
    "Result: Empirical testing suggests best accuracy with minimum calculation time for RGB channel 1 (accuracy of classifier 0.949 vs accuracy for all color channels of 0.960; however only ~1/3 of calculation time"
   ]
  },
  {
   "cell_type": "markdown",
   "metadata": {},
   "source": [
    " ## 1.3 Create and preprocess feature vectors"
   ]
  },
  {
   "cell_type": "code",
   "execution_count": 8,
   "metadata": {
    "collapsed": false
   },
   "outputs": [
    {
     "name": "stdout",
     "output_type": "stream",
     "text": [
      "Features and labels were loaded from pickle files\n",
      "Shape of feature array:\t(17760, 3600)\n",
      "Shape of label array:\t(17760,)\n"
     ]
    }
   ],
   "source": [
    "import pickle\n",
    "\n",
    "try:\n",
    "    # Try to import features and labels from pickle file (if preprocessed earlier)    \n",
    "    with open(\"y_labels.p\",\"rb\") as y_labels:\n",
    "        y = pickle.load(y_labels)\n",
    "        \n",
    "    with open(\"X_features.p\",\"rb\") as X_features:\n",
    "        X = pickle.load(X_features)\n",
    "        \n",
    "    print(\"Features and labels were loaded from pickle files\")\n",
    "\n",
    "\n",
    "\n",
    "except:\n",
    "    # Generate label vector for vehicle and non-vehicle\n",
    "    vehicle_label = np.ones(len(imgs_vehicle))\n",
    "    non_vehicle_label = np.zeros(len(imgs_non_vehicle))\n",
    "\n",
    "    # Concatenate label vectors\n",
    "    y = np.concatenate((vehicle_label,non_vehicle_label))\n",
    "\n",
    "\n",
    "\n",
    "    # Generate feature vector\n",
    "\n",
    "    t1 = time.time()\n",
    "    # Extract feature vectors for both vehicle and non-vehicle images\n",
    "    vehicle_features = extract_features(imgs_vehicle, color_space = color_space, spatial_size = spatial_size,\n",
    "                                        hist_bins=hist_bins, orient=orient, pix_per_cell=pix_per_cell, \n",
    "                                        cell_per_block=cell_per_block, hog_channel=hog_channel,\n",
    "                                        spatial_feat=spatial_feat, hist_feat=hist_feat, hog_feat=hog_feat)\n",
    "    non_vehicle_features = extract_features(imgs_non_vehicle, color_space = color_space, spatial_size = spatial_size,\n",
    "                                            hist_bins=hist_bins, orient=orient,\n",
    "                                            pix_per_cell=pix_per_cell, cell_per_block=cell_per_block, \n",
    "                                            hog_channel=hog_channel, spatial_feat=spatial_feat, \n",
    "                                            hist_feat=hist_feat, hog_feat=hog_feat)\n",
    "    t2 = time.time()\n",
    "    print(\"Seconds to extract hog features: {:.2f}\".format(t2-t1))\n",
    "\n",
    "    # Create an array stack of feature vectors\n",
    "    X = np.concatenate((vehicle_features, non_vehicle_features),axis = 0).astype(np.float64)\n",
    "\n",
    "    # Fit a per-column scaler\n",
    "    X_scaler = StandardScaler().fit(X)\n",
    "\n",
    "    # Apply the scaler to X\n",
    "    X = X_scaler.transform(X)\n",
    "\n",
    "    # Dump variables in pickle files\n",
    "    with open(\"X_features.p\",\"wb\") as X_features:\n",
    "        pickle.dump(X, X_features)\n",
    "\n",
    "    with open(\"y_labels.p\",\"wb\") as y_labels:\n",
    "        pickle.dump(y,y_labels)\n",
    "        \n",
    "print(\"Shape of feature array:\\t{}\\nShape of label array:\\t{}\".format(X.shape,y.shape))"
   ]
  },
  {
   "cell_type": "code",
   "execution_count": 9,
   "metadata": {
    "collapsed": false
   },
   "outputs": [],
   "source": [
    "# Split up data into randomized training and test sets\n",
    "rand_state = np.random.randint(0, 100)\n",
    "X_train, X_test, y_train, y_test = train_test_split(\n",
    "    X, y, test_size=0.2, random_state=rand_state)"
   ]
  },
  {
   "cell_type": "markdown",
   "metadata": {},
   "source": [
    "## 1.4 Chose and train classifier (SVM)"
   ]
  },
  {
   "cell_type": "code",
   "execution_count": 10,
   "metadata": {
    "collapsed": false
   },
   "outputs": [
    {
     "name": "stdout",
     "output_type": "stream",
     "text": [
      "Classifier were loaded from pickel file.\n"
     ]
    }
   ],
   "source": [
    "try:\n",
    "    # Try to load classifier from pickle (if fitted earlier)\n",
    "    with open(\"classifier.p\",\"rb\") as cls:\n",
    "        svc = pickle.load(cls)\n",
    "    print(\"Classifier were loaded from pickel file.\")\n",
    "\n",
    "except:\n",
    "\n",
    "    # Define SVM classifier\n",
    "    svc = LinearSVC()\n",
    "\n",
    "    # Fit classifier\n",
    "    t1 = time.time()\n",
    "    svc.fit(X_train, y_train)\n",
    "    t2 = time.time()\n",
    "    print(\"Seconds to train classifier:\\t{:.2f}\".format(t2-t1))\n",
    "    \n",
    "    # Dump classifier in pickle file\n",
    "    with open(\"classifier.p\",\"wb\") as cls:\n",
    "        pickle.dump(svc,cls)"
   ]
  },
  {
   "cell_type": "code",
   "execution_count": 11,
   "metadata": {
    "collapsed": false,
    "scrolled": true
   },
   "outputs": [
    {
     "name": "stdout",
     "output_type": "stream",
     "text": [
      "Accuracy of current classifier:\t0.9854\n"
     ]
    }
   ],
   "source": [
    "# Evaluate classifier\n",
    "accuracy = svc.score(X_test, y_test)\n",
    "print(\"Accuracy of current classifier:\\t{:.4f}\".format(accuracy))"
   ]
  },
  {
   "cell_type": "code",
   "execution_count": 212,
   "metadata": {
    "collapsed": false
   },
   "outputs": [
    {
     "name": "stdout",
     "output_type": "stream",
     "text": [
      "[ 0.  0.  1.  0.  1.  1.  1.  0.  0.  0.  0.  1.  1.  1.  1.  0.  0.  0.\n",
      "  1.  1.  0.  0.  0.  1.  1.  1.  0.  0.  1.  1.  0.  0.  1.  1.  0.  0.\n",
      "  1.  1.  1.  0.  0.  0.  0.  1.  0.  0.  1.  0.  0.  1.  0.  0.  0.  0.\n",
      "  0.  0.  0.  1.  1.  0.  1.  0.  0.  0.  1.  0.  0.  0.  1.  1.  0.  1.\n",
      "  0.  1.  1.  1.  1.  0.  0.  1.  1.  0.  0.  1.  0.  0.  1.  1.  0.  0.\n",
      "  1.  1.  1.  1.  1.  0.  0.  0.  1.  0.  0.  0.  1.  1.  1.  0.  1.  1.\n",
      "  0.  1.  1.  0.  0.  0.  0.  0.  1.  1.  1.  0.  0.  1.  1.  0.  0.  0.\n",
      "  0.  0.  1.  1.  0.  1.  0.  1.  0.  0.  1.  1.  1.  1.  1.  0.  0.  1.\n",
      "  0.  0.  1.  1.  1.  0.  0.  0.  0.  1.  0.  0.  1.  1.  0.  0.  1.  1.\n",
      "  0.  0.  0.  0.  1.  0.  0.  0.  0.  0.  0.  1.  0.  0.  1.  1.  1.  0.\n",
      "  0.  0.  1.  0.  1.  0.  0.  1.  0.  1.  1.  1.  1.  0.  1.  0.  1.  1.\n",
      "  1.  1.  0.  1.  0.  0.  0.  1.  1.  1.  0.  0.  0.  0.  0.  0.  0.  1.\n",
      "  0.  0.  1.  1.  0.  1.  0.  0.  0.  1.  0.  1.  0.  1.  1.  0.  0.  0.\n",
      "  0.  0.  1.  0.  0.  0.  1.  1.  1.  0.  0.  0.  1.  1.  1.  1.  0.  0.\n",
      "  0.  1.  0.  1.  0.  1.  1.  0.  0.  1.  0.  0.  0.  0.  1.  1.  0.  0.\n",
      "  1.  1.  0.  1.  1.  1.  0.  0.  1.  1.  1.  0.  1.  1.  1.  0.  1.  0.\n",
      "  0.  0.  0.  0.  1.  0.  0.  0.  0.  0.  0.  1.]\n",
      "(3552, 3600)\n"
     ]
    },
    {
     "ename": "TypeError",
     "evalue": "Invalid dimensions for image data",
     "output_type": "error",
     "traceback": [
      "\u001b[0;31m---------------------------------------------------------------------------\u001b[0m",
      "\u001b[0;31mTypeError\u001b[0m                                 Traceback (most recent call last)",
      "\u001b[0;32m<ipython-input-212-904bcab4b4ff>\u001b[0m in \u001b[0;36m<module>\u001b[0;34m()\u001b[0m\n\u001b[1;32m      2\u001b[0m \u001b[0mprint\u001b[0m\u001b[0;34m(\u001b[0m\u001b[0msvc\u001b[0m\u001b[0;34m.\u001b[0m\u001b[0mpredict\u001b[0m\u001b[0;34m(\u001b[0m\u001b[0mX_test\u001b[0m\u001b[0;34m[\u001b[0m\u001b[0;36m0\u001b[0m\u001b[0;34m:\u001b[0m\u001b[0;36m300\u001b[0m\u001b[0;34m]\u001b[0m\u001b[0;34m)\u001b[0m\u001b[0;34m)\u001b[0m\u001b[0;34m\u001b[0m\u001b[0m\n\u001b[1;32m      3\u001b[0m \u001b[0mprint\u001b[0m\u001b[0;34m(\u001b[0m\u001b[0mX_test\u001b[0m\u001b[0;34m.\u001b[0m\u001b[0mshape\u001b[0m\u001b[0;34m)\u001b[0m\u001b[0;34m\u001b[0m\u001b[0m\n\u001b[0;32m----> 4\u001b[0;31m \u001b[0mplt\u001b[0m\u001b[0;34m.\u001b[0m\u001b[0mimshow\u001b[0m\u001b[0;34m(\u001b[0m\u001b[0mX_test\u001b[0m\u001b[0;34m[\u001b[0m\u001b[0mtest_number\u001b[0m\u001b[0;34m]\u001b[0m\u001b[0;34m)\u001b[0m\u001b[0;34m\u001b[0m\u001b[0m\n\u001b[0m",
      "\u001b[0;32m/home/wolfgang/anaconda3/envs/carnd-term1/lib/python3.5/site-packages/matplotlib/pyplot.py\u001b[0m in \u001b[0;36mimshow\u001b[0;34m(X, cmap, norm, aspect, interpolation, alpha, vmin, vmax, origin, extent, shape, filternorm, filterrad, imlim, resample, url, hold, data, **kwargs)\u001b[0m\n\u001b[1;32m   3156\u001b[0m                         \u001b[0mfilternorm\u001b[0m\u001b[0;34m=\u001b[0m\u001b[0mfilternorm\u001b[0m\u001b[0;34m,\u001b[0m \u001b[0mfilterrad\u001b[0m\u001b[0;34m=\u001b[0m\u001b[0mfilterrad\u001b[0m\u001b[0;34m,\u001b[0m\u001b[0;34m\u001b[0m\u001b[0m\n\u001b[1;32m   3157\u001b[0m                         \u001b[0mimlim\u001b[0m\u001b[0;34m=\u001b[0m\u001b[0mimlim\u001b[0m\u001b[0;34m,\u001b[0m \u001b[0mresample\u001b[0m\u001b[0;34m=\u001b[0m\u001b[0mresample\u001b[0m\u001b[0;34m,\u001b[0m \u001b[0murl\u001b[0m\u001b[0;34m=\u001b[0m\u001b[0murl\u001b[0m\u001b[0;34m,\u001b[0m \u001b[0mdata\u001b[0m\u001b[0;34m=\u001b[0m\u001b[0mdata\u001b[0m\u001b[0;34m,\u001b[0m\u001b[0;34m\u001b[0m\u001b[0m\n\u001b[0;32m-> 3158\u001b[0;31m                         **kwargs)\n\u001b[0m\u001b[1;32m   3159\u001b[0m     \u001b[0;32mfinally\u001b[0m\u001b[0;34m:\u001b[0m\u001b[0;34m\u001b[0m\u001b[0m\n\u001b[1;32m   3160\u001b[0m         \u001b[0max\u001b[0m\u001b[0;34m.\u001b[0m\u001b[0m_hold\u001b[0m \u001b[0;34m=\u001b[0m \u001b[0mwashold\u001b[0m\u001b[0;34m\u001b[0m\u001b[0m\n",
      "\u001b[0;32m/home/wolfgang/anaconda3/envs/carnd-term1/lib/python3.5/site-packages/matplotlib/__init__.py\u001b[0m in \u001b[0;36minner\u001b[0;34m(ax, *args, **kwargs)\u001b[0m\n\u001b[1;32m   1890\u001b[0m                     warnings.warn(msg % (label_namer, func.__name__),\n\u001b[1;32m   1891\u001b[0m                                   RuntimeWarning, stacklevel=2)\n\u001b[0;32m-> 1892\u001b[0;31m             \u001b[0;32mreturn\u001b[0m \u001b[0mfunc\u001b[0m\u001b[0;34m(\u001b[0m\u001b[0max\u001b[0m\u001b[0;34m,\u001b[0m \u001b[0;34m*\u001b[0m\u001b[0margs\u001b[0m\u001b[0;34m,\u001b[0m \u001b[0;34m**\u001b[0m\u001b[0mkwargs\u001b[0m\u001b[0;34m)\u001b[0m\u001b[0;34m\u001b[0m\u001b[0m\n\u001b[0m\u001b[1;32m   1893\u001b[0m         \u001b[0mpre_doc\u001b[0m \u001b[0;34m=\u001b[0m \u001b[0minner\u001b[0m\u001b[0;34m.\u001b[0m\u001b[0m__doc__\u001b[0m\u001b[0;34m\u001b[0m\u001b[0m\n\u001b[1;32m   1894\u001b[0m         \u001b[0;32mif\u001b[0m \u001b[0mpre_doc\u001b[0m \u001b[0;32mis\u001b[0m \u001b[0;32mNone\u001b[0m\u001b[0;34m:\u001b[0m\u001b[0;34m\u001b[0m\u001b[0m\n",
      "\u001b[0;32m/home/wolfgang/anaconda3/envs/carnd-term1/lib/python3.5/site-packages/matplotlib/axes/_axes.py\u001b[0m in \u001b[0;36mimshow\u001b[0;34m(self, X, cmap, norm, aspect, interpolation, alpha, vmin, vmax, origin, extent, shape, filternorm, filterrad, imlim, resample, url, **kwargs)\u001b[0m\n\u001b[1;32m   5116\u001b[0m                               resample=resample, **kwargs)\n\u001b[1;32m   5117\u001b[0m \u001b[0;34m\u001b[0m\u001b[0m\n\u001b[0;32m-> 5118\u001b[0;31m         \u001b[0mim\u001b[0m\u001b[0;34m.\u001b[0m\u001b[0mset_data\u001b[0m\u001b[0;34m(\u001b[0m\u001b[0mX\u001b[0m\u001b[0;34m)\u001b[0m\u001b[0;34m\u001b[0m\u001b[0m\n\u001b[0m\u001b[1;32m   5119\u001b[0m         \u001b[0mim\u001b[0m\u001b[0;34m.\u001b[0m\u001b[0mset_alpha\u001b[0m\u001b[0;34m(\u001b[0m\u001b[0malpha\u001b[0m\u001b[0;34m)\u001b[0m\u001b[0;34m\u001b[0m\u001b[0m\n\u001b[1;32m   5120\u001b[0m         \u001b[0;32mif\u001b[0m \u001b[0mim\u001b[0m\u001b[0;34m.\u001b[0m\u001b[0mget_clip_path\u001b[0m\u001b[0;34m(\u001b[0m\u001b[0;34m)\u001b[0m \u001b[0;32mis\u001b[0m \u001b[0;32mNone\u001b[0m\u001b[0;34m:\u001b[0m\u001b[0;34m\u001b[0m\u001b[0m\n",
      "\u001b[0;32m/home/wolfgang/anaconda3/envs/carnd-term1/lib/python3.5/site-packages/matplotlib/image.py\u001b[0m in \u001b[0;36mset_data\u001b[0;34m(self, A)\u001b[0m\n\u001b[1;32m    547\u001b[0m         if (self._A.ndim not in (2, 3) or\n\u001b[1;32m    548\u001b[0m                 (self._A.ndim == 3 and self._A.shape[-1] not in (3, 4))):\n\u001b[0;32m--> 549\u001b[0;31m             \u001b[0;32mraise\u001b[0m \u001b[0mTypeError\u001b[0m\u001b[0;34m(\u001b[0m\u001b[0;34m\"Invalid dimensions for image data\"\u001b[0m\u001b[0;34m)\u001b[0m\u001b[0;34m\u001b[0m\u001b[0m\n\u001b[0m\u001b[1;32m    550\u001b[0m \u001b[0;34m\u001b[0m\u001b[0m\n\u001b[1;32m    551\u001b[0m         \u001b[0mself\u001b[0m\u001b[0;34m.\u001b[0m\u001b[0m_imcache\u001b[0m \u001b[0;34m=\u001b[0m \u001b[0;32mNone\u001b[0m\u001b[0;34m\u001b[0m\u001b[0m\n",
      "\u001b[0;31mTypeError\u001b[0m: Invalid dimensions for image data"
     ]
    },
    {
     "data": {
      "image/png": "[encoded data removed]",
      "text/plain": [
       "<matplotlib.figure.Figure at 0x7f7c29521d68>"
      ]
     },
     "metadata": {},
     "output_type": "display_data"
    }
   ],
   "source": [
    "test_number = 1\n",
    "print(svc.predict(X_test[0:300]))\n",
    "print(X_test.shape)\n",
    "plt.imshow(X_test[test_number])"
   ]
  },
  {
   "cell_type": "markdown",
   "metadata": {},
   "source": [
    "# 2 Sliding Window Search"
   ]
  },
  {
   "cell_type": "markdown",
   "metadata": {},
   "source": [
    "To be implemented:\n",
    "- Only search through bottom half of the image\n",
    "- Perform min, max and intermediate scale search\n",
    "- Perform narrow window search close to the horizon and large window search close to the car"
   ]
  },
  {
   "cell_type": "markdown",
   "metadata": {},
   "source": [
    "## 2.1 Define windows"
   ]
  },
  {
   "cell_type": "code",
   "execution_count": 72,
   "metadata": {
    "collapsed": false,
    "scrolled": true
   },
   "outputs": [
    {
     "name": "stdout",
     "output_type": "stream",
     "text": [
      "Shape of test image array:\n",
      "(6, 720, 1280, 3)\n"
     ]
    }
   ],
   "source": [
    "# Read in test images\n",
    "\n",
    "# Get all test image names\n",
    "test_img_names = sorted(glob.glob('test_images/*.jpg'))\n",
    "\n",
    "# Load test images into np.array\n",
    "test_imgs = np.array([mpimg.imread(name) for name in test_img_names])\n",
    "    \n",
    "print(\"Shape of test image array:\\n{}\".format(test_imgs.shape))"
   ]
  },
  {
   "cell_type": "code",
   "execution_count": 73,
   "metadata": {
    "collapsed": true
   },
   "outputs": [],
   "source": [
    "# HYPERPARAMETERS\n",
    "y_start = 390\n",
    "y_stop = 610\n",
    "input_image_shape_x = 1280\n",
    "y_window_gap = 20 # Pixel gap between windows in y direction\n",
    "x_num_windows = 20 # Number of frames which will be distributed along the x-axis on one y level\n",
    "\n",
    "y_window_h_min = 30 # Number of pixels for the minimum window hight of the top frame (must not be larger than 2* \n",
    "                    # y_window_gap)"
   ]
  },
  {
   "cell_type": "code",
   "execution_count": 74,
   "metadata": {
    "collapsed": false
   },
   "outputs": [],
   "source": [
    "def plot_and_save_test_imgs(img, y_start,y_stop, rectangle = False, point_1 = None, point_2 = None, \n",
    "                            img_save = False, save_path = None):\n",
    "    \"\"\"\n",
    "    Enables display, adding of rectangled windows and saving of test images\n",
    "    \n",
    "    Input:\n",
    "    img (np.array): Test image to be plotted, (rectangled and saved). E.g. 'test_imgs[0]'\n",
    "    y_start (int): Starting pixel value of the new image in input image terms\n",
    "    y_stop (int): Ending pixel value of the new image in input image terms\n",
    "    rectangle (bool): Indicates, whether rectangle should be displayed on image\n",
    "    point_1 (tuple): First corner point for the rectangle\n",
    "    point_2 (tuple): Second corner point for the rectangle\n",
    "    img_save (bool): Indicates, whether image should be saved\n",
    "    save_path (str): Path for saving\n",
    "    \"\"\"\n",
    "    img_plt = np.copy(img[y_start:y_stop,:,:])\n",
    "    if rectangle:\n",
    "        cv2.rectangle(img_plt, point_1, point_2,(0,0,255),6)\n",
    "    plt.imshow(img_plt)\n",
    "    plt.axis(\"off\")\n",
    "    if img_save:\n",
    "        plt.imsave(save_path,img_plt)"
   ]
  },
  {
   "cell_type": "code",
   "execution_count": 174,
   "metadata": {
    "collapsed": false
   },
   "outputs": [
    {
     "data": {
      "image/png": "[encoded data removed]",
      "text/plain": [
       "<matplotlib.figure.Figure at 0x7f7c29859208>"
      ]
     },
     "metadata": {},
     "output_type": "display_data"
    }
   ],
   "source": [
    "# Test plot_and_save_test_imgs() function and print outputs\n",
    "plot_and_save_test_imgs(test_imgs[2], y_start,y_stop, rectangle = True, \n",
    "                        point_1 = (770, 10), point_2 = (815,110),img_save = True, save_path = \"test.png\")"
   ]
  },
  {
   "cell_type": "code",
   "execution_count": 175,
   "metadata": {
    "collapsed": false
   },
   "outputs": [],
   "source": [
    "def generate_window_pos_y(y_start, y_stop, y_window_gap):\n",
    "    \"\"\"\n",
    "    Defines number of window layers in y-direction and determines window positions in y-direction \n",
    "    according to the new image size\n",
    "    Input:\n",
    "    y_start (int): Starting pixel value of the new image in input image terms\n",
    "    y_stop (int): Ending pixel value of the new image in input image terms\n",
    "    y_window_gap (int): Desired gap between two window layers in y-direction\n",
    "    Output:\n",
    "    num_window_layers_y (int): Number of window layers in y-direction\n",
    "    window_positions_y (list): Window positions in y-direction\n",
    "    \"\"\"\n",
    "    \n",
    "    \n",
    "    if y_window_gap < y_window_h_min:\n",
    "        num_window_layers_y = (y_stop-y_start)//y_window_gap-1\n",
    "    else:\n",
    "        num_window_layers_y = (y_stop-y_start)//y_window_gap\n",
    "    first_position_y = y_stop-y_start   \n",
    "    window_positions_y = [first_position_y - i * y_window_gap for i in range(num_window_layers_y)]\n",
    "    \n",
    "    return num_window_layers_y, window_positions_y"
   ]
  },
  {
   "cell_type": "code",
   "execution_count": 176,
   "metadata": {
    "collapsed": false
   },
   "outputs": [
    {
     "name": "stdout",
     "output_type": "stream",
     "text": [
      "Number of layers in y-direction:\n",
      "10\n",
      "Window positions in y-direction:\n",
      "[220, 200, 180, 160, 140, 120, 100, 80, 60, 40]\n"
     ]
    }
   ],
   "source": [
    "# Test generate_window_pos_y() function and print outputs\n",
    "num_window_layers_y, window_positions_y = generate_window_pos_y(y_start, y_stop, y_window_gap)\n",
    "print(\"Number of layers in y-direction:\\n{}\".format(num_window_layers_y))\n",
    "print(\"Window positions in y-direction:\\n{}\".format(window_positions_y))"
   ]
  },
  {
   "cell_type": "markdown",
   "metadata": {},
   "source": [
    "#### To include in report:\n",
    "\n",
    "Looking at the images I realized that all cars no matter how far they were away ended on one y-level."
   ]
  },
  {
   "cell_type": "code",
   "execution_count": 177,
   "metadata": {
    "collapsed": false
   },
   "outputs": [],
   "source": [
    "def generate_window_sizes(num_window_layers_y,window_positions_y,y_window_h_min):\n",
    "    \"\"\"\n",
    "    Determines the window sizes in x- and y-direction on each y-layer\n",
    "    Input:\n",
    "    num_window_layers_y (int): Number of window layers in y-direction\n",
    "    window_positions_y (list): Window positions in y-direction\n",
    "    y_window_h_min (int): Number of pixels for the minimum window hight of the top frame \n",
    "                            (must not be larger than 2*y_window_gap)\n",
    "    Output:\n",
    "    window_sizes (list of tuples): First value in each tuple represents size in x-direction in pixel, \n",
    "                                    second value represents size in y-direction in pixel\n",
    "    window_sizes_x (list of int): List of window sizes in x-direction\n",
    "    window_sizes_y (list of int): List of window sizes in y-direction    \n",
    "    \"\"\"\n",
    "    \n",
    "    # Define y-value of top-line for all windows\n",
    "    window_top_all = window_positions_y[-1] - y_window_h_min\n",
    "    \n",
    "    # Define window sizes in y-direction\n",
    "    window_sizes_y = [window_positions_y[i] - window_top_all for i in range(num_window_layers_y)]\n",
    "\n",
    "    # Define window sizes in x-direction\n",
    "    window_sizes_x = [int(window_sizes_y[i] * window_ratio) for i in range(num_window_layers_y)]\n",
    "\n",
    "    # Concatenate x- and y-direction size of windows in one list of tuples\n",
    "    window_sizes = [(window_sizes_x[i],window_sizes_y[i]) for i in range(len(window_sizes_x))]\n",
    "\n",
    "    return window_sizes, window_sizes_x, window_sizes_y"
   ]
  },
  {
   "cell_type": "code",
   "execution_count": 178,
   "metadata": {
    "collapsed": false
   },
   "outputs": [
    {
     "name": "stdout",
     "output_type": "stream",
     "text": [
      "Window sizes:\n",
      "[(315, 210), (285, 190), (255, 170), (225, 150), (195, 130), (165, 110), (135, 90), (105, 70), (75, 50), (45, 30)]\n"
     ]
    }
   ],
   "source": [
    "# Test generate_window_sizes() function and print outputs\n",
    "window_sizes,_,_ = generate_window_sizes(num_window_layers_y,window_positions_y,y_window_h_min)\n",
    "print(\"Window sizes:\\n{}\".format(window_sizes))"
   ]
  },
  {
   "cell_type": "code",
   "execution_count": 179,
   "metadata": {
    "collapsed": false
   },
   "outputs": [],
   "source": [
    "def define_search_area_x(input_image_shape_x):\n",
    "    \"\"\"\n",
    "    Defines variable search area in x-direction based on y-level (hardcoded assumtion: above 110 y-pixel = \n",
    "    full image width, at 40 y-pixel = half of the image width, between 40 and 110 y-pixel = linear interpolation)\n",
    "    Input:\n",
    "    input_image_shape_x (int): Image width in pixel\n",
    "    search_area_x (list of tuple): List of tuple for search area in x-direction based on respective y-levels.\n",
    "                                    First value = left start of search area,\n",
    "                                    Second value = right start of search area    \n",
    "    \"\"\"\n",
    "\n",
    "    # Define search area for bottom half of image\n",
    "    search_area_x_bottom = [(0,input_image_shape_x) for i in range(5)]\n",
    "\n",
    "    # Define search area for the top line of the image\n",
    "    search_area_x_uppest = (int(input_image_shape_x/2-input_image_shape_x/4),int(input_image_shape_x/2+\n",
    "                                                                            input_image_shape_x/4))\n",
    "\n",
    "    # Define search area for the upper half of image\n",
    "    factor_left = (search_area_x_uppest[0]-0)/5\n",
    "    factor_right = (input_image_shape_x-search_area_x_uppest[1])/4\n",
    "    search_area_x_top = [(int(factor_left*i),int(input_image_shape_x-(factor_right*i))) for i in range(5)]\n",
    "\n",
    "    # Concatenate bottom and upper half search areas in x-direction based on y-level\n",
    "    search_area_x = search_area_x_bottom + search_area_x_top\n",
    "    \n",
    "    return search_area_x"
   ]
  },
  {
   "cell_type": "code",
   "execution_count": 180,
   "metadata": {
    "collapsed": false
   },
   "outputs": [
    {
     "name": "stdout",
     "output_type": "stream",
     "text": [
      "[(0, 1280), (0, 1280), (0, 1280), (0, 1280), (0, 1280), (0, 1280), (64, 1200), (128, 1120), (192, 1040), (256, 960)]\n"
     ]
    }
   ],
   "source": [
    "# Test define_search_area_x()) function and print outputs\n",
    "search_area_x = define_search_area_x(input_image_shape_x)\n",
    "print(search_area_x)"
   ]
  },
  {
   "cell_type": "code",
   "execution_count": 181,
   "metadata": {
    "collapsed": false
   },
   "outputs": [],
   "source": [
    "def def_window_positions(window_positions_y, window_sizes, search_area_x):\n",
    "    \"\"\"\n",
    "    Define window positions (x- and y-values)\n",
    "    Input:\n",
    "    window_positions_y (list): Window positions in y-direction\n",
    "    window_sizes (list of tuples): First value in each tuple represents size in x-direction in pixel, \n",
    "                                    second value represents size in y-direction in pixel\n",
    "    search_area_x (list of tuple): List of tuple for search area in x-direction based on respective y-levels.\n",
    "                                    First value = left start of search area,\n",
    "                                    Second value = right start of search area\n",
    "    Output:\n",
    "    window_positions (list of tuple of tuples): Returns a list of tuples with one tuple for each window. Each\n",
    "                                                tuple contains two tuples representing the two points required\n",
    "                                                to define the window.\n",
    "    \"\"\"\n",
    "\n",
    "    window_positions = []\n",
    "\n",
    "    for i,pos_y in enumerate(window_positions_y):\n",
    "        x_size_tmp = search_area_x[i][1] - search_area_x[i][0]\n",
    "        window_slide = (x_size_tmp-window_sizes[i][0])//(x_num_windows-1)\n",
    "        lb_y = pos_y\n",
    "        rt_y = pos_y - window_sizes[i][1]\n",
    "        for j in range(x_num_windows):\n",
    "            lb_x = int(search_area_x[i][0] + j * window_slide)\n",
    "            rt_x = int(search_area_x[i][0] + window_sizes[i][0] + j * window_slide)\n",
    "            window_positions.append(((lb_x,lb_y),(rt_x,rt_y)))\n",
    "    return window_positions"
   ]
  },
  {
   "cell_type": "code",
   "execution_count": 182,
   "metadata": {
    "collapsed": false
   },
   "outputs": [
    {
     "name": "stdout",
     "output_type": "stream",
     "text": [
      "((0, 220), (315, 10))\n"
     ]
    },
    {
     "data": {
      "image/png": "[encoded data removed]",
      "text/plain": [
       "<matplotlib.figure.Figure at 0x7f7c2996d128>"
      ]
     },
     "metadata": {},
     "output_type": "display_data"
    }
   ],
   "source": [
    "# Test indow_positions() function and print example output\n",
    "window_positions = def_window_positions(window_positions_y, window_sizes, search_area_x)        \n",
    "print(window_positions[0])\n",
    "\n",
    "plot_and_save_test_imgs(test_imgs[2], y_start, y_stop, rectangle = True, \n",
    "                        point_1 = window_positions[119][0], point_2 = window_positions[119][1],\n",
    "                        img_save = True, save_path = \"test2.png\")"
   ]
  },
  {
   "cell_type": "markdown",
   "metadata": {},
   "source": [
    "## 2.2 Get features for windows"
   ]
  },
  {
   "cell_type": "code",
   "execution_count": 183,
   "metadata": {
    "collapsed": true
   },
   "outputs": [],
   "source": [
    "def assemble_and_resize_windows(img, window_positions, y_start = y_start, y_stop = y_stop,\n",
    "                                classifier_shape = classifier_shape):\n",
    "    img = img[y_start:y_stop,:,:]\n",
    "    window_imgs = []\n",
    "        \n",
    "    for position in window_positions:\n",
    "        tmp_img = img[position[1][1]:position[0][1],position[0][0]:position[1][0],:]\n",
    "        tmp_img = cv2.resize(tmp_img,dsize=classifier_shape)\n",
    "        window_imgs.append(tmp_img)\n",
    "        \n",
    "        \n",
    "    return np.array(window_imgs)"
   ]
  },
  {
   "cell_type": "code",
   "execution_count": 184,
   "metadata": {
    "collapsed": false
   },
   "outputs": [
    {
     "name": "stdout",
     "output_type": "stream",
     "text": [
      "(200, 64, 64, 3)\n"
     ]
    }
   ],
   "source": [
    "window_imgs = assemble_and_resize_windows(test_imgs[2], window_positions=window_positions)\n",
    "\n",
    "print(window_imgs.shape)"
   ]
  },
  {
   "cell_type": "code",
   "execution_count": 185,
   "metadata": {
    "collapsed": false
   },
   "outputs": [
    {
     "data": {
      "text/plain": [
       "<matplotlib.image.AxesImage at 0x7f7c29ab95f8>"
      ]
     },
     "execution_count": 185,
     "metadata": {},
     "output_type": "execute_result"
    },
    {
     "data": {
      "image/png": "[encoded data removed]",
      "text/plain": [
       "<matplotlib.figure.Figure at 0x7f7c2992c898>"
      ]
     },
     "metadata": {},
     "output_type": "display_data"
    }
   ],
   "source": [
    "example = window_imgs[27]\n",
    "\n",
    "plt.imshow(example)\n",
    "#svc.predict(example)"
   ]
  },
  {
   "cell_type": "code",
   "execution_count": 204,
   "metadata": {
    "collapsed": true
   },
   "outputs": [],
   "source": [
    "def get_window_features(imgs, color_space = color_space, spatial_size = spatial_size,\n",
    "                 hist_bins=hist_bins, orient=orient, pix_per_cell=pix_per_cell,cell_per_block=cell_per_block,\n",
    "                 hog_channel=hog_channel, spatial_feat=spatial_feat, hist_feat=hist_feat, hog_feat=hog_feat):\n",
    "    window_features = extract_features(imgs,color_space,spatial_size,hist_bins,orient,pix_per_cell,\n",
    "                                       cell_per_block, hog_channel,spatial_feat,hist_feat,hog_feat,\n",
    "                                       from_file = False)\n",
    "    \n",
    "    window_features = np.array(window_features).astype(np.float64)\n",
    "    \n",
    "    # Fit a per-column scaler\n",
    "    window_scaler = StandardScaler().fit(window_features)\n",
    "\n",
    "    # Apply the scaler to X\n",
    "    windows_scaled = window_scaler.transform(window_features)\n",
    "    \n",
    "    return windows_scaled"
   ]
  },
  {
   "cell_type": "code",
   "execution_count": 205,
   "metadata": {
    "collapsed": false
   },
   "outputs": [
    {
     "name": "stderr",
     "output_type": "stream",
     "text": [
      "/home/wolfgang/anaconda3/envs/carnd-term1/lib/python3.5/site-packages/ipykernel/__main__.py:87: VisibleDeprecationWarning: using a non-integer number instead of an integer will result in an error in the future\n"
     ]
    }
   ],
   "source": [
    "windows_scaled = get_window_features(window_imgs)"
   ]
  },
  {
   "cell_type": "code",
   "execution_count": 206,
   "metadata": {
    "collapsed": true
   },
   "outputs": [],
   "source": [
    "def make_prediction(windows_scaled):\n",
    "    prediction = svc.predict(windows_scaled)\n",
    "    return prediction"
   ]
  },
  {
   "cell_type": "code",
   "execution_count": 207,
   "metadata": {
    "collapsed": false
   },
   "outputs": [
    {
     "name": "stdout",
     "output_type": "stream",
     "text": [
      "[ 1.  1.  1.  1.  1.  0.  0.  0.  0.  0.  0.  1.  1.  0.  0.  1.  0.  0.\n",
      "  0.  0.  1.  0.  1.  0.  0.  0.  0.  0.  0.  0.  0.  1.  1.  0.  0.  1.\n",
      "  0.  0.  0.  0.  1.  1.  1.  1.  0.  0.  0.  0.  0.  0.  0.  1.  0.  0.\n",
      "  0.  0.  0.  0.  0.  0.  0.  1.  0.  1.  0.  1.  0.  0.  0.  0.  0.  1.\n",
      "  1.  0.  0.  0.  0.  0.  0.  1.  0.  0.  0.  1.  1.  0.  0.  1.  0.  0.\n",
      "  0.  0.  0.  0.  1.  1.  0.  1.  0.  0.  0.  0.  1.  0.  1.  1.  0.  1.\n",
      "  1.  0.  0.  0.  1.  0.  1.  1.  1.  0.  0.  1.  0.  0.  1.  0.  0.  0.\n",
      "  1.  0.  1.  0.  0.  1.  1.  0.  0.  1.  0.  1.  1.  1.  0.  1.  0.  0.\n",
      "  1.  0.  1.  0.  1.  0.  0.  0.  1.  1.  1.  0.  1.  1.  1.  0.  1.  1.\n",
      "  1.  1.  0.  1.  1.  1.  0.  0.  0.  0.  0.  1.  1.  0.  0.  1.  1.  1.\n",
      "  1.  1.  1.  1.  1.  1.  1.  1.  1.  1.  0.  1.  1.  1.  1.  0.  0.  0.\n",
      "  0.  1.]\n"
     ]
    }
   ],
   "source": [
    "x=make_prediction(windows_scaled)\n",
    "print(x)"
   ]
  },
  {
   "cell_type": "code",
   "execution_count": 208,
   "metadata": {
    "collapsed": false
   },
   "outputs": [
    {
     "name": "stdout",
     "output_type": "stream",
     "text": [
      "1.0\n"
     ]
    },
    {
     "data": {
      "text/plain": [
       "(-0.5, 63.5, 63.5, -0.5)"
      ]
     },
     "execution_count": 208,
     "metadata": {},
     "output_type": "execute_result"
    },
    {
     "data": {
      "image/png": "[encoded data removed]",
      "text/plain": [
       "<matplotlib.figure.Figure at 0x7f7c295e2ef0>"
      ]
     },
     "metadata": {},
     "output_type": "display_data"
    }
   ],
   "source": [
    "num = 1\n",
    "example = window_imgs[num]\n",
    "print(x[num])\n",
    "#feature_test = get_window_features(example)\n",
    "\n",
    "plt.imshow(example)\n",
    "plt.axis(\"off\")\n",
    "#svc.predict(feature_test)"
   ]
  },
  {
   "cell_type": "code",
   "execution_count": null,
   "metadata": {
    "collapsed": true
   },
   "outputs": [],
   "source": []
  },
  {
   "cell_type": "code",
   "execution_count": null,
   "metadata": {
    "collapsed": true
   },
   "outputs": [],
   "source": []
  },
  {
   "cell_type": "code",
   "execution_count": null,
   "metadata": {
    "collapsed": true
   },
   "outputs": [],
   "source": [
    "    vehicle_features = extract_features(imgs_vehicle, color_space = color_space, spatial_size = spatial_size,\n",
    "                                        hist_bins=hist_bins, orient=orient, pix_per_cell=pix_per_cell, \n",
    "                                        cell_per_block=cell_per_block, hog_channel=hog_channel,\n",
    "                                        spatial_feat=spatial_feat, hist_feat=hist_feat, hog_feat=hog_feat)\n",
    "    non_vehicle_features = extract_features(imgs_non_vehicle, color_space = color_space, spatial_size = spatial_size,\n",
    "                                            hist_bins=hist_bins, orient=orient,\n",
    "                                            pix_per_cell=pix_per_cell, cell_per_block=cell_per_block, \n",
    "                                            hog_channel=hog_channel, spatial_feat=spatial_feat, \n",
    "                                            hist_feat=hist_feat, hog_feat=hog_feat)\n",
    "    t2 = time.time()\n",
    "    print(\"Seconds to extract hog features: {:.2f}\".format(t2-t1))\n",
    "\n",
    "    # Create an array stack of feature vectors\n",
    "    X = np.concatenate((vehicle_features, non_vehicle_features),axis = 0).astype(np.float64)\n",
    "\n",
    "    # Fit a per-column scaler\n",
    "    X_scaler = StandardScaler().fit(X)\n",
    "\n",
    "    # Apply the scaler to X\n",
    "    X = X_scaler.transform(X)"
   ]
  },
  {
   "cell_type": "code",
   "execution_count": null,
   "metadata": {
    "collapsed": true
   },
   "outputs": [],
   "source": []
  },
  {
   "cell_type": "code",
   "execution_count": null,
   "metadata": {
    "collapsed": true
   },
   "outputs": [],
   "source": []
  },
  {
   "cell_type": "code",
   "execution_count": 43,
   "metadata": {
    "collapsed": false,
    "scrolled": true
   },
   "outputs": [],
   "source": [
    "def resize_and_extract_img_feat(img, classifier_shape = classifier_shape ,hog_channel = hog_channel, orient = orient, pix_per_cell = pix_per_cell,\n",
    "                                cell_per_block = cell_per_block, vis=False, feature_vec=True):\n",
    "    \"\"\"\n",
    "    Resizes single image of any size and extracts the hog-features\n",
    "    \n",
    "    Output:\n",
    "    Image features ready for classifier predicition\n",
    "    \"\"\"\n",
    "    \n",
    "    # Resize image\n",
    "    img = cv2.resize(img,dsize=classifier_shape)\n",
    "    \n",
    "    # Isolate color channel\n",
    "    img = img[:,:,hog_channel]\n",
    "\n",
    "    # Generate color features\n",
    "    img_features = get_hog_features(img, orient, pix_per_cell, cell_per_block, \n",
    "                        vis=False, feature_vec=True)\n",
    "    \n",
    "    return img_features, img"
   ]
  },
  {
   "cell_type": "code",
   "execution_count": 46,
   "metadata": {
    "collapsed": false
   },
   "outputs": [],
   "source": [
    "# Build all features for windows of an image\n",
    "def get_img_features(img, window_positions, y_start, y_stop):\n",
    "    img = img[y_start:y_stop,:,:]\n",
    "    window_features = []\n",
    "    \n",
    "    # To be removed\n",
    "    window_imgs = []\n",
    "    \n",
    "    for position in window_positions:\n",
    "        tmp_img = img[position[1][1]:position[0][1],position[0][0]:position[1][0],:]\n",
    "        \n",
    "        # To be removed when img is removed\n",
    "        img_features, tmp_img = resize_and_extract_img_feat(tmp_img)\n",
    "        window_imgs.append(tmp_img)\n",
    "        \n",
    "        \n",
    "        window_features.append(img_features)\n",
    "    \n",
    "    # To be removed\n",
    "    window_imgs = np.array(window_imgs)\n",
    "    \n",
    "    window_features = np.array(window_features)\n",
    "    return window_features, window_imgs"
   ]
  },
  {
   "cell_type": "code",
   "execution_count": 47,
   "metadata": {
    "collapsed": false,
    "scrolled": true
   },
   "outputs": [
    {
     "name": "stderr",
     "output_type": "stream",
     "text": [
      "/home/wolfgang/anaconda3/envs/carnd-term1/lib/python3.5/site-packages/ipykernel/__main__.py:14: VisibleDeprecationWarning: using a non-integer number instead of an integer will result in an error in the future\n"
     ]
    },
    {
     "name": "stdout",
     "output_type": "stream",
     "text": [
      "(200, 3600)\n",
      "(200, 64, 64)\n"
     ]
    }
   ],
   "source": [
    "window_features, window_imgs = get_img_features(test_imgs[0], window_positions,y_start=y_start, y_stop=y_stop)\n",
    "print(window_features.shape)\n",
    "print(window_imgs.shape)"
   ]
  },
  {
   "cell_type": "markdown",
   "metadata": {},
   "source": [
    "## 2.3 Fit images and make prediction"
   ]
  },
  {
   "cell_type": "code",
   "execution_count": 35,
   "metadata": {
    "collapsed": false
   },
   "outputs": [],
   "source": [
    "def fit_scaler_and_classify(window_features):\n",
    "    # Fit a per-column scaler\n",
    "    #X_scaler = StandardScaler().fit(window_features)\n",
    "\n",
    "    # Apply the scaler to X\n",
    "    #scaled = X_scaler.transform(window_features)\n",
    "    \n",
    "    prediction = svc.predict(window_features)\n",
    "    return prediction"
   ]
  },
  {
   "cell_type": "code",
   "execution_count": 36,
   "metadata": {
    "collapsed": false
   },
   "outputs": [
    {
     "name": "stdout",
     "output_type": "stream",
     "text": [
      "[ 1.  1.  1.  1.  1.  1.  1.  0.  1.  0.  0.  1.  1.  1.  1.  1.  1.  1.\n",
      "  1.  1.  1.  1.  1.  1.  1.  1.  1.  1.  1.  0.  0.  1.  1.  1.  1.  1.\n",
      "  1.  1.  1.  1.  1.  1.  1.  1.  1.  1.  1.  1.  0.  0.  1.  1.  1.  1.\n",
      "  1.  1.  1.  1.  1.  1.  1.  1.  1.  1.  1.  1.  1.  1.  0.  0.  1.  1.\n",
      "  1.  1.  1.  1.  1.  1.  1.  1.  1.  1.  1.  1.  1.  1.  1.  1.  1.  0.\n",
      "  1.  1.  1.  1.  1.  1.  1.  1.  1.  1.  1.  1.  1.  1.  1.  1.  1.  1.\n",
      "  1.  0.  0.  1.  1.  1.  1.  1.  1.  1.  1.  1.  1.  1.  1.  1.  1.  1.\n",
      "  1.  1.  1.  1.  0.  1.  1.  1.  1.  1.  1.  1.  1.  1.  1.  1.  1.  1.\n",
      "  1.  1.  1.  1.  1.  1.  1.  1.  1.  1.  1.  1.  1.  1.  1.  1.  1.  1.\n",
      "  1.  1.  1.  1.  1.  1.  1.  1.  1.  1.  1.  1.  1.  1.  1.  1.  1.  1.\n",
      "  1.  1.  1.  1.  1.  1.  1.  1.  1.  1.  1.  1.  1.  1.  1.  1.  1.  1.\n",
      "  1.  1.]\n"
     ]
    }
   ],
   "source": [
    "prediction = fit_scaler_and_classify(window_features)\n",
    "print(prediction[:])"
   ]
  },
  {
   "cell_type": "code",
   "execution_count": 31,
   "metadata": {
    "collapsed": true
   },
   "outputs": [],
   "source": [
    "def draw_windows_on_image(img, window_positions, prediction,y_start,y_stop, img_save = False, save_path = None):\n",
    "    img_plt = img[y_start:y_stop,:,:]\n",
    "    for position, pred in zip(window_positions,prediction):\n",
    "        if pred:\n",
    "            cv2.rectangle(img_plt, position[0], position[1],(0,0,255),6)\n",
    "    plt.imshow(img_plt)\n",
    "    plt.axis(\"off\")\n",
    "    if img_save:\n",
    "        plt.imsave(save_path,img_plt)"
   ]
  },
  {
   "cell_type": "code",
   "execution_count": 32,
   "metadata": {
    "collapsed": false
   },
   "outputs": [
    {
     "data": {
      "image/png": "[encoded data removed]",
      "text/plain": [
       "<matplotlib.figure.Figure at 0x7f7c28ca5cc0>"
      ]
     },
     "metadata": {},
     "output_type": "display_data"
    }
   ],
   "source": [
    "draw_windows_on_image(test_imgs[0], window_positions,prediction, y_start=y_start, y_stop=y_stop, \n",
    "                      img_save = True, save_path = \"test3.png\")   "
   ]
  },
  {
   "cell_type": "code",
   "execution_count": null,
   "metadata": {
    "collapsed": true
   },
   "outputs": [],
   "source": []
  },
  {
   "cell_type": "code",
   "execution_count": null,
   "metadata": {
    "collapsed": false
   },
   "outputs": [],
   "source": [
    "try_img = draw_on\n",
    "try_img = try_img[10:120,120:285,:]\n",
    "print(try_img.shape)\n",
    "\n",
    "try_img = resize_and_extract_img_feat(try_img)\n",
    "\n",
    "\n",
    "#plt.imshow(try_img)\n",
    "svc.predict(try_img)"
   ]
  },
  {
   "cell_type": "code",
   "execution_count": null,
   "metadata": {
    "collapsed": true
   },
   "outputs": [],
   "source": [
    "# Extract windows from image\n",
    "\n",
    "\n",
    "for window in window_positions:\n",
    "    "
   ]
  },
  {
   "cell_type": "code",
   "execution_count": null,
   "metadata": {
    "collapsed": true
   },
   "outputs": [],
   "source": []
  },
  {
   "cell_type": "code",
   "execution_count": null,
   "metadata": {
    "collapsed": true
   },
   "outputs": [],
   "source": []
  },
  {
   "cell_type": "code",
   "execution_count": null,
   "metadata": {
    "collapsed": true
   },
   "outputs": [],
   "source": []
  },
  {
   "cell_type": "code",
   "execution_count": null,
   "metadata": {
    "collapsed": true
   },
   "outputs": [],
   "source": []
  },
  {
   "cell_type": "code",
   "execution_count": null,
   "metadata": {
    "collapsed": true
   },
   "outputs": [],
   "source": []
  },
  {
   "cell_type": "code",
   "execution_count": null,
   "metadata": {
    "collapsed": true
   },
   "outputs": [],
   "source": [
    "# Define a single function that can extract features using hog sub-sampling and make predictions based on only\n",
    "# 1 color channel\n",
    "color_channel = 1\n",
    "y_start = 340\n",
    "y_stop = 660\n",
    "\n",
    "\n",
    "\n",
    "\n",
    "# If res\n",
    "\n",
    "def identify_cars_1c(img,color_channel, y_start, y_stop, orient, pix_per_cell, cell_per_block):\n",
    "    \"\"\"    \n",
    "    Input:\n",
    "    img (np.array): 3-channel image to be screened for cars. If image needs to transferred to another \n",
    "                    color channel or should be rescaled this needs to be performed before handover to \n",
    "                    this function\n",
    "    color_channel (int): Number from 0 to 2 to indicate color channel to be selected\n",
    "    y_start (int): Starting pixel value for search in image in y-direction\n",
    "    y_stop (int): Ending pixel value for search in image in y-direction\n",
    "    orient, pix_per_cell, cell_per_block: Hog image hyperparameters as defined in beginning of this notebook\n",
    "    \n",
    "    \"\"\"\n",
    "    # Create image copy with 3 color channels to write on\n",
    "    draw_img = np.copy(img)    \n",
    "    \n",
    "    # Isolate selected color channel\n",
    "    img = img[:,:,color_channel]\n",
    "    \n",
    "    # Normalize image\n",
    "    img = img.astype(np.float32)/255\n",
    "    \n",
    "    \"\"\"\n",
    "    # Create image search area\n",
    "    img_tosearch = img[y_start:y_stop,:]\n",
    "    \n",
    "    # Define overall hog for the image\n",
    "    hog = get_hog_features(img_tosearch, orient, pix_per_cell, cell_per_block, feature_vec=False)\n",
    "    \"\"\"\n",
    "    \n",
    "    # Create image search areas\n",
    "    \n",
    "    \n",
    "    \n",
    "    \n",
    "    \n",
    "    \n",
    "    \n",
    "    \n",
    "    # Create image search areas between \n",
    "    \n",
    "    \n",
    "    \n",
    "    "
   ]
  },
  {
   "cell_type": "code",
   "execution_count": null,
   "metadata": {
    "collapsed": true
   },
   "outputs": [],
   "source": [
    "#Now lets explore a more efficient method for doing the sliding window approach, \n",
    "# one that allows us to only have to extract the Hog features once. \n",
    "\n",
    "import matplotlib.image as mpimg\n",
    "import matplotlib.pyplot as plt\n",
    "import numpy as np\n",
    "import pickle\n",
    "import cv2\n",
    "from lesson_functions import *\n",
    "\n",
    "dist_pickle = pickle.load( open(\"svc_pickle.p\", \"rb\" ) )\n",
    "svc = dist_pickle[\"svc\"]\n",
    "X_scaler = dist_pickle[\"scaler\"]\n",
    "orient = dist_pickle[\"orient\"]\n",
    "pix_per_cell = dist_pickle[\"pix_per_cell\"]\n",
    "cell_per_block = dist_pickle[\"cell_per_block\"]\n",
    "spatial_size = dist_pickle[\"spatial_size\"]\n",
    "hist_bins = dist_pickle[\"hist_bins\"]\n",
    "\n",
    "img = mpimg.imread('test_image.jpg')\n",
    "\n",
    "# Define a single function that can extract features using hog sub-sampling and make predictions \n",
    "def find_cars(img, y_start, y_stop, scale, svc, X_scaler, orient, pix_per_cell, cell_per_block, \n",
    "              spatial_size, hist_bins):\n",
    "    \n",
    "    draw_img = np.copy(img)\n",
    "    img = img.astype(np.float32)/255\n",
    "    \n",
    "    img_tosearch = img[y_start:y_stop,:,:]\n",
    "    # One of next two lines required, depending wheter color channel is RGB or another one\n",
    "    #ctrans_tosearch = convert_color(img_tosearch, conv='RGB2YCrCb')\n",
    "    ctrans_tosearch = img_tosearch\n",
    "    if scale != 1:\n",
    "        imshape = ctrans_tosearch.shape\n",
    "        ctrans_tosearch = cv2.resize(ctrans_tosearch, (np.int(imshape[1]/scale), np.int(imshape[0]/scale)))\n",
    "        \n",
    "    ch1 = ctrans_tosearch[:,:,0]\n",
    "    ch2 = ctrans_tosearch[:,:,1]\n",
    "    ch3 = ctrans_tosearch[:,:,2]\n",
    "\n",
    "    # Define blocks and steps as above\n",
    "    nxblocks = (ch1.shape[1] // pix_per_cell)-1\n",
    "    nyblocks = (ch1.shape[0] // pix_per_cell)-1 \n",
    "    nfeat_per_block = orient*cell_per_block**2\n",
    "    # 64 was the orginal sampling rate, with 8 cells and 8 pix per cell\n",
    "    window = 64\n",
    "    nblocks_per_window = (window // pix_per_cell)-1 \n",
    "    cells_per_step = 2  # Instead of overlap, define how many cells to step\n",
    "    nxsteps = (nxblocks - nblocks_per_window) // cells_per_step\n",
    "    nysteps = (nyblocks - nblocks_per_window) // cells_per_step\n",
    "    \n",
    "    # Compute individual channel HOG features for the entire image\n",
    "    hog1 = get_hog_features(ch1, orient, pix_per_cell, cell_per_block, feature_vec=False)\n",
    "    hog2 = get_hog_features(ch2, orient, pix_per_cell, cell_per_block, feature_vec=False)\n",
    "    hog3 = get_hog_features(ch3, orient, pix_per_cell, cell_per_block, feature_vec=False)\n",
    "    \n",
    "    for xb in range(nxsteps):\n",
    "        for yb in range(nysteps):\n",
    "            ypos = yb*cells_per_step\n",
    "            xpos = xb*cells_per_step\n",
    "            # Extract HOG for this patch\n",
    "            hog_feat1 = hog1[ypos:ypos+nblocks_per_window, xpos:xpos+nblocks_per_window].ravel() \n",
    "            hog_feat2 = hog2[ypos:ypos+nblocks_per_window, xpos:xpos+nblocks_per_window].ravel() \n",
    "            hog_feat3 = hog3[ypos:ypos+nblocks_per_window, xpos:xpos+nblocks_per_window].ravel() \n",
    "            hog_features = np.hstack((hog_feat1, hog_feat2, hog_feat3))\n",
    "\n",
    "            xleft = xpos*pix_per_cell\n",
    "            ytop = ypos*pix_per_cell\n",
    "\n",
    "            # Extract the image patch\n",
    "            subimg = cv2.resize(ctrans_tosearch[ytop:ytop+window, xleft:xleft+window], (64,64))\n",
    "          \n",
    "            # Get color features\n",
    "            spatial_features = bin_spatial(subimg, size=spatial_size)\n",
    "            hist_features = color_hist(subimg, nbins=hist_bins)\n",
    "\n",
    "            # Scale features and make a prediction\n",
    "            test_features = X_scaler.transform(np.hstack((spatial_features, hist_features, hog_features)).reshape(1, -1))    \n",
    "            #test_features = X_scaler.transform(np.hstack((shape_feat, hist_feat)).reshape(1, -1))    \n",
    "            test_prediction = svc.predict(test_features)\n",
    "            \n",
    "            if test_prediction == 1:\n",
    "                xbox_left = np.int(xleft*scale)\n",
    "                ytop_draw = np.int(ytop*scale)\n",
    "                win_draw = np.int(window*scale)\n",
    "                cv2.rectangle(draw_img,(xbox_left, ytop_draw+y_start),(xbox_left+win_draw,ytop_draw+win_draw+y_start),(0,0,255),6) \n",
    "                \n",
    "    return draw_img\n",
    "    \n",
    "y_start = 400\n",
    "y_stop = 656\n",
    "scale = 1.5\n",
    "    \n",
    "out_img = find_cars(img, y_start, y_stop, scale, svc, X_scaler, orient, pix_per_cell, cell_per_block, spatial_size, hist_bins)\n",
    "\n",
    "plt.imshow(out_img)"
   ]
  },
  {
   "cell_type": "code",
   "execution_count": null,
   "metadata": {
    "collapsed": true
   },
   "outputs": [],
   "source": [
    "# Define a function that takes an image,\n",
    "# start and stop positions in both x and y, \n",
    "# window size (x and y dimensions),  \n",
    "# and overlap fraction (for both x and y)\n",
    "def slide_window(img, x_start_stop=[None, None], y_start_stop=[None, None], \n",
    "                    xy_window=(64, 64), xy_overlap=(0.5, 0.5)):\n",
    "    # If x and/or y start/stop positions not defined, set to image size\n",
    "    if x_start_stop[0] == None:\n",
    "        x_start_stop[0] = 0\n",
    "    if x_start_stop[1] == None:\n",
    "        x_start_stop[1] = img.shape[1]\n",
    "    if y_start_stop[0] == None:\n",
    "        y_start_stop[0] = 0\n",
    "    if y_start_stop[1] == None:\n",
    "        y_start_stop[1] = img.shape[0]\n",
    "    # Compute the span of the region to be searched    \n",
    "    xspan = x_start_stop[1] - x_start_stop[0]\n",
    "    yspan = y_start_stop[1] - y_start_stop[0]\n",
    "    # Compute the number of pixels per step in x/y\n",
    "    nx_pix_per_step = np.int(xy_window[0]*(1 - xy_overlap[0]))\n",
    "    ny_pix_per_step = np.int(xy_window[1]*(1 - xy_overlap[1]))\n",
    "    # Compute the number of windows in x/y\n",
    "    nx_buffer = np.int(xy_window[0]*(xy_overlap[0]))\n",
    "    ny_buffer = np.int(xy_window[1]*(xy_overlap[1]))\n",
    "    nx_windows = np.int((xspan-nx_buffer)/nx_pix_per_step) \n",
    "    ny_windows = np.int((yspan-ny_buffer)/ny_pix_per_step) \n",
    "    # Initialize a list to append window positions to\n",
    "    window_list = []\n",
    "    # Loop through finding x and y window positions\n",
    "    # Note: you could vectorize this step, but in practice\n",
    "    # you'll be considering windows one by one with your\n",
    "    # classifier, so looping makes sense\n",
    "    for ys in range(ny_windows):\n",
    "        for xs in range(nx_windows):\n",
    "            # Calculate window position\n",
    "            startx = xs*nx_pix_per_step + x_start_stop[0]\n",
    "            endx = startx + xy_window[0]\n",
    "            starty = ys*ny_pix_per_step + y_start_stop[0]\n",
    "            endy = starty + xy_window[1]\n",
    "            # Append window position to list\n",
    "            window_list.append(((startx, starty), (endx, endy)))\n",
    "    # Return the list of windows\n",
    "    return window_list\n",
    "\n",
    "# Define a function to draw bounding boxes\n",
    "def draw_boxes(img, bboxes, color=(0, 0, 255), thick=6):\n",
    "    # Make a copy of the image\n",
    "    imcopy = np.copy(img)\n",
    "    # Iterate through the bounding boxes\n",
    "    for bbox in bboxes:\n",
    "        # Draw a rectangle given bbox coordinates\n",
    "        cv2.rectangle(imcopy, bbox[0], bbox[1], color, thick)\n",
    "    # Return the image copy with boxes drawn\n",
    "    return imcopy"
   ]
  },
  {
   "cell_type": "code",
   "execution_count": null,
   "metadata": {
    "collapsed": true
   },
   "outputs": [],
   "source": [
    "# Define a function to extract features from a single image window\n",
    "# This function is very similar to extract_features()\n",
    "# just for a single image rather than list of images\n",
    "def single_img_features(img, color_space='RGB', spatial_size=(32, 32),\n",
    "                        hist_bins=32, orient=9, \n",
    "                        pix_per_cell=8, cell_per_block=2, hog_channel=0,\n",
    "                        spatial_feat=True, hist_feat=True, hog_feat=True):    \n",
    "    #1) Define an empty list to receive features\n",
    "    img_features = []\n",
    "    #2) Apply color conversion if other than 'RGB'\n",
    "    if color_space != 'RGB':\n",
    "        if color_space == 'HSV':\n",
    "            feature_image = cv2.cvtColor(img, cv2.COLOR_RGB2HSV)\n",
    "        elif color_space == 'LUV':\n",
    "            feature_image = cv2.cvtColor(img, cv2.COLOR_RGB2LUV)\n",
    "        elif color_space == 'HLS':\n",
    "            feature_image = cv2.cvtColor(img, cv2.COLOR_RGB2HLS)\n",
    "        elif color_space == 'YUV':\n",
    "            feature_image = cv2.cvtColor(img, cv2.COLOR_RGB2YUV)\n",
    "        elif color_space == 'YCrCb':\n",
    "            feature_image = cv2.cvtColor(img, cv2.COLOR_RGB2YCrCb)\n",
    "    else: feature_image = np.copy(img)      \n",
    "    #3) Compute spatial features if flag is set\n",
    "    if spatial_feat == True:\n",
    "        spatial_features = bin_spatial(feature_image, size=spatial_size)\n",
    "        #4) Append features to list\n",
    "        img_features.append(spatial_features)\n",
    "    #5) Compute histogram features if flag is set\n",
    "    if hist_feat == True:\n",
    "        hist_features = color_hist(feature_image, nbins=hist_bins)\n",
    "        #6) Append features to list\n",
    "        img_features.append(hist_features)\n",
    "    #7) Compute HOG features if flag is set\n",
    "    if hog_feat == True:\n",
    "        if hog_channel == 'ALL':\n",
    "            hog_features = []\n",
    "            for channel in range(feature_image.shape[2]):\n",
    "                hog_features.extend(get_hog_features(feature_image[:,:,channel], \n",
    "                                    orient, pix_per_cell, cell_per_block, \n",
    "                                    vis=False, feature_vec=True))      \n",
    "        else:\n",
    "            hog_features = get_hog_features(feature_image[:,:,hog_channel], orient, \n",
    "                        pix_per_cell, cell_per_block, vis=False, feature_vec=True)\n",
    "        #8) Append features to list\n",
    "        img_features.append(hog_features)\n",
    "\n",
    "    #9) Return concatenated array of features\n",
    "    return np.concatenate(img_features)\n",
    "\n",
    "# Define a function you will pass an image \n",
    "# and the list of windows to be searched (output of slide_windows())\n",
    "def search_windows(img, windows, clf, scaler, color_space='RGB', \n",
    "                    spatial_size=(32, 32), hist_bins=32, \n",
    "                    hist_range=(0, 256), orient=9, \n",
    "                    pix_per_cell=8, cell_per_block=2, \n",
    "                    hog_channel=0, spatial_feat=True, \n",
    "                    hist_feat=True, hog_feat=True):\n",
    "\n",
    "    #1) Create an empty list to receive positive detection windows\n",
    "    on_windows = []\n",
    "    #2) Iterate over all windows in the list\n",
    "    for window in windows:\n",
    "        #3) Extract the test window from original image\n",
    "        test_img = cv2.resize(img[window[0][1]:window[1][1], window[0][0]:window[1][0]], (64, 64))      \n",
    "        #4) Extract features for that window using single_img_features()\n",
    "        features = single_img_features(test_img, color_space=color_space, \n",
    "                            spatial_size=spatial_size, hist_bins=hist_bins, \n",
    "                            orient=orient, pix_per_cell=pix_per_cell, \n",
    "                            cell_per_block=cell_per_block, \n",
    "                            hog_channel=hog_channel, spatial_feat=spatial_feat, \n",
    "                            hist_feat=hist_feat, hog_feat=hog_feat)\n",
    "        #5) Scale extracted features to be fed to classifier\n",
    "        test_features = scaler.transform(np.array(features).reshape(1, -1))\n",
    "        #6) Predict using your classifier\n",
    "        prediction = clf.predict(test_features)\n",
    "        #7) If positive (prediction == 1) then save the window\n",
    "        if prediction == 1:\n",
    "            on_windows.append(window)\n",
    "    #8) Return windows for positive detections\n",
    "    return on_windows\n",
    "    \n",
    "    \n",
    "# Read in cars and notcars\n",
    "images = glob.glob('*.jpeg')\n",
    "cars = []\n",
    "notcars = []\n",
    "for image in images:\n",
    "    if 'image' in image or 'extra' in image:\n",
    "        notcars.append(image)\n",
    "    else:\n",
    "        cars.append(image)\n",
    "\n",
    "# Reduce the sample size because\n",
    "# The quiz evaluator times out after 13s of CPU time\n",
    "sample_size = 500\n",
    "cars = cars[0:sample_size]\n",
    "notcars = notcars[0:sample_size]\n",
    "\n",
    "### TODO: Tweak these parameters and see how the results change.\n",
    "color_space = 'LUV' # Can be RGB, HSV, LUV, HLS, YUV, YCrCb\n",
    "orient = 9  # HOG orientations\n",
    "pix_per_cell = 16 # HOG pixels per cell\n",
    "cell_per_block = 2 # HOG cells per block\n",
    "hog_channel = 0 # Can be 0, 1, 2, or \"ALL\"\n",
    "spatial_size = (16, 16) # Spatial binning dimensions\n",
    "hist_bins = 16    # Number of histogram bins\n",
    "spatial_feat = True # Spatial features on or off\n",
    "hist_feat = True # Histogram features on or off\n",
    "hog_feat = True # HOG features on or off\n",
    "y_start_stop = [None, None] # Min and max in y to search in slide_window()\n",
    "\n",
    "car_features = extract_features(cars, color_space=color_space, \n",
    "                        spatial_size=spatial_size, hist_bins=hist_bins, \n",
    "                        orient=orient, pix_per_cell=pix_per_cell, \n",
    "                        cell_per_block=cell_per_block, \n",
    "                        hog_channel=hog_channel, spatial_feat=spatial_feat, \n",
    "                        hist_feat=hist_feat, hog_feat=hog_feat)\n",
    "notcar_features = extract_features(notcars, color_space=color_space, \n",
    "                        spatial_size=spatial_size, hist_bins=hist_bins, \n",
    "                        orient=orient, pix_per_cell=pix_per_cell, \n",
    "                        cell_per_block=cell_per_block, \n",
    "                        hog_channel=hog_channel, spatial_feat=spatial_feat, \n",
    "                        hist_feat=hist_feat, hog_feat=hog_feat)\n",
    "\n",
    "X = np.vstack((car_features, notcar_features)).astype(np.float64)                        \n",
    "# Fit a per-column scaler\n",
    "X_scaler = StandardScaler().fit(X)\n",
    "# Apply the scaler to X\n",
    "scaled_X = X_scaler.transform(X)\n",
    "\n",
    "# Define the labels vector\n",
    "y = np.hstack((np.ones(len(car_features)), np.zeros(len(notcar_features))))\n",
    "\n",
    "\n",
    "# Split up data into randomized training and test sets\n",
    "rand_state = np.random.randint(0, 100)\n",
    "X_train, X_test, y_train, y_test = train_test_split(\n",
    "    scaled_X, y, test_size=0.2, random_state=rand_state)\n",
    "\n",
    "print('Using:',orient,'orientations',pix_per_cell,\n",
    "    'pixels per cell and', cell_per_block,'cells per block')\n",
    "print('Feature vector length:', len(X_train[0]))\n",
    "# Use a linear SVC \n",
    "svc = LinearSVC()\n",
    "# Check the training time for the SVC\n",
    "t=time.time()\n",
    "svc.fit(X_train, y_train)\n",
    "t2 = time.time()\n",
    "print(round(t2-t, 2), 'Seconds to train SVC...')\n",
    "# Check the score of the SVC\n",
    "print('Test Accuracy of SVC = ', round(svc.score(X_test, y_test), 4))\n",
    "# Check the prediction time for a single sample\n",
    "t=time.time()\n",
    "\n",
    "image = mpimg.imread('bbox-example-image.jpg')\n",
    "draw_image = np.copy(image)\n",
    "\n",
    "# Uncomment the following line if you extracted training\n",
    "# data from .png images (scaled 0 to 1 by mpimg) and the\n",
    "# image you are searching is a .jpg (scaled 0 to 255)\n",
    "#image = image.astype(np.float32)/255\n",
    "\n",
    "windows = slide_window(image, x_start_stop=[None, None], y_start_stop=y_start_stop, \n",
    "                    xy_window=(96, 96), xy_overlap=(0.5, 0.5))\n",
    "\n",
    "hot_windows = search_windows(image, windows, svc, X_scaler, color_space=color_space, \n",
    "                        spatial_size=spatial_size, hist_bins=hist_bins, \n",
    "                        orient=orient, pix_per_cell=pix_per_cell, \n",
    "                        cell_per_block=cell_per_block, \n",
    "                        hog_channel=hog_channel, spatial_feat=spatial_feat, \n",
    "                        hist_feat=hist_feat, hog_feat=hog_feat)                       \n",
    "\n",
    "window_img = draw_boxes(draw_image, hot_windows, color=(0, 0, 255), thick=6)                    \n",
    "\n",
    "plt.imshow(window_img)"
   ]
  },
  {
   "cell_type": "markdown",
   "metadata": {},
   "source": [
    "# 3 Video Implementation"
   ]
  },
  {
   "cell_type": "markdown",
   "metadata": {},
   "source": [
    "## 3.1 Define class to hold values of previous detections"
   ]
  },
  {
   "cell_type": "markdown",
   "metadata": {},
   "source": [
    "## 3.2 Define function for identifying and filetring false positives"
   ]
  },
  {
   "cell_type": "code",
   "execution_count": null,
   "metadata": {
    "collapsed": true
   },
   "outputs": [],
   "source": [
    "import matplotlib.image as mpimg\n",
    "import matplotlib.pyplot as plt\n",
    "import numpy as np\n",
    "import pickle\n",
    "import cv2\n",
    "from scipy.ndimage.measurements import label\n",
    "\n",
    "# Read in a pickle file with bboxes saved\n",
    "# Each item in the \"all_bboxes\" list will contain a \n",
    "# list of boxes for one of the images shown above\n",
    "box_list = pickle.load( open( \"bbox_pickle.p\", \"rb\" ))\n",
    "\n",
    "# Read in image similar to one shown above \n",
    "image = mpimg.imread('test_image.jpg')\n",
    "heat = np.zeros_like(image[:,:,0]).astype(np.float)\n",
    "\n",
    "def add_heat(heatmap, bbox_list):\n",
    "    # Iterate through list of bboxes\n",
    "    for box in bbox_list:\n",
    "        # Add += 1 for all pixels inside each bbox\n",
    "        # Assuming each \"box\" takes the form ((x1, y1), (x2, y2))\n",
    "        heatmap[box[0][1]:box[1][1], box[0][0]:box[1][0]] += 1\n",
    "\n",
    "    # Return updated heatmap\n",
    "    return heatmap# Iterate through list of bboxes\n",
    "    \n",
    "def apply_threshold(heatmap, threshold):\n",
    "    # Zero out pixels below the threshold\n",
    "    heatmap[heatmap <= threshold] = 0\n",
    "    # Return thresholded map\n",
    "    return heatmap\n",
    "\n",
    "def draw_labeled_bboxes(img, labels):\n",
    "    # Iterate through all detected cars\n",
    "    for car_number in range(1, labels[1]+1):\n",
    "        # Find pixels with each car_number label value\n",
    "        nonzero = (labels[0] == car_number).nonzero()\n",
    "        # Identify x and y values of those pixels\n",
    "        nonzeroy = np.array(nonzero[0])\n",
    "        nonzerox = np.array(nonzero[1])\n",
    "        # Define a bounding box based on min/max x and y\n",
    "        bbox = ((np.min(nonzerox), np.min(nonzeroy)), (np.max(nonzerox), np.max(nonzeroy)))\n",
    "        # Draw the box on the image\n",
    "        cv2.rectangle(img, bbox[0], bbox[1], (0,0,255), 6)\n",
    "    # Return the image\n",
    "    return img\n",
    "\n",
    "# Add heat to each box in box list\n",
    "heat = add_heat(heat,box_list)\n",
    "    \n",
    "# Apply threshold to help remove false positives\n",
    "heat = apply_threshold(heat,1)\n",
    "\n",
    "# Visualize the heatmap when displaying    \n",
    "heatmap = np.clip(heat, 0, 255)\n",
    "\n",
    "# Find final boxes from heatmap using label function\n",
    "labels = label(heatmap)\n",
    "draw_img = draw_labeled_bboxes(np.copy(image), labels)\n",
    "\n",
    "fig = plt.figure()\n",
    "plt.subplot(121)\n",
    "plt.imshow(draw_img)\n",
    "plt.title('Car Positions')\n",
    "plt.subplot(122)\n",
    "plt.imshow(heatmap, cmap='hot')\n",
    "plt.title('Heat Map')\n",
    "fig.tight_layout()"
   ]
  },
  {
   "cell_type": "markdown",
   "metadata": {},
   "source": [
    "## 3.3 Define function for overlapping bounding boxes"
   ]
  },
  {
   "cell_type": "markdown",
   "metadata": {},
   "source": [
    "## 3.4 Apply pipeline on video stream"
   ]
  },
  {
   "cell_type": "code",
   "execution_count": null,
   "metadata": {
    "collapsed": true
   },
   "outputs": [],
   "source": []
  }
 ],
 "metadata": {
  "anaconda-cloud": {},
  "kernelspec": {
   "display_name": "Python [conda env:carnd-term1]",
   "language": "python",
   "name": "conda-env-carnd-term1-py"
  },
  "language_info": {
   "codemirror_mode": {
    "name": "ipython",
    "version": 3
   },
   "file_extension": ".py",
   "mimetype": "text/x-python",
   "name": "python",
   "nbconvert_exporter": "python",
   "pygments_lexer": "ipython3",
   "version": "3.5.2"
  }
 },
 "nbformat": 4,
 "nbformat_minor": 1
}
