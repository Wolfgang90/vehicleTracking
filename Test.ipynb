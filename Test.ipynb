{
 "cells": [
  {
   "cell_type": "code",
   "execution_count": 1,
   "metadata": {
    "collapsed": true
   },
   "outputs": [],
   "source": [
    "import matplotlib.image as mpimg\n",
    "import matplotlib.pyplot as plt\n",
    "%matplotlib inline\n",
    "import numpy as np\n",
    "import cv2\n",
    "from sklearn.svm import LinearSVC\n",
    "from sklearn.preprocessing import StandardScaler\n",
    "from sklearn.svm import LinearSVC\n",
    "from sklearn.model_selection import train_test_split\n",
    "from sklearn.utils import shuffle\n",
    "from skimage.feature import hog\n",
    "import glob\n",
    "import time\n",
    "import pickle"
   ]
  },
  {
   "cell_type": "code",
   "execution_count": 2,
   "metadata": {
    "collapsed": true
   },
   "outputs": [],
   "source": [
    "# HYPERPARAMETERS\n",
    "\n",
    "# Hog features\n",
    "orient=9\n",
    "pix_per_cell=8\n",
    "cell_per_block=2\n",
    "hog_channel=1\n",
    "classifier_shape = (64,64) # Defines the image shape required for the classifier\n",
    "\n",
    "\n",
    "\n",
    "\n",
    "y_start = 390\n",
    "y_stop = 610\n",
    "input_image_shape_x = 1280\n",
    "y_window_gap = 20 # Pixel gap between windows in y direction\n",
    "x_num_windows = 20 # Number of frames which will be distributed along the x-axis on one y level\n",
    "\n",
    "y_window_h_min = 30 # Number of pixels for the minimum window hight of the top frame (must not be larger than 2* \n",
    "                    # y_window_gap)\n",
    "\n",
    "window_ratio = 1.5 # window ratio * window hight = window width\n",
    "\n"
   ]
  },
  {
   "cell_type": "markdown",
   "metadata": {},
   "source": [
    "# 1 Create detection classifier (Histogram of Oriented Gradients (HOG))"
   ]
  },
  {
   "cell_type": "markdown",
   "metadata": {},
   "source": [
    "## 1.1 Initialize images and labels"
   ]
  },
  {
   "cell_type": "code",
   "execution_count": 3,
   "metadata": {
    "collapsed": false
   },
   "outputs": [
    {
     "name": "stdout",
     "output_type": "stream",
     "text": [
      "Shape of feature array:\t(17760, 64, 64, 3)\n",
      "Shape of label array:\t(17760,)\n"
     ]
    }
   ],
   "source": [
    "# Load images\n",
    "try:\n",
    "    with open(\"X_images.p\",\"wb\") as X_features:\n",
    "        X = pickle.load(X_features)\n",
    "    with open(\"y_labels.p\",\"wb\") as y_labels:\n",
    "        y = pickle.load(y_labels)\n",
    "    print(\"Images were loaded from pickle file\")\n",
    "\n",
    "except:\n",
    "    imgs_vehicle = glob.glob('labeled_data/vehicles/*/*.png')\n",
    "    imgs_non_vehicle = glob.glob('labeled_data/non-vehicles/*/*.png')\n",
    "\n",
    "    # Define y values\n",
    "    y = np.concatenate((np.ones(len(imgs_vehicle)),np.zeros(len(imgs_non_vehicle))))\n",
    "\n",
    "    X_veh = [mpimg.imread(image_path) for image_path in imgs_vehicle]\n",
    "    X_n_veh = [mpimg.imread(image_path) for image_path in imgs_non_vehicle]\n",
    "\n",
    "    X = np.concatenate((X_veh,X_n_veh))\n",
    "    \n",
    "    with open(\"X_images.p\",\"wb\") as X_features:\n",
    "        pickle.dump(X, X_features)\n",
    "    with open(\"y_labels.p\",\"wb\") as y_labels:\n",
    "        pickle.dump(y,y_labels)\n",
    "        \n",
    "        \n",
    "print(\"Shape of feature array:\\t{}\\nShape of label array:\\t{}\".format(X.shape,y.shape))"
   ]
  },
  {
   "cell_type": "code",
   "execution_count": 4,
   "metadata": {
    "collapsed": true
   },
   "outputs": [],
   "source": [
    "# Shuffle images\n",
    "X,y = shuffle(X,y)"
   ]
  },
  {
   "cell_type": "markdown",
   "metadata": {},
   "source": [
    "## 1.2 Extract image features"
   ]
  },
  {
   "cell_type": "code",
   "execution_count": 5,
   "metadata": {
    "collapsed": true
   },
   "outputs": [],
   "source": [
    "# Define a function to extract hog-features from a list of images\n",
    "def extract_features(imgs, orient, pix_per_cell, cell_per_block, hog_channel, classifier_shape):\n",
    "    # Create a list to append feature vectors to\n",
    "    features = []\n",
    "    # Iterate through the list of images\n",
    "    for img in imgs:\n",
    "        img = cv2.resize(img,dsize=classifier_shape)/255\n",
    "        hog_features = hog(img[:,:,hog_channel], orientations=orient,\n",
    "                                        pixels_per_cell=(pix_per_cell, pix_per_cell), \n",
    "                                        cells_per_block=(cell_per_block, cell_per_block), \n",
    "                                        transform_sqrt=True, visualise=False, feature_vector=True)\n",
    "            \n",
    "        # Append the new feature vector to the features list\n",
    "        features.append(hog_features)\n",
    "    # Return list of feature vectors\n",
    "    return features"
   ]
  },
  {
   "cell_type": "code",
   "execution_count": 6,
   "metadata": {
    "collapsed": false
   },
   "outputs": [],
   "source": [
    "# Extract features\n",
    "try:\n",
    "    with open(\"X_features.p\",\"rb\") as X_feat:\n",
    "        X_features = pickle.load(X_feat)\n",
    "    print(\"Features were loaded from pickle file\")\n",
    "except:\n",
    "    X_features = extract_features(X,orient, pix_per_cell, cell_per_block, hog_channel,classifier_shape)\n",
    "    with open(\"X_features.p\",\"wb\") as X_feat:\n",
    "        pickle.dump(X, X_feat)"
   ]
  },
  {
   "cell_type": "markdown",
   "metadata": {},
   "source": [
    "## 1.3 Initialize training and testing data"
   ]
  },
  {
   "cell_type": "code",
   "execution_count": 7,
   "metadata": {
    "collapsed": false
   },
   "outputs": [],
   "source": [
    "# Perform split in train and test data\n",
    "X_train, X_test, y_train, y_test = train_test_split (X_features,y,test_size = 0.2)"
   ]
  },
  {
   "cell_type": "markdown",
   "metadata": {},
   "source": [
    "## 1.4 Fit and test classifier (SVM)"
   ]
  },
  {
   "cell_type": "code",
   "execution_count": 8,
   "metadata": {
    "collapsed": false
   },
   "outputs": [
    {
     "name": "stdout",
     "output_type": "stream",
     "text": [
      "Seconds to train classifier:\t3.55\n"
     ]
    }
   ],
   "source": [
    "# Create classifier\n",
    "\n",
    "try:\n",
    "    # Try to load classifier from pickle (if fitted earlier)\n",
    "    with open(\"classifier.p\",\"rb\") as cls:\n",
    "        svc = pickle.load(cls)\n",
    "    print(\"Classifier were loaded from pickel file.\")\n",
    "    \n",
    "except:\n",
    "\n",
    "    # Define SVM classifier\n",
    "    svc = LinearSVC()\n",
    "\n",
    "    # Fit classifier\n",
    "    t1 = time.time()\n",
    "    svc.fit(X_train, y_train)\n",
    "    t2 = time.time()\n",
    "    print(\"Seconds to train classifier:\\t{:.2f}\".format(t2-t1))\n",
    "    \n",
    "    # Dump classifier in pickle file\n",
    "    with open(\"classifier.p\",\"wb\") as cls:\n",
    "        pickle.dump(svc,cls)"
   ]
  },
  {
   "cell_type": "code",
   "execution_count": 9,
   "metadata": {
    "collapsed": false
   },
   "outputs": [
    {
     "name": "stdout",
     "output_type": "stream",
     "text": [
      "Accuracy of current classifier:\t0.9693\n"
     ]
    }
   ],
   "source": [
    "# Evaluate classifier\n",
    "accuracy = svc.score(X_test, y_test)\n",
    "print(\"Accuracy of current classifier:\\t{:.4f}\".format(accuracy))"
   ]
  },
  {
   "cell_type": "code",
   "execution_count": null,
   "metadata": {
    "collapsed": true
   },
   "outputs": [],
   "source": []
  },
  {
   "cell_type": "code",
   "execution_count": 12,
   "metadata": {
    "collapsed": false
   },
   "outputs": [],
   "source": [
    "imgs_test_case = glob.glob('labeled_data/vehicles/GTI_Far/*.png')\n",
    "X_test_case = [mpimg.imread(image_path) for image_path in imgs_test_case]\n",
    "X_test_features = extract_features(X_test_case,orient, pix_per_cell, cell_per_block, \n",
    "                                   hog_channel,classifier_shape)"
   ]
  },
  {
   "cell_type": "code",
   "execution_count": 13,
   "metadata": {
    "collapsed": false
   },
   "outputs": [
    {
     "name": "stdout",
     "output_type": "stream",
     "text": [
      "[ 1.  1.  1.  1.  1.  1.  1.  1.  1.  1.  1.  1.  1.  1.  1.  1.  1.  1.\n",
      "  1.  1.  1.  1.  1.  1.  1.  1.  1.  1.  1.  1.  1.  1.  0.  1.  1.  1.\n",
      "  1.  1.  1.  1.  1.  1.  1.  1.  1.  1.  1.  1.  1.  1.  1.  1.  1.  1.\n",
      "  1.  1.  1.  1.  1.  1.  1.  1.  1.  1.  1.  1.  1.  1.  1.  0.  1.  1.\n",
      "  1.  1.  1.  1.  1.  1.  1.  1.  0.  1.  1.  1.  1.  1.  1.  1.  1.  1.\n",
      "  1.  1.  1.  1.  1.  1.  1.  1.  1.  1.]\n"
     ]
    }
   ],
   "source": [
    "test_predict = svc.predict(X_test_features)\n",
    "\n",
    "print(test_predict[:100])"
   ]
  },
  {
   "cell_type": "markdown",
   "metadata": {},
   "source": [
    "# 2 Sliding Window Search"
   ]
  },
  {
   "cell_type": "markdown",
   "metadata": {},
   "source": [
    "## 2.1 Define windows"
   ]
  },
  {
   "cell_type": "code",
   "execution_count": 85,
   "metadata": {
    "collapsed": false
   },
   "outputs": [
    {
     "name": "stdout",
     "output_type": "stream",
     "text": [
      "Shape of test image array:\n",
      "(6, 720, 1280, 3)\n"
     ]
    }
   ],
   "source": [
    "# Read in test images\n",
    "\n",
    "# Get all test image names\n",
    "test_img_names = sorted(glob.glob('test_images/*.jpg'))\n",
    "\n",
    "# Load test images into np.array\n",
    "test_imgs = np.array([mpimg.imread(name) for name in test_img_names])\n",
    "    \n",
    "print(\"Shape of test image array:\\n{}\".format(test_imgs.shape))"
   ]
  },
  {
   "cell_type": "code",
   "execution_count": 15,
   "metadata": {
    "collapsed": true
   },
   "outputs": [],
   "source": [
    "def plot_and_save_test_imgs(img, y_start,y_stop, rectangle = False, point_1 = None, point_2 = None, \n",
    "                            img_save = False, save_path = None):\n",
    "    \"\"\"\n",
    "    Enables display, adding of rectangled windows and saving of test images\n",
    "    \n",
    "    Input:\n",
    "    img (np.array): Test image to be plotted, (rectangled and saved). E.g. 'test_imgs[0]'\n",
    "    y_start (int): Starting pixel value of the new image in input image terms\n",
    "    y_stop (int): Ending pixel value of the new image in input image terms\n",
    "    rectangle (bool): Indicates, whether rectangle should be displayed on image\n",
    "    point_1 (tuple): First corner point for the rectangle\n",
    "    point_2 (tuple): Second corner point for the rectangle\n",
    "    img_save (bool): Indicates, whether image should be saved\n",
    "    save_path (str): Path for saving\n",
    "    \"\"\"\n",
    "    img_plt = np.copy(img[y_start:y_stop,:,:])\n",
    "    if rectangle:\n",
    "        cv2.rectangle(img_plt, point_1, point_2,(0,0,255),6)\n",
    "    plt.imshow(img_plt)\n",
    "    plt.axis(\"off\")\n",
    "    if img_save:\n",
    "        plt.imsave(save_path,img_plt)"
   ]
  },
  {
   "cell_type": "code",
   "execution_count": 16,
   "metadata": {
    "collapsed": false
   },
   "outputs": [
    {
     "data": {
      "image/png": "[encoded data removed]",
      "text/plain": [
       "<matplotlib.figure.Figure at 0x7fbbe07c8160>"
      ]
     },
     "metadata": {},
     "output_type": "display_data"
    }
   ],
   "source": [
    "# Test plot_and_save_test_imgs() function and print outputs\n",
    "plot_and_save_test_imgs(test_imgs[2], y_start,y_stop, rectangle = True, \n",
    "                        point_1 = (770, 10), point_2 = (815,110),img_save = True, save_path = \"test.png\")"
   ]
  },
  {
   "cell_type": "code",
   "execution_count": 17,
   "metadata": {
    "collapsed": true
   },
   "outputs": [],
   "source": [
    "def generate_window_pos_y(y_start, y_stop, y_window_gap):\n",
    "    \"\"\"\n",
    "    Defines number of window layers in y-direction and determines window positions in y-direction \n",
    "    according to the new image size\n",
    "    Input:\n",
    "    y_start (int): Starting pixel value of the new image in input image terms\n",
    "    y_stop (int): Ending pixel value of the new image in input image terms\n",
    "    y_window_gap (int): Desired gap between two window layers in y-direction\n",
    "    Output:\n",
    "    num_window_layers_y (int): Number of window layers in y-direction\n",
    "    window_positions_y (list): Window positions in y-direction\n",
    "    \"\"\"\n",
    "    \n",
    "    \n",
    "    if y_window_gap < y_window_h_min:\n",
    "        num_window_layers_y = (y_stop-y_start)//y_window_gap-1\n",
    "    else:\n",
    "        num_window_layers_y = (y_stop-y_start)//y_window_gap\n",
    "    first_position_y = y_stop-y_start   \n",
    "    window_positions_y = [first_position_y - i * y_window_gap for i in range(num_window_layers_y)]\n",
    "    \n",
    "    return num_window_layers_y, window_positions_y"
   ]
  },
  {
   "cell_type": "code",
   "execution_count": 18,
   "metadata": {
    "collapsed": false
   },
   "outputs": [
    {
     "name": "stdout",
     "output_type": "stream",
     "text": [
      "Number of layers in y-direction:\n",
      "10\n",
      "Window positions in y-direction:\n",
      "[220, 200, 180, 160, 140, 120, 100, 80, 60, 40]\n"
     ]
    }
   ],
   "source": [
    "# Test generate_window_pos_y() function and print outputs\n",
    "num_window_layers_y, window_positions_y = generate_window_pos_y(y_start, y_stop, y_window_gap)\n",
    "print(\"Number of layers in y-direction:\\n{}\".format(num_window_layers_y))\n",
    "print(\"Window positions in y-direction:\\n{}\".format(window_positions_y))"
   ]
  },
  {
   "cell_type": "markdown",
   "metadata": {},
   "source": [
    "#### To include in report:\n",
    "\n",
    "Looking at the images I realized that all cars no matter how far they were away ended on one y-level."
   ]
  },
  {
   "cell_type": "code",
   "execution_count": 19,
   "metadata": {
    "collapsed": true
   },
   "outputs": [],
   "source": [
    "def generate_window_sizes(num_window_layers_y,window_positions_y,y_window_h_min, window_ratio):\n",
    "    \"\"\"\n",
    "    Determines the window sizes in x- and y-direction on each y-layer\n",
    "    Input:\n",
    "    num_window_layers_y (int): Number of window layers in y-direction\n",
    "    window_positions_y (list): Window positions in y-direction\n",
    "    y_window_h_min (int): Number of pixels for the minimum window hight of the top frame \n",
    "                            (must not be larger than 2*y_window_gap)\n",
    "    Output:\n",
    "    window_sizes (list of tuples): First value in each tuple represents size in x-direction in pixel, \n",
    "                                    second value represents size in y-direction in pixel\n",
    "    window_sizes_x (list of int): List of window sizes in x-direction\n",
    "    window_sizes_y (list of int): List of window sizes in y-direction    \n",
    "    \"\"\"\n",
    "    \n",
    "    # Define y-value of top-line for all windows\n",
    "    window_top_all = window_positions_y[-1] - y_window_h_min\n",
    "    \n",
    "    # Define window sizes in y-direction\n",
    "    window_sizes_y = [window_positions_y[i] - window_top_all for i in range(num_window_layers_y)]\n",
    "\n",
    "    # Define window sizes in x-direction\n",
    "    window_sizes_x = [int(window_sizes_y[i] * window_ratio) for i in range(num_window_layers_y)]\n",
    "\n",
    "    # Concatenate x- and y-direction size of windows in one list of tuples\n",
    "    window_sizes = [(window_sizes_x[i],window_sizes_y[i]) for i in range(len(window_sizes_x))]\n",
    "\n",
    "    return window_sizes, window_sizes_x, window_sizes_y"
   ]
  },
  {
   "cell_type": "code",
   "execution_count": 20,
   "metadata": {
    "collapsed": false
   },
   "outputs": [
    {
     "name": "stdout",
     "output_type": "stream",
     "text": [
      "Window sizes:\n",
      "[(315, 210), (285, 190), (255, 170), (225, 150), (195, 130), (165, 110), (135, 90), (105, 70), (75, 50), (45, 30)]\n"
     ]
    }
   ],
   "source": [
    "# Test generate_window_sizes() function and print outputs\n",
    "window_sizes,_,_ = generate_window_sizes(num_window_layers_y,window_positions_y,y_window_h_min, window_ratio)\n",
    "print(\"Window sizes:\\n{}\".format(window_sizes))"
   ]
  },
  {
   "cell_type": "code",
   "execution_count": 21,
   "metadata": {
    "collapsed": true
   },
   "outputs": [],
   "source": [
    "def define_search_area_x(input_image_shape_x):\n",
    "    \"\"\"\n",
    "    Defines variable search area in x-direction based on y-level (hardcoded assumtion: above 110 y-pixel = \n",
    "    full image width, at 40 y-pixel = half of the image width, between 40 and 110 y-pixel = linear interpolation)\n",
    "    Input:\n",
    "    input_image_shape_x (int): Image width in pixel\n",
    "    search_area_x (list of tuple): List of tuple for search area in x-direction based on respective y-levels.\n",
    "                                    First value = left start of search area,\n",
    "                                    Second value = right start of search area    \n",
    "    \"\"\"\n",
    "\n",
    "    # Define search area for bottom half of image\n",
    "    search_area_x_bottom = [(0,input_image_shape_x) for i in range(5)]\n",
    "\n",
    "    # Define search area for the top line of the image\n",
    "    search_area_x_uppest = (int(input_image_shape_x/2-input_image_shape_x/4),int(input_image_shape_x/2+\n",
    "                                                                            input_image_shape_x/4))\n",
    "\n",
    "    # Define search area for the upper half of image\n",
    "    factor_left = (search_area_x_uppest[0]-0)/5\n",
    "    factor_right = (input_image_shape_x-search_area_x_uppest[1])/4\n",
    "    search_area_x_top = [(int(factor_left*i),int(input_image_shape_x-(factor_right*i))) for i in range(5)]\n",
    "\n",
    "    # Concatenate bottom and upper half search areas in x-direction based on y-level\n",
    "    search_area_x = search_area_x_bottom + search_area_x_top\n",
    "    \n",
    "    return search_area_x"
   ]
  },
  {
   "cell_type": "code",
   "execution_count": 22,
   "metadata": {
    "collapsed": false
   },
   "outputs": [
    {
     "name": "stdout",
     "output_type": "stream",
     "text": [
      "[(0, 1280), (0, 1280), (0, 1280), (0, 1280), (0, 1280), (0, 1280), (64, 1200), (128, 1120), (192, 1040), (256, 960)]\n"
     ]
    }
   ],
   "source": [
    "# Test define_search_area_x()) function and print outputs\n",
    "search_area_x = define_search_area_x(input_image_shape_x)\n",
    "print(search_area_x)"
   ]
  },
  {
   "cell_type": "code",
   "execution_count": 23,
   "metadata": {
    "collapsed": true
   },
   "outputs": [],
   "source": [
    "def def_window_positions(window_positions_y, window_sizes, search_area_x):\n",
    "    \"\"\"\n",
    "    Define window positions (x- and y-values)\n",
    "    Input:\n",
    "    window_positions_y (list): Window positions in y-direction\n",
    "    window_sizes (list of tuples): First value in each tuple represents size in x-direction in pixel, \n",
    "                                    second value represents size in y-direction in pixel\n",
    "    search_area_x (list of tuple): List of tuple for search area in x-direction based on respective y-levels.\n",
    "                                    First value = left start of search area,\n",
    "                                    Second value = right start of search area\n",
    "    Output:\n",
    "    window_positions (list of tuple of tuples): Returns a list of tuples with one tuple for each window. Each\n",
    "                                                tuple contains two tuples representing the two points required\n",
    "                                                to define the window.\n",
    "    \"\"\"\n",
    "\n",
    "    window_positions = []\n",
    "\n",
    "    for i,pos_y in enumerate(window_positions_y):\n",
    "        x_size_tmp = search_area_x[i][1] - search_area_x[i][0]\n",
    "        window_slide = (x_size_tmp-window_sizes[i][0])//(x_num_windows-1)\n",
    "        lb_y = pos_y\n",
    "        rt_y = pos_y - window_sizes[i][1]\n",
    "        for j in range(x_num_windows):\n",
    "            lb_x = int(search_area_x[i][0] + j * window_slide)\n",
    "            rt_x = int(search_area_x[i][0] + window_sizes[i][0] + j * window_slide)\n",
    "            window_positions.append(((lb_x,lb_y),(rt_x,rt_y)))\n",
    "    return window_positions"
   ]
  },
  {
   "cell_type": "code",
   "execution_count": 24,
   "metadata": {
    "collapsed": false
   },
   "outputs": [
    {
     "name": "stdout",
     "output_type": "stream",
     "text": [
      "((0, 220), (315, 10))\n"
     ]
    },
    {
     "data": {
      "image/png": "[encoded data removed]",
      "text/plain": [
       "<matplotlib.figure.Figure at 0x7fbbe07795c0>"
      ]
     },
     "metadata": {},
     "output_type": "display_data"
    }
   ],
   "source": [
    "# Test indow_positions() function and print example output\n",
    "window_positions = def_window_positions(window_positions_y, window_sizes, search_area_x)        \n",
    "print(window_positions[0])\n",
    "\n",
    "plot_and_save_test_imgs(test_imgs[2], y_start, y_stop, rectangle = True, \n",
    "                        point_1 = window_positions[119][0], point_2 = window_positions[119][1],\n",
    "                        img_save = True, save_path = \"test2.png\")"
   ]
  },
  {
   "cell_type": "markdown",
   "metadata": {},
   "source": [
    "## 2.2 Get features for windows"
   ]
  },
  {
   "cell_type": "code",
   "execution_count": 55,
   "metadata": {
    "collapsed": false
   },
   "outputs": [],
   "source": [
    "def assemble_and_resize_windows(img, window_positions, y_start = y_start, y_stop = y_stop,\n",
    "                                classifier_shape = classifier_shape):\n",
    "    img = img[y_start:y_stop,:,:]\n",
    "    window_imgs = []\n",
    "        \n",
    "    for position in window_positions:\n",
    "        tmp_img = img[position[1][1]:position[0][1],position[0][0]:position[1][0],:]\n",
    "        tmp_img = cv2.resize(tmp_img,dsize=classifier_shape)/255\n",
    "        window_imgs.append(tmp_img)\n",
    "        \n",
    "        \n",
    "    return np.array(window_imgs)"
   ]
  },
  {
   "cell_type": "code",
   "execution_count": 57,
   "metadata": {
    "collapsed": true
   },
   "outputs": [],
   "source": [
    "def make_predictions(imgs,svc, orient, pix_per_cell, cell_per_block, hog_channel, classifier_shape):\n",
    "    # Extract features from all input images (windows)\n",
    "    feature_vector = extract_features(imgs, orient, pix_per_cell, cell_per_block, hog_channel, \n",
    "                                      classifier_shape)\n",
    "    prediction = svc.predict(feature_vector)\n",
    "    return prediction"
   ]
  },
  {
   "cell_type": "code",
   "execution_count": 59,
   "metadata": {
    "collapsed": true
   },
   "outputs": [],
   "source": [
    "def draw_windows_on_image(img, window_positions, prediction,y_start,y_stop, img_save = False, save_path = None):\n",
    "    img_plt = img[y_start:y_stop,:,:]\n",
    "    for position, pred in zip(window_positions,prediction):\n",
    "        if pred:\n",
    "            cv2.rectangle(img_plt, position[0], position[1],(0,0,255),6)\n",
    "    plt.imshow(img_plt)\n",
    "    plt.axis(\"off\")\n",
    "    if img_save:\n",
    "        plt.imsave(save_path,img_plt)"
   ]
  },
  {
   "cell_type": "code",
   "execution_count": 124,
   "metadata": {
    "collapsed": false
   },
   "outputs": [
    {
     "name": "stdout",
     "output_type": "stream",
     "text": [
      "(200, 64, 64, 3)\n",
      "[ 0.  0.  0.  0.  0.  0.  0.  0.  0.  0.  0.  0.  0.  0.  0.  0.  0.  0.\n",
      "  0.  0.  0.  0.  0.  0.  0.  0.  0.  0.  0.  0.  0.  0.  0.  0.  0.  1.\n",
      "  1.  0.  0.  0.  0.  0.  0.  0.  0.  0.  0.  0.  0.  0.  0.  0.  0.  0.\n",
      "  0.  1.  0.  0.  0.  0.  0.  0.  0.  0.  0.  0.  0.  0.  0.  0.  0.  0.\n",
      "  0.  0.  0.  0.  0.  0.  0.  0.  0.  0.  0.  0.  0.  0.  0.  0.  0.  0.\n",
      "  0.  0.  0.  0.  1.  0.  0.  0.  0.  1.  0.  0.  0.  0.  0.  0.  0.  0.\n",
      "  0.  0.  0.  0.  0.  0.  1.  0.  0.  0.  0.  0.  0.  0.  0.  0.  0.  0.\n",
      "  0.  0.  0.  0.  0.  0.  0.  0.  0.  0.  0.  0.  0.  1.  0.  0.  0.  0.\n",
      "  0.  0.  0.  0.  0.  0.  0.  0.  0.  0.  0.  0.  0.  0.  0.  0.  1.  0.\n",
      "  0.  0.  0.  0.  0.  0.  1.  0.  0.  0.  0.  0.  0.  0.  0.  0.  0.  0.\n",
      "  0.  0.  0.  0.  0.  0.  0.  1.  0.  0.  0.  0.  0.  0.  0.  0.  0.  0.\n",
      "  0.  0.]\n",
      "(200, 64, 64, 3)\n",
      "[ 0.  0.  0.  0.  0.  0.  0.  0.  0.  1.  1.  0.  0.  0.  0.  0.  0.  0.\n",
      "  0.  0.  0.  0.  0.  0.  0.  0.  0.  1.  0.  1.  1.  0.  0.  0.  0.  0.\n",
      "  0.  0.  0.  0.  0.  0.  0.  0.  0.  0.  0.  0.  0.  1.  1.  0.  0.  0.\n",
      "  0.  0.  0.  0.  0.  0.  0.  0.  0.  0.  0.  0.  0.  0.  0.  1.  0.  0.\n",
      "  0.  0.  0.  0.  0.  0.  0.  0.  0.  0.  0.  0.  0.  0.  0.  0.  1.  1.\n",
      "  0.  0.  0.  0.  0.  0.  0.  0.  0.  0.  0.  0.  0.  0.  0.  0.  0.  0.\n",
      "  1.  1.  0.  0.  0.  0.  0.  0.  0.  0.  0.  0.  0.  0.  0.  0.  0.  0.\n",
      "  0.  0.  0.  0.  0.  0.  0.  0.  0.  0.  0.  0.  0.  0.  0.  0.  0.  0.\n",
      "  0.  0.  0.  0.  0.  1.  0.  0.  0.  0.  0.  0.  0.  1.  1.  0.  0.  0.\n",
      "  0.  0.  0.  0.  0.  0.  0.  0.  0.  0.  0.  0.  0.  0.  0.  0.  1.  1.\n",
      "  0.  0.  0.  0.  0.  0.  0.  0.  0.  0.  0.  0.  0.  1.  0.  0.  0.  0.\n",
      "  0.  0.]\n",
      "(200, 64, 64, 3)\n",
      "[ 0.  0.  0.  0.  0.  0.  0.  0.  0.  0.  0.  0.  0.  0.  0.  0.  0.  0.\n",
      "  0.  0.  0.  0.  0.  0.  0.  0.  0.  0.  0.  0.  0.  0.  0.  0.  0.  0.\n",
      "  0.  0.  0.  0.  0.  0.  0.  0.  0.  0.  0.  0.  0.  0.  1.  0.  0.  0.\n",
      "  0.  0.  0.  0.  0.  0.  0.  0.  0.  0.  0.  0.  0.  0.  0.  0.  0.  0.\n",
      "  0.  0.  0.  0.  0.  0.  0.  0.  0.  0.  0.  0.  0.  0.  0.  0.  0.  0.\n",
      "  0.  0.  0.  0.  0.  0.  0.  0.  0.  0.  0.  0.  0.  0.  0.  0.  0.  0.\n",
      "  0.  0.  0.  1.  0.  0.  0.  0.  0.  0.  0.  0.  0.  0.  0.  0.  0.  0.\n",
      "  0.  0.  0.  0.  0.  0.  0.  0.  0.  1.  0.  0.  0.  0.  0.  0.  0.  0.\n",
      "  0.  0.  0.  0.  0.  0.  0.  0.  0.  0.  0.  0.  1.  0.  0.  0.  0.  0.\n",
      "  0.  0.  0.  0.  0.  0.  0.  0.  0.  0.  0.  1.  0.  0.  0.  0.  0.  0.\n",
      "  0.  0.  0.  0.  0.  0.  0.  1.  0.  1.  0.  0.  0.  0.  0.  0.  0.  0.\n",
      "  0.  0.]\n",
      "(200, 64, 64, 3)\n",
      "[ 0.  0.  0.  0.  0.  0.  0.  0.  0.  0.  0.  0.  0.  0.  0.  0.  0.  0.\n",
      "  0.  0.  0.  0.  0.  0.  0.  0.  0.  0.  0.  0.  0.  0.  0.  0.  0.  0.\n",
      "  0.  0.  0.  0.  0.  0.  0.  0.  0.  0.  0.  0.  0.  0.  0.  0.  0.  0.\n",
      "  0.  1.  0.  0.  0.  0.  0.  0.  0.  0.  0.  0.  0.  0.  0.  0.  0.  0.\n",
      "  0.  0.  0.  0.  0.  0.  0.  0.  0.  0.  0.  0.  0.  0.  0.  0.  0.  0.\n",
      "  0.  0.  0.  0.  1.  0.  0.  0.  0.  0.  0.  0.  0.  0.  0.  0.  0.  0.\n",
      "  0.  0.  0.  0.  0.  0.  1.  0.  0.  0.  1.  1.  0.  0.  0.  0.  0.  0.\n",
      "  0.  0.  0.  0.  0.  0.  0.  0.  0.  0.  0.  0.  0.  1.  0.  0.  0.  0.\n",
      "  0.  0.  0.  0.  0.  0.  0.  0.  0.  0.  0.  0.  0.  0.  0.  0.  0.  0.\n",
      "  0.  0.  0.  0.  0.  0.  0.  0.  0.  0.  0.  0.  0.  0.  0.  0.  0.  0.\n",
      "  1.  0.  0.  0.  0.  0.  0.  0.  1.  1.  0.  0.  0.  0.  0.  0.  0.  0.\n",
      "  0.  0.]\n",
      "(200, 64, 64, 3)\n",
      "[ 0.  0.  0.  0.  0.  0.  0.  0.  0.  0.  0.  0.  0.  0.  0.  0.  0.  0.\n",
      "  0.  0.  0.  0.  0.  0.  0.  0.  0.  0.  0.  0.  0.  0.  0.  0.  0.  0.\n",
      "  0.  0.  0.  0.  0.  0.  0.  0.  0.  0.  0.  0.  0.  0.  0.  0.  0.  0.\n",
      "  0.  0.  0.  0.  0.  0.  0.  0.  1.  0.  0.  0.  0.  0.  0.  0.  0.  0.\n",
      "  0.  0.  0.  0.  0.  0.  0.  0.  0.  0.  0.  1.  0.  0.  0.  0.  0.  0.\n",
      "  0.  0.  0.  0.  0.  0.  0.  0.  0.  1.  0.  0.  0.  0.  1.  0.  0.  0.\n",
      "  0.  0.  0.  0.  0.  0.  1.  0.  0.  0.  1.  1.  0.  0.  1.  0.  1.  0.\n",
      "  0.  0.  0.  0.  0.  0.  0.  0.  0.  1.  0.  0.  1.  0.  0.  0.  0.  0.\n",
      "  0.  0.  0.  0.  0.  0.  0.  0.  0.  0.  0.  0.  0.  0.  0.  0.  0.  0.\n",
      "  1.  1.  0.  0.  0.  0.  0.  0.  0.  0.  0.  0.  0.  0.  0.  0.  0.  0.\n",
      "  0.  1.  0.  0.  0.  1.  0.  0.  0.  0.  0.  0.  0.  0.  0.  0.  0.  0.\n",
      "  0.  0.]\n",
      "(200, 64, 64, 3)\n",
      "[ 0.  0.  0.  0.  0.  0.  0.  0.  0.  0.  0.  1.  0.  0.  0.  0.  0.  0.\n",
      "  0.  0.  0.  0.  0.  0.  0.  0.  0.  0.  0.  0.  0.  1.  0.  0.  0.  0.\n",
      "  0.  0.  0.  0.  0.  0.  0.  0.  0.  0.  0.  0.  0.  0.  0.  1.  0.  0.\n",
      "  0.  0.  0.  0.  0.  0.  0.  0.  0.  0.  0.  0.  0.  0.  0.  0.  0.  0.\n",
      "  0.  0.  1.  0.  0.  0.  1.  0.  0.  0.  0.  0.  0.  0.  0.  0.  0.  0.\n",
      "  0.  0.  0.  0.  1.  0.  0.  0.  1.  0.  0.  0.  0.  0.  0.  0.  0.  0.\n",
      "  0.  0.  0.  0.  0.  0.  1.  0.  0.  0.  1.  0.  0.  0.  0.  0.  0.  0.\n",
      "  0.  0.  0.  0.  0.  0.  0.  0.  0.  0.  0.  0.  0.  1.  0.  0.  0.  0.\n",
      "  0.  0.  0.  0.  0.  0.  0.  0.  0.  0.  0.  0.  0.  0.  0.  0.  0.  0.\n",
      "  0.  0.  0.  0.  0.  0.  0.  0.  0.  0.  0.  0.  0.  0.  0.  0.  0.  0.\n",
      "  0.  0.  0.  0.  0.  0.  1.  0.  0.  0.  0.  0.  0.  0.  0.  0.  0.  0.\n",
      "  0.  0.]\n"
     ]
    },
    {
     "data": {
      "image/png": "[encoded data removed]",
      "text/plain": [
       "<matplotlib.figure.Figure at 0x7fbbdec68160>"
      ]
     },
     "metadata": {},
     "output_type": "display_data"
    }
   ],
   "source": [
    "test_imgs_draw = np.copy(test_imgs)\n",
    "for i,img in enumerate(test_imgs_draw):\n",
    "\n",
    "    window_imgs = assemble_and_resize_windows(img, window_positions=window_positions)\n",
    "    print(window_imgs.shape)\n",
    "\n",
    "    prediction = make_predictions(window_imgs,svc, orient, pix_per_cell, cell_per_block, hog_channel, \n",
    "                                  classifier_shape)\n",
    "    print(prediction)\n",
    "\n",
    "\n",
    "    draw_windows_on_image(img, window_positions,prediction, y_start=y_start, y_stop=y_stop, \n",
    "                          img_save = True, save_path = \"test{}.png\".format(str(i)))"
   ]
  },
  {
   "cell_type": "code",
   "execution_count": null,
   "metadata": {
    "collapsed": true
   },
   "outputs": [],
   "source": []
  },
  {
   "cell_type": "code",
   "execution_count": 117,
   "metadata": {
    "collapsed": false
   },
   "outputs": [
    {
     "name": "stdout",
     "output_type": "stream",
     "text": [
      "1.0\n"
     ]
    },
    {
     "data": {
      "text/plain": [
       "<matplotlib.image.AxesImage at 0x7fbbdecbc588>"
      ]
     },
     "execution_count": 117,
     "metadata": {},
     "output_type": "execute_result"
    },
    {
     "data": {
      "image/png": "[encoded data removed]",
      "text/plain": [
       "<matplotlib.figure.Figure at 0x7fbbde9a45c0>"
      ]
     },
     "metadata": {},
     "output_type": "display_data"
    }
   ],
   "source": [
    "zzz = 31\n",
    "\n",
    "example = window_imgs[zzz]\n",
    "print(prediction[zzz])\n",
    "\n",
    "plt.imshow(example)"
   ]
  },
  {
   "cell_type": "code",
   "execution_count": 121,
   "metadata": {
    "collapsed": false
   },
   "outputs": [
    {
     "name": "stdout",
     "output_type": "stream",
     "text": [
      "(64, 64, 3)\n",
      "[ 1.]\n"
     ]
    }
   ],
   "source": [
    "print(window_imgs[zzz].shape)\n",
    "ggg = make_predictions(window_imgs[zzz:zzz+1],svc, orient, pix_per_cell, cell_per_block, hog_channel, \n",
    "                       classifier_shape)\n",
    "\n",
    "print(ggg)"
   ]
  },
  {
   "cell_type": "code",
   "execution_count": 116,
   "metadata": {
    "collapsed": false
   },
   "outputs": [
    {
     "name": "stdout",
     "output_type": "stream",
     "text": [
      "[[[ 0.16078431  0.16470588  0.04313725]\n",
      "  [ 0.20392157  0.21176471  0.06666667]\n",
      "  [ 0.19215686  0.19607843  0.0627451 ]\n",
      "  ..., \n",
      "  [ 0.1372549   0.11764706  0.08627451]\n",
      "  [ 0.14901961  0.12941176  0.10588235]\n",
      "  [ 0.10980392  0.09803922  0.07843137]]\n",
      "\n",
      " [[ 0.21176471  0.21960784  0.0745098 ]\n",
      "  [ 0.20784314  0.21568627  0.05882353]\n",
      "  [ 0.16862745  0.17647059  0.03137255]\n",
      "  ..., \n",
      "  [ 0.22352941  0.20392157  0.18039216]\n",
      "  [ 0.10588235  0.08627451  0.0627451 ]\n",
      "  [ 0.09411765  0.08235294  0.05490196]]\n",
      "\n",
      " [[ 0.23137255  0.23921569  0.08627451]\n",
      "  [ 0.21568627  0.22352941  0.06666667]\n",
      "  [ 0.21960784  0.23529412  0.09019608]\n",
      "  ..., \n",
      "  [ 0.12156863  0.10196078  0.07843137]\n",
      "  [ 0.18431373  0.15686275  0.13333333]\n",
      "  [ 0.10196078  0.08627451  0.05098039]]\n",
      "\n",
      " ..., \n",
      " [[ 0.41568627  0.37647059  0.36862745]\n",
      "  [ 0.41176471  0.38431373  0.36078431]\n",
      "  [ 0.4         0.37254902  0.34901961]\n",
      "  ..., \n",
      "  [ 0.31764706  0.29019608  0.31764706]\n",
      "  [ 0.2745098   0.25490196  0.27843137]\n",
      "  [ 0.2745098   0.25490196  0.27843137]]\n",
      "\n",
      " [[ 0.39607843  0.35686275  0.34901961]\n",
      "  [ 0.40392157  0.36862745  0.35294118]\n",
      "  [ 0.41568627  0.38039216  0.36078431]\n",
      "  ..., \n",
      "  [ 0.32156863  0.29411765  0.32156863]\n",
      "  [ 0.28235294  0.2627451   0.28627451]\n",
      "  [ 0.28235294  0.2627451   0.28627451]]\n",
      "\n",
      " [[ 0.37647059  0.3372549   0.32941176]\n",
      "  [ 0.37647059  0.34117647  0.32156863]\n",
      "  [ 0.36078431  0.3254902   0.30588235]\n",
      "  ..., \n",
      "  [ 0.29803922  0.27843137  0.30196078]\n",
      "  [ 0.27058824  0.25098039  0.2745098 ]\n",
      "  [ 0.26666667  0.25882353  0.27843137]]]\n"
     ]
    }
   ],
   "source": [
    "print(window_imgs[27])"
   ]
  },
  {
   "cell_type": "code",
   "execution_count": null,
   "metadata": {
    "collapsed": true
   },
   "outputs": [],
   "source": []
  },
  {
   "cell_type": "code",
   "execution_count": null,
   "metadata": {
    "collapsed": true
   },
   "outputs": [],
   "source": []
  },
  {
   "cell_type": "code",
   "execution_count": null,
   "metadata": {
    "collapsed": true
   },
   "outputs": [],
   "source": []
  }
 ],
 "metadata": {
  "anaconda-cloud": {},
  "kernelspec": {
   "display_name": "Python [conda env:carnd-term1]",
   "language": "python",
   "name": "conda-env-carnd-term1-py"
  },
  "language_info": {
   "codemirror_mode": {
    "name": "ipython",
    "version": 3
   },
   "file_extension": ".py",
   "mimetype": "text/x-python",
   "name": "python",
   "nbconvert_exporter": "python",
   "pygments_lexer": "ipython3",
   "version": "3.5.2"
  }
 },
 "nbformat": 4,
 "nbformat_minor": 1
}
