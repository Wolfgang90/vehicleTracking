{
 "cells": [
  {
   "cell_type": "markdown",
   "metadata": {},
   "source": [
    "# 0 Required imports, hyperparameters and general functions"
   ]
  },
  {
   "cell_type": "markdown",
   "metadata": {},
   "source": [
    "## 0.1 Required imports"
   ]
  },
  {
   "cell_type": "code",
   "execution_count": 1,
   "metadata": {
    "collapsed": true
   },
   "outputs": [],
   "source": [
    "import matplotlib.image as mpimg\n",
    "import matplotlib.pyplot as plt\n",
    "%matplotlib inline\n",
    "import numpy as np\n",
    "import cv2\n",
    "from sklearn.svm import LinearSVC\n",
    "from sklearn.preprocessing import StandardScaler\n",
    "from sklearn.svm import LinearSVC\n",
    "from sklearn.model_selection import train_test_split\n",
    "from sklearn.utils import shuffle\n",
    "from skimage.feature import hog\n",
    "import glob\n",
    "import time\n",
    "import pickle"
   ]
  },
  {
   "cell_type": "markdown",
   "metadata": {},
   "source": [
    "## 0.2 Hyperparameters"
   ]
  },
  {
   "cell_type": "code",
   "execution_count": 2,
   "metadata": {
    "collapsed": true
   },
   "outputs": [],
   "source": [
    "# HYPERPARAMETERS\n",
    "\n",
    "# Hog features\n",
    "color_space = \"YCrCb\"\n",
    "orient=9\n",
    "pix_per_cell=8\n",
    "cell_per_block=2\n",
    "hog_channel = \"ALL\"\n",
    "classifier_shape = (64,64) # Defines the image shape required for the classifier\n",
    "\n",
    "test_size=0.2\n",
    "\n",
    "\n",
    "\n",
    "\n",
    "y_start = 400\n",
    "y_stop = 620\n",
    "input_image_shape_x = 1280\n",
    "y_window_gap = 20 # Pixel gap between windows in y direction\n",
    "x_num_windows = 20 # Number of frames which will be distributed along the x-axis on one y level\n",
    "\n",
    "y_window_h_min = 30 # Number of pixels for the minimum window hight of the top frame (must not be larger than 2* \n",
    "                    # y_window_gap)\n",
    "\n",
    "window_ratio = 1.5 # window ratio * window hight = window width\n",
    "\n"
   ]
  },
  {
   "cell_type": "markdown",
   "metadata": {},
   "source": [
    "## 0.3 Plotting functions"
   ]
  },
  {
   "cell_type": "code",
   "execution_count": 3,
   "metadata": {
    "collapsed": true
   },
   "outputs": [],
   "source": [
    "def plot_and_save_n_images(imgs, cmaps, headings, save = False, save_path = None,\n",
    "                          images_per_column = 1, images_per_line = 2, figw = 8, figh = 4):\n",
    "    \"\"\"\n",
    "    Plots n images in this notebook and optionally saves the figure in one file\n",
    "    Input:\n",
    "    imgs (np.array): Image to be plotted\n",
    "    cmap (str): Cmap for plotting if required\n",
    "    heading (str): Heading to be displayed above image\n",
    "    save (bool): Indicates whether image should be saved or not\n",
    "    save_path (str): Path to where the image should be saved\n",
    "    \"\"\"\n",
    "    \n",
    "    fig, axes = plt.subplots(images_per_column,images_per_line,figsize = (figw,figh))\n",
    "    for i, ax in enumerate(axes.flat):\n",
    "        if i in range(len(imgs)):\n",
    "            ax.imshow(imgs[i],cmap = cmaps[i])\n",
    "            ax.axis(\"off\")\n",
    "            if headings[i]:\n",
    "                ax.set_title(\"{}\".format(headings[i]),fontsize = 15, fontweight='bold')\n",
    "        else:\n",
    "            ax.axis(\"off\")\n",
    "    plt.tight_layout()\n",
    "    plt.axis(\"off\")\n",
    "    if save:\n",
    "        fig.savefig(save_path)\n",
    "    plt.show()"
   ]
  },
  {
   "cell_type": "markdown",
   "metadata": {},
   "source": [
    "# 1 Create detection classifier (Histogram of Oriented Gradients (HOG))"
   ]
  },
  {
   "cell_type": "markdown",
   "metadata": {},
   "source": [
    "## 1.1 Initialize images and labels"
   ]
  },
  {
   "cell_type": "code",
   "execution_count": 4,
   "metadata": {
    "collapsed": true
   },
   "outputs": [],
   "source": [
    "def extract_train_test_from_folder(folder_path,test_size):\n",
    "    img_names = sorted(glob.glob(\"{}/*\".format(folder_path)))\n",
    "    imgs = np.array([mpimg.imread(image_path) for image_path in img_names])\n",
    "    \n",
    "    split_value = int((1-test_size)*len(img_names))\n",
    "    imgs_train = np.array(imgs[:split_value])\n",
    "    imgs_test = np.array(imgs[split_value:])\n",
    "    return imgs_train, imgs_test"
   ]
  },
  {
   "cell_type": "code",
   "execution_count": 5,
   "metadata": {
    "collapsed": false
   },
   "outputs": [],
   "source": [
    "def generate_train_test(folders,vehicle):\n",
    "    X_train = []\n",
    "    X_test = []\n",
    "\n",
    "    for folder in folders:\n",
    "        tmp_X_train, tmp_X_test = extract_train_test_from_folder(folder,test_size)\n",
    "        X_train.append(tmp_X_train)\n",
    "        X_test.append(tmp_X_test)\n",
    "\n",
    "    X_train = np.concatenate(X_train)\n",
    "    X_test = np.concatenate(X_test)\n",
    "    if vehicle:\n",
    "        y_train = np.ones(len(X_train))\n",
    "        y_test = np.ones(len(X_test))\n",
    "    else:\n",
    "        y_train = np.zeros(len(X_train))\n",
    "        y_test = np.zeros(len(X_test))\n",
    "    \n",
    "    return X_train, X_test, y_train, y_test"
   ]
  },
  {
   "cell_type": "code",
   "execution_count": 6,
   "metadata": {
    "collapsed": false
   },
   "outputs": [],
   "source": [
    "# Get image names\n",
    "vehicles_folders = glob.glob('labeled_data/vehicles/*')\n",
    "non_vehicles_folders = glob.glob('labeled_data/non-vehicles/*')\n",
    "\n",
    "# Generate training and test data for vehicle objects\n",
    "X_train_veh, X_test_veh, y_train_veh, y_test_veh = generate_train_test(vehicles_folders,1)\n",
    "\n",
    "# Generate training and test data for non-vehicle objects\n",
    "X_train_non_veh, X_test_non_veh, y_train_non_veh, y_test_non_veh = generate_train_test(non_vehicles_folders,0)\n",
    "\n",
    "# Concatenate data for vehicle and non-vehicle objects to create training and testing data\n",
    "X_train = np.concatenate((X_train_veh,X_train_non_veh))\n",
    "X_test = np.concatenate((X_test_veh,X_test_non_veh))\n",
    "y_train = np.concatenate((y_train_veh, y_train_non_veh))\n",
    "y_test = np.concatenate((y_test_veh, y_test_non_veh))\n",
    "\n",
    "# Shuffle training and testing data\n",
    "X_train,y_train = shuffle(X_train,y_train)\n",
    "X_test,y_test = shuffle(X_test,y_test)"
   ]
  },
  {
   "cell_type": "code",
   "execution_count": 7,
   "metadata": {
    "collapsed": false
   },
   "outputs": [
    {
     "data": {
      "text/plain": [
       "\"non_vehicles_names = glob.glob('labeled_data/non-vehicles/*/*.png')\\nnon_vehicle_X = np.array([mpimg.imread(image_path) for image_path in non_vehicles_names])\\nnon_vehicle_y = np.zeros(non_vehicle_X.shape[0])\\nX_train_non_veh, X_test_non_veh, y_train_non_veh, y_test_non_veh = train_test_split(non_vehicle_X, \\n                                                                                    non_vehicle_y, \\n                                                                                    test_size = test_size)\""
      ]
     },
     "execution_count": 7,
     "metadata": {},
     "output_type": "execute_result"
    }
   ],
   "source": [
    "\"\"\"non_vehicles_names = glob.glob('labeled_data/non-vehicles/*/*.png')\n",
    "non_vehicle_X = np.array([mpimg.imread(image_path) for image_path in non_vehicles_names])\n",
    "non_vehicle_y = np.zeros(non_vehicle_X.shape[0])\n",
    "X_train_non_veh, X_test_non_veh, y_train_non_veh, y_test_non_veh = train_test_split(non_vehicle_X, \n",
    "                                                                                    non_vehicle_y, \n",
    "                                                                                    test_size = test_size)\"\"\""
   ]
  },
  {
   "cell_type": "code",
   "execution_count": 8,
   "metadata": {
    "collapsed": false
   },
   "outputs": [
    {
     "data": {
      "text/plain": [
       "'# Load images\\ntry:\\n    with open(\"X_images.p\",\"wb\") as X_images:\\n        X = pickle.load(X_images)\\n    with open(\"y_labels.p\",\"wb\") as y_labels:\\n        y = pickle.load(y_labels)\\n    print(\"Images were loaded from pickle file\")\\n\\nexcept:\\n    imgs_vehicle = glob.glob(\\'labeled_data/vehicles/*/*.png\\')\\n    imgs_non_vehicle = glob.glob(\\'labeled_data/non-vehicles/*/*.png\\')\\n\\n    # Define y values\\n    y = np.concatenate((np.ones(len(imgs_vehicle)),np.zeros(len(imgs_non_vehicle))))\\n\\n    X_veh = [mpimg.imread(image_path) for image_path in imgs_vehicle]\\n    X_n_veh = [mpimg.imread(image_path) for image_path in imgs_non_vehicle]\\n\\n    X = np.concatenate((X_veh,X_n_veh))\\n    \\n    with open(\"X_images.p\",\"wb\") as X_images:\\n        pickle.dump(X, X_images)\\n    with open(\"y_labels.p\",\"wb\") as y_labels:\\n        pickle.dump(y,y_labels)\\n        \\n        \\nprint(\"Shape of feature array:\\t{}\\nShape of label array:\\t{}\".format(X.shape,y.shape))'"
      ]
     },
     "execution_count": 8,
     "metadata": {},
     "output_type": "execute_result"
    }
   ],
   "source": [
    "\"\"\"# Load images\n",
    "try:\n",
    "    with open(\"X_images.p\",\"wb\") as X_images:\n",
    "        X = pickle.load(X_images)\n",
    "    with open(\"y_labels.p\",\"wb\") as y_labels:\n",
    "        y = pickle.load(y_labels)\n",
    "    print(\"Images were loaded from pickle file\")\n",
    "\n",
    "except:\n",
    "    imgs_vehicle = glob.glob('labeled_data/vehicles/*/*.png')\n",
    "    imgs_non_vehicle = glob.glob('labeled_data/non-vehicles/*/*.png')\n",
    "\n",
    "    # Define y values\n",
    "    y = np.concatenate((np.ones(len(imgs_vehicle)),np.zeros(len(imgs_non_vehicle))))\n",
    "\n",
    "    X_veh = [mpimg.imread(image_path) for image_path in imgs_vehicle]\n",
    "    X_n_veh = [mpimg.imread(image_path) for image_path in imgs_non_vehicle]\n",
    "\n",
    "    X = np.concatenate((X_veh,X_n_veh))\n",
    "    \n",
    "    with open(\"X_images.p\",\"wb\") as X_images:\n",
    "        pickle.dump(X, X_images)\n",
    "    with open(\"y_labels.p\",\"wb\") as y_labels:\n",
    "        pickle.dump(y,y_labels)\n",
    "        \n",
    "        \n",
    "print(\"Shape of feature array:\\t{}\\nShape of label array:\\t{}\".format(X.shape,y.shape))\"\"\""
   ]
  },
  {
   "cell_type": "markdown",
   "metadata": {},
   "source": [
    "## 1.2 Extract image features"
   ]
  },
  {
   "cell_type": "code",
   "execution_count": 9,
   "metadata": {
    "collapsed": false
   },
   "outputs": [],
   "source": [
    "# Define a function to extract hog-features from a list of images\n",
    "def extract_features(imgs, color_space, orient, pix_per_cell, cell_per_block, hog_channel, classifier_shape):\n",
    "    # Create a list to append feature vectors to\n",
    "    features = []\n",
    "    # Iterate through the list of images\n",
    "    for img in imgs:\n",
    "        \n",
    "        # Resize image\n",
    "        img = (cv2.resize(img,dsize=classifier_shape)/255).astype(np.float32)\n",
    "        \n",
    "        # apply color conversion if other than 'RGB'\n",
    "        if color_space == 'HSV':\n",
    "            img = cv2.cvtColor(img, cv2.COLOR_RGB2HSV)/255\n",
    "        elif color_space == 'LUV':\n",
    "            img = cv2.cvtColor(img, cv2.COLOR_RGB2LUV)\n",
    "        elif color_space == 'HLS':\n",
    "            img = cv2.cvtColor(img, cv2.COLOR_RGB2HLS)\n",
    "        elif color_space == 'YUV':\n",
    "            img = cv2.cvtColor(img, cv2.COLOR_RGB2YUV)\n",
    "        elif color_space == 'YCrCb':\n",
    "            img = cv2.cvtColor(img, cv2.COLOR_RGB2YCrCb)/255\n",
    "            \n",
    "        # Create color features based on RGB input image\n",
    "        col_features =  (cv2.resize(np.copy(img),(24,24))/255).ravel()       \n",
    "        \n",
    "        # Get hog features\n",
    "        if hog_channel == 'ALL':\n",
    "            hog_features = []\n",
    "            for channel in range(img.shape[2]):\n",
    "                hog_features.append(hog(img[:,:,channel],orientations=orient,\n",
    "                                            pixels_per_cell=(pix_per_cell, pix_per_cell), \n",
    "                                            cells_per_block=(cell_per_block, cell_per_block), \n",
    "                                            transform_sqrt=True, visualise=False, feature_vector=True))\n",
    "            hog_features = np.ravel(hog_features)\n",
    "\n",
    "        \n",
    "        else:\n",
    "            hog_features = hog(img[:,:,hog_channel], orientations=orient,\n",
    "                                            pixels_per_cell=(pix_per_cell, pix_per_cell), \n",
    "                                            cells_per_block=(cell_per_block, cell_per_block), \n",
    "                                            transform_sqrt=True, visualise=False, feature_vector=True)\n",
    "            \n",
    "        features.append(np.concatenate((hog_features,col_features)))\n",
    "        \n",
    "   \n",
    "    \n",
    "    # Return list of feature vectors\n",
    "    return features"
   ]
  },
  {
   "cell_type": "code",
   "execution_count": 10,
   "metadata": {
    "collapsed": false
   },
   "outputs": [],
   "source": [
    "X_train_feat = extract_features(X_train, color_space, orient, pix_per_cell, cell_per_block, hog_channel,\n",
    "                                classifier_shape)\n",
    "\n",
    "X_test_feat = extract_features(X_test, color_space, orient, pix_per_cell, cell_per_block, hog_channel,\n",
    "                               classifier_shape)\n",
    "\n",
    "# Fit a per-column scaler\n",
    "features_scaler = StandardScaler().fit(np.concatenate((X_train_feat,X_test_feat)))\n",
    "                                       \n",
    "# Apply the scaler to features\n",
    "X_train_feat = features_scaler.transform(X_train_feat)\n",
    "X_test_feat = features_scaler.transform(X_test_feat)                                       "
   ]
  },
  {
   "cell_type": "code",
   "execution_count": 11,
   "metadata": {
    "collapsed": false
   },
   "outputs": [
    {
     "data": {
      "text/plain": [
       "'# Extract features\\ntry:\\n    with open(\"X_features.p\",\"rb\") as X_feat:\\n        X_features = pickle.load(X_feat)\\n    print(\"Features were loaded from pickle file\")\\nexcept:\\n    features = extract_features(X, color_space, orient, pix_per_cell, cell_per_block, hog_channel,\\n                                classifier_shape)\\n    \\n    # Fit a per-column scaler\\n    features_scaler = StandardScaler().fit(features)\\n\\n    # Apply the scaler to features\\n    X_features = features_scaler.transform(features)\\n    \\n    \\n    with open(\"X_features.p\",\"wb\") as X_feat:\\n        pickle.dump(X, X_feat)'"
      ]
     },
     "execution_count": 11,
     "metadata": {},
     "output_type": "execute_result"
    }
   ],
   "source": [
    "\"\"\"# Extract features\n",
    "try:\n",
    "    with open(\"X_features.p\",\"rb\") as X_feat:\n",
    "        X_features = pickle.load(X_feat)\n",
    "    print(\"Features were loaded from pickle file\")\n",
    "except:\n",
    "    features = extract_features(X, color_space, orient, pix_per_cell, cell_per_block, hog_channel,\n",
    "                                classifier_shape)\n",
    "    \n",
    "    # Fit a per-column scaler\n",
    "    features_scaler = StandardScaler().fit(features)\n",
    "\n",
    "    # Apply the scaler to features\n",
    "    X_features = features_scaler.transform(features)\n",
    "    \n",
    "    \n",
    "    with open(\"X_features.p\",\"wb\") as X_feat:\n",
    "        pickle.dump(X, X_feat)\"\"\""
   ]
  },
  {
   "cell_type": "markdown",
   "metadata": {},
   "source": [
    "## 1.3 Initialize training and testing data"
   ]
  },
  {
   "cell_type": "code",
   "execution_count": 12,
   "metadata": {
    "collapsed": false
   },
   "outputs": [
    {
     "data": {
      "text/plain": [
       "'# Perform split in train and test data\\nX_train, X_test, y_train, y_test = train_test_split (X_features,y,test_size = 0.2)'"
      ]
     },
     "execution_count": 12,
     "metadata": {},
     "output_type": "execute_result"
    }
   ],
   "source": [
    "\"\"\"# Perform split in train and test data\n",
    "X_train, X_test, y_train, y_test = train_test_split (X_features,y,test_size = 0.2)\"\"\""
   ]
  },
  {
   "cell_type": "markdown",
   "metadata": {},
   "source": [
    "## 1.4 Fit and test classifier (SVM)"
   ]
  },
  {
   "cell_type": "code",
   "execution_count": 13,
   "metadata": {
    "collapsed": false
   },
   "outputs": [
    {
     "name": "stdout",
     "output_type": "stream",
     "text": [
      "Seconds to train classifier:\t16.56\n"
     ]
    }
   ],
   "source": [
    "# Create classifier\n",
    "\n",
    "\"\"\"try:\n",
    "    # Try to load classifier from pickle (if fitted earlier)\n",
    "    with open(\"classifier.p\",\"rb\") as cls:\n",
    "        svc = pickle.load(cls)\n",
    "    print(\"Classifier were loaded from pickel file.\")\"\"\"\n",
    "    \n",
    "#except:\n",
    "\n",
    "# Define SVM classifier\n",
    "svc = LinearSVC()\n",
    "\n",
    "# Fit classifier\n",
    "t1 = time.time()\n",
    "svc.fit(X_train_feat, y_train)\n",
    "t2 = time.time()\n",
    "print(\"Seconds to train classifier:\\t{:.2f}\".format(t2-t1))\n",
    "\n",
    "# Dump classifier in pickle file\n",
    "#with open(\"classifier.p\",\"wb\") as cls:\n",
    "    #pickle.dump(svc,cls)"
   ]
  },
  {
   "cell_type": "code",
   "execution_count": 14,
   "metadata": {
    "collapsed": false
   },
   "outputs": [
    {
     "name": "stdout",
     "output_type": "stream",
     "text": [
      "Accuracy of current classifier:\t0.9795\n"
     ]
    }
   ],
   "source": [
    "# Evaluate classifier\n",
    "accuracy = svc.score(X_test_feat, y_test)\n",
    "print(\"Accuracy of current classifier:\\t{:.4f}\".format(accuracy))"
   ]
  },
  {
   "cell_type": "code",
   "execution_count": null,
   "metadata": {
    "collapsed": true
   },
   "outputs": [],
   "source": []
  },
  {
   "cell_type": "code",
   "execution_count": 15,
   "metadata": {
    "collapsed": false
   },
   "outputs": [
    {
     "data": {
      "text/plain": [
       "\"imgs_test_case = glob.glob('labeled_data/non-vehicles/Extras/*.png')\\nX_test_case = [mpimg.imread(image_path) for image_path in imgs_test_case]\\nX_test_features = extract_features(X_test_case, color_space, orient, pix_per_cell, cell_per_block, \\n                                   hog_channel,classifier_shape)\""
      ]
     },
     "execution_count": 15,
     "metadata": {},
     "output_type": "execute_result"
    }
   ],
   "source": [
    "\"\"\"imgs_test_case = glob.glob('labeled_data/non-vehicles/Extras/*.png')\n",
    "X_test_case = [mpimg.imread(image_path) for image_path in imgs_test_case]\n",
    "X_test_features = extract_features(X_test_case, color_space, orient, pix_per_cell, cell_per_block, \n",
    "                                   hog_channel,classifier_shape)\"\"\""
   ]
  },
  {
   "cell_type": "code",
   "execution_count": 16,
   "metadata": {
    "collapsed": false
   },
   "outputs": [
    {
     "data": {
      "text/plain": [
       "'X_test_features_scaled = features_scaler.transform(X_test_features)\\ntest_predict = svc.predict(X_test_features_scaled)\\n\\nprint(test_predict[:100])'"
      ]
     },
     "execution_count": 16,
     "metadata": {},
     "output_type": "execute_result"
    }
   ],
   "source": [
    "\"\"\"X_test_features_scaled = features_scaler.transform(X_test_features)\n",
    "test_predict = svc.predict(X_test_features_scaled)\n",
    "\n",
    "print(test_predict[:100])\"\"\""
   ]
  },
  {
   "cell_type": "markdown",
   "metadata": {},
   "source": [
    "# 2 Sliding Window Search"
   ]
  },
  {
   "cell_type": "markdown",
   "metadata": {},
   "source": [
    "## 2.1 Define windows"
   ]
  },
  {
   "cell_type": "code",
   "execution_count": 17,
   "metadata": {
    "collapsed": false
   },
   "outputs": [
    {
     "name": "stdout",
     "output_type": "stream",
     "text": [
      "Shape of test image array:\n",
      "(6, 720, 1280, 3)\n"
     ]
    }
   ],
   "source": [
    "# Read in test images\n",
    "\n",
    "# Get all test image names\n",
    "test_img_names = sorted(glob.glob('test_images/*.jpg'))\n",
    "\n",
    "# Load test images into np.array\n",
    "test_imgs = np.array([mpimg.imread(name) for name in test_img_names])\n",
    "    \n",
    "print(\"Shape of test image array:\\n{}\".format(test_imgs.shape))"
   ]
  },
  {
   "cell_type": "code",
   "execution_count": 18,
   "metadata": {
    "collapsed": true
   },
   "outputs": [],
   "source": [
    "def plot_and_save_test_imgs(img, y_start,y_stop, rectangle = False, point_1 = None, point_2 = None, \n",
    "                            img_save = False, save_path = None):\n",
    "    \"\"\"\n",
    "    Enables display, adding of rectangled windows and saving of test images\n",
    "    \n",
    "    Input:\n",
    "    img (np.array): Test image to be plotted, (rectangled and saved). E.g. 'test_imgs[0]'\n",
    "    y_start (int): Starting pixel value of the new image in input image terms\n",
    "    y_stop (int): Ending pixel value of the new image in input image terms\n",
    "    rectangle (bool): Indicates, whether rectangle should be displayed on image\n",
    "    point_1 (tuple): First corner point for the rectangle\n",
    "    point_2 (tuple): Second corner point for the rectangle\n",
    "    img_save (bool): Indicates, whether image should be saved\n",
    "    save_path (str): Path for saving\n",
    "    \"\"\"\n",
    "    img_plt = np.copy(img[y_start:y_stop,:,:])\n",
    "    if rectangle:\n",
    "        cv2.rectangle(img_plt, point_1, point_2,(0,0,255),6)\n",
    "    plt.imshow(img_plt)\n",
    "    plt.axis(\"off\")\n",
    "    if img_save:\n",
    "        plt.imsave(save_path,img_plt)"
   ]
  },
  {
   "cell_type": "code",
   "execution_count": 19,
   "metadata": {
    "collapsed": false
   },
   "outputs": [
    {
     "data": {
      "image/png": "[encoded data removed]",
      "text/plain": [
       "<matplotlib.figure.Figure at 0x7f46b3aa6048>"
      ]
     },
     "metadata": {},
     "output_type": "display_data"
    }
   ],
   "source": [
    "# Test plot_and_save_test_imgs() function and print outputs\n",
    "plot_and_save_test_imgs(test_imgs[2], y_start,y_stop, rectangle = True, \n",
    "                        point_1 = (770, 10), point_2 = (815,110),img_save = True, save_path = \"test.png\")"
   ]
  },
  {
   "cell_type": "code",
   "execution_count": 20,
   "metadata": {
    "collapsed": true
   },
   "outputs": [],
   "source": [
    "def generate_window_pos_y(y_start, y_stop, y_window_gap):\n",
    "    \"\"\"\n",
    "    Defines number of window layers in y-direction and determines window positions in y-direction \n",
    "    according to the new image size\n",
    "    Input:\n",
    "    y_start (int): Starting pixel value of the new image in input image terms\n",
    "    y_stop (int): Ending pixel value of the new image in input image terms\n",
    "    y_window_gap (int): Desired gap between two window layers in y-direction\n",
    "    Output:\n",
    "    num_window_layers_y (int): Number of window layers in y-direction\n",
    "    window_positions_y (list): Window positions in y-direction\n",
    "    \"\"\"\n",
    "    \n",
    "    \n",
    "    if y_window_gap < y_window_h_min:\n",
    "        num_window_layers_y = (y_stop-y_start)//y_window_gap-1\n",
    "    else:\n",
    "        num_window_layers_y = (y_stop-y_start)//y_window_gap\n",
    "    first_position_y = y_stop-y_start   \n",
    "    window_positions_y = [first_position_y - i * y_window_gap for i in range(num_window_layers_y)]\n",
    "    \n",
    "    return num_window_layers_y, window_positions_y"
   ]
  },
  {
   "cell_type": "code",
   "execution_count": 21,
   "metadata": {
    "collapsed": false
   },
   "outputs": [
    {
     "name": "stdout",
     "output_type": "stream",
     "text": [
      "Number of layers in y-direction:\n",
      "10\n",
      "Window positions in y-direction:\n",
      "[220, 200, 180, 160, 140, 120, 100, 80, 60, 40]\n"
     ]
    }
   ],
   "source": [
    "# Test generate_window_pos_y() function and print outputs\n",
    "num_window_layers_y, window_positions_y = generate_window_pos_y(y_start, y_stop, y_window_gap)\n",
    "print(\"Number of layers in y-direction:\\n{}\".format(num_window_layers_y))\n",
    "print(\"Window positions in y-direction:\\n{}\".format(window_positions_y))"
   ]
  },
  {
   "cell_type": "markdown",
   "metadata": {},
   "source": [
    "#### To include in report:\n",
    "\n",
    "Looking at the images I realized that all cars no matter how far they were away ended on one y-level."
   ]
  },
  {
   "cell_type": "code",
   "execution_count": 22,
   "metadata": {
    "collapsed": true
   },
   "outputs": [],
   "source": [
    "def generate_window_sizes(num_window_layers_y,window_positions_y,y_window_h_min, window_ratio):\n",
    "    \"\"\"\n",
    "    Determines the window sizes in x- and y-direction on each y-layer\n",
    "    Input:\n",
    "    num_window_layers_y (int): Number of window layers in y-direction\n",
    "    window_positions_y (list): Window positions in y-direction\n",
    "    y_window_h_min (int): Number of pixels for the minimum window hight of the top frame \n",
    "                            (must not be larger than 2*y_window_gap)\n",
    "    Output:\n",
    "    window_sizes (list of tuples): First value in each tuple represents size in x-direction in pixel, \n",
    "                                    second value represents size in y-direction in pixel\n",
    "    window_sizes_x (list of int): List of window sizes in x-direction\n",
    "    window_sizes_y (list of int): List of window sizes in y-direction    \n",
    "    \"\"\"\n",
    "    \n",
    "    # Define y-value of top-line for all windows\n",
    "    window_top_all = window_positions_y[-1] - y_window_h_min\n",
    "    \n",
    "    # Define window sizes in y-direction\n",
    "    window_sizes_y = [window_positions_y[i] - window_top_all for i in range(num_window_layers_y)]\n",
    "\n",
    "    # Define window sizes in x-direction\n",
    "    window_sizes_x = [int(window_sizes_y[i] * window_ratio) for i in range(num_window_layers_y)]\n",
    "\n",
    "    # Concatenate x- and y-direction size of windows in one list of tuples\n",
    "    window_sizes = [(window_sizes_x[i],window_sizes_y[i]) for i in range(len(window_sizes_x))]\n",
    "\n",
    "    return window_sizes, window_sizes_x, window_sizes_y"
   ]
  },
  {
   "cell_type": "code",
   "execution_count": 23,
   "metadata": {
    "collapsed": false
   },
   "outputs": [
    {
     "name": "stdout",
     "output_type": "stream",
     "text": [
      "Window sizes:\n",
      "[(315, 210), (285, 190), (255, 170), (225, 150), (195, 130), (165, 110), (135, 90), (105, 70), (75, 50), (45, 30)]\n"
     ]
    }
   ],
   "source": [
    "# Test generate_window_sizes() function and print outputs\n",
    "window_sizes,_,_ = generate_window_sizes(num_window_layers_y,window_positions_y,y_window_h_min, window_ratio)\n",
    "print(\"Window sizes:\\n{}\".format(window_sizes))"
   ]
  },
  {
   "cell_type": "code",
   "execution_count": 24,
   "metadata": {
    "collapsed": true
   },
   "outputs": [],
   "source": [
    "def define_search_area_x(input_image_shape_x):\n",
    "    \"\"\"\n",
    "    Defines variable search area in x-direction based on y-level (hardcoded assumtion: above 110 y-pixel = \n",
    "    full image width, at 40 y-pixel = half of the image width, between 40 and 110 y-pixel = linear interpolation)\n",
    "    Input:\n",
    "    input_image_shape_x (int): Image width in pixel\n",
    "    search_area_x (list of tuple): List of tuple for search area in x-direction based on respective y-levels.\n",
    "                                    First value = left start of search area,\n",
    "                                    Second value = right start of search area    \n",
    "    \"\"\"\n",
    "\n",
    "    # Define search area for bottom half of image\n",
    "    search_area_x_bottom = [(0,input_image_shape_x) for i in range(5)]\n",
    "\n",
    "    # Define search area for the top line of the image\n",
    "    search_area_x_uppest = (int(input_image_shape_x/2-input_image_shape_x/4),int(input_image_shape_x/2+\n",
    "                                                                            input_image_shape_x/4))\n",
    "\n",
    "    # Define search area for the upper half of image\n",
    "    factor_left = (search_area_x_uppest[0]-0)/5\n",
    "    factor_right = (input_image_shape_x-search_area_x_uppest[1])/4\n",
    "    search_area_x_top = [(int(factor_left*i),int(input_image_shape_x-(factor_right*i))) for i in range(5)]\n",
    "\n",
    "    # Concatenate bottom and upper half search areas in x-direction based on y-level\n",
    "    search_area_x = search_area_x_bottom + search_area_x_top\n",
    "    \n",
    "    return search_area_x"
   ]
  },
  {
   "cell_type": "code",
   "execution_count": 25,
   "metadata": {
    "collapsed": false
   },
   "outputs": [
    {
     "name": "stdout",
     "output_type": "stream",
     "text": [
      "[(0, 1280), (0, 1280), (0, 1280), (0, 1280), (0, 1280), (0, 1280), (64, 1200), (128, 1120), (192, 1040), (256, 960)]\n"
     ]
    }
   ],
   "source": [
    "# Test define_search_area_x()) function and print outputs\n",
    "search_area_x = define_search_area_x(input_image_shape_x)\n",
    "print(search_area_x)"
   ]
  },
  {
   "cell_type": "code",
   "execution_count": 26,
   "metadata": {
    "collapsed": true
   },
   "outputs": [],
   "source": [
    "def def_window_positions(window_positions_y, window_sizes, search_area_x):\n",
    "    \"\"\"\n",
    "    Define window positions (x- and y-values)\n",
    "    Input:\n",
    "    window_positions_y (list): Window positions in y-direction\n",
    "    window_sizes (list of tuples): First value in each tuple represents size in x-direction in pixel, \n",
    "                                    second value represents size in y-direction in pixel\n",
    "    search_area_x (list of tuple): List of tuple for search area in x-direction based on respective y-levels.\n",
    "                                    First value = left start of search area,\n",
    "                                    Second value = right start of search area\n",
    "    Output:\n",
    "    window_positions (list of tuple of tuples): Returns a list of tuples with one tuple for each window. Each\n",
    "                                                tuple contains two tuples representing the two points required\n",
    "                                                to define the window.\n",
    "    \"\"\"\n",
    "\n",
    "    window_positions = []\n",
    "\n",
    "    for i,pos_y in enumerate(window_positions_y):\n",
    "        x_size_tmp = search_area_x[i][1] - search_area_x[i][0]\n",
    "        window_slide = (x_size_tmp-window_sizes[i][0])//(x_num_windows-1)\n",
    "        lb_y = pos_y\n",
    "        rt_y = pos_y - window_sizes[i][1]\n",
    "        for j in range(x_num_windows):\n",
    "            lb_x = int(search_area_x[i][0] + j * window_slide)\n",
    "            rt_x = int(search_area_x[i][0] + window_sizes[i][0] + j * window_slide)\n",
    "            window_positions.append(((lb_x,lb_y),(rt_x,rt_y)))\n",
    "    return window_positions"
   ]
  },
  {
   "cell_type": "code",
   "execution_count": 27,
   "metadata": {
    "collapsed": false
   },
   "outputs": [
    {
     "name": "stdout",
     "output_type": "stream",
     "text": [
      "((0, 220), (315, 10))\n"
     ]
    },
    {
     "data": {
      "image/png": "[encoded data removed]",
      "text/plain": [
       "<matplotlib.figure.Figure at 0x7f46b3ad4c50>"
      ]
     },
     "metadata": {},
     "output_type": "display_data"
    }
   ],
   "source": [
    "# Test indow_positions() function and print example output\n",
    "window_positions = def_window_positions(window_positions_y, window_sizes, search_area_x)        \n",
    "print(window_positions[0])\n",
    "\n",
    "plot_and_save_test_imgs(test_imgs[2], y_start, y_stop, rectangle = True, \n",
    "                        point_1 = window_positions[119][0], point_2 = window_positions[119][1],\n",
    "                        img_save = True, save_path = \"test2.png\")"
   ]
  },
  {
   "cell_type": "code",
   "execution_count": null,
   "metadata": {
    "collapsed": true
   },
   "outputs": [],
   "source": [
    "window"
   ]
  },
  {
   "cell_type": "code",
   "execution_count": null,
   "metadata": {
    "collapsed": true
   },
   "outputs": [],
   "source": [
    "window_size = (135,90)\n",
    "\n",
    "\n",
    "\n",
    "\n",
    "def generate_windows(y_start, y_stop, window_size)"
   ]
  },
  {
   "cell_type": "markdown",
   "metadata": {},
   "source": [
    "## 2.2 Get features for windows"
   ]
  },
  {
   "cell_type": "code",
   "execution_count": 28,
   "metadata": {
    "collapsed": false
   },
   "outputs": [],
   "source": [
    "def assemble_and_resize_windows(img, window_positions, y_start = y_start, y_stop = y_stop,\n",
    "                                classifier_shape = classifier_shape):\n",
    "    img = img[y_start:y_stop,:,:]\n",
    "    window_imgs = []\n",
    "        \n",
    "    for position in window_positions:\n",
    "        tmp_img = img[position[1][1]:position[0][1],position[0][0]:position[1][0],:]\n",
    "        tmp_img = cv2.resize(tmp_img,dsize=classifier_shape)/255\n",
    "        window_imgs.append(tmp_img)\n",
    "        \n",
    "        \n",
    "    return np.array(window_imgs)"
   ]
  },
  {
   "cell_type": "code",
   "execution_count": 29,
   "metadata": {
    "collapsed": true
   },
   "outputs": [],
   "source": [
    "def make_predictions(imgs,svc, orient, pix_per_cell, cell_per_block, hog_channel, classifier_shape, \n",
    "                     features_scaler):\n",
    "    # Extract features from all input images (windows)\n",
    "    feature_vector = extract_features(imgs, color_space, orient, pix_per_cell, cell_per_block, hog_channel, \n",
    "                                      classifier_shape)\n",
    "    # Apply the scaler to features\n",
    "    feature_vector_scaled = features_scaler.transform(feature_vector)\n",
    "    \n",
    "    prediction = svc.predict(feature_vector_scaled)\n",
    "    return prediction"
   ]
  },
  {
   "cell_type": "code",
   "execution_count": 30,
   "metadata": {
    "collapsed": true
   },
   "outputs": [],
   "source": [
    "def draw_windows_on_image(img, window_positions, prediction,y_start,y_stop, img_save = False, save_path = None):\n",
    "    img_plt = img[y_start:y_stop,:,:]\n",
    "    for position, pred in zip(window_positions,prediction):\n",
    "        if pred:\n",
    "            cv2.rectangle(img_plt, position[0], position[1],(0,0,255),6)\n",
    "    plt.imshow(img_plt)\n",
    "    plt.axis(\"off\")\n",
    "    if img_save:\n",
    "        plt.imsave(save_path,img_plt)"
   ]
  },
  {
   "cell_type": "code",
   "execution_count": 31,
   "metadata": {
    "collapsed": false
   },
   "outputs": [
    {
     "name": "stdout",
     "output_type": "stream",
     "text": [
      "(200, 64, 64, 3)\n",
      "[ 0.  0.  0.  0.  0.  0.  0.  0.  0.  0.  0.  0.  0.  0.  0.  0.  0.  0.\n",
      "  0.  0.  0.  0.  0.  0.  0.  0.  0.  0.  0.  0.  0.  0.  0.  0.  0.  0.\n",
      "  0.  0.  0.  0.  0.  0.  0.  0.  0.  0.  0.  0.  0.  0.  0.  0.  0.  0.\n",
      "  0.  0.  0.  0.  0.  0.  0.  0.  0.  0.  0.  0.  0.  0.  0.  0.  0.  0.\n",
      "  0.  0.  0.  0.  0.  0.  0.  0.  0.  0.  0.  0.  0.  0.  0.  0.  0.  0.\n",
      "  0.  0.  0.  0.  0.  0.  0.  0.  0.  0.  0.  0.  0.  0.  0.  0.  0.  0.\n",
      "  0.  0.  0.  0.  0.  0.  1.  0.  0.  0.  0.  0.  0.  0.  0.  0.  0.  0.\n",
      "  0.  0.  0.  0.  0.  0.  0.  0.  1.  1.  0.  0.  0.  1.  0.  0.  0.  0.\n",
      "  0.  0.  0.  0.  0.  0.  0.  0.  0.  0.  0.  1.  0.  0.  0.  0.  0.  0.\n",
      "  0.  0.  0.  0.  0.  0.  0.  0.  0.  0.  0.  0.  0.  0.  0.  1.  0.  0.\n",
      "  0.  0.  0.  0.  0.  0.  0.  0.  0.  0.  0.  0.  0.  0.  0.  0.  0.  1.\n",
      "  0.  0.]\n",
      "(200, 64, 64, 3)\n",
      "[ 0.  0.  0.  0.  0.  0.  0.  0.  1.  0.  0.  0.  0.  0.  0.  0.  0.  0.\n",
      "  0.  0.  0.  0.  0.  0.  0.  0.  0.  0.  1.  0.  0.  0.  0.  0.  0.  0.\n",
      "  0.  0.  0.  0.  0.  0.  0.  0.  0.  0.  0.  0.  0.  0.  0.  0.  0.  0.\n",
      "  0.  0.  0.  0.  0.  0.  0.  0.  0.  0.  0.  0.  0.  0.  0.  0.  0.  0.\n",
      "  0.  0.  0.  0.  0.  0.  0.  0.  0.  0.  0.  0.  0.  0.  0.  0.  0.  1.\n",
      "  0.  0.  0.  0.  0.  0.  0.  0.  0.  0.  0.  0.  0.  0.  0.  0.  0.  0.\n",
      "  0.  1.  0.  0.  0.  0.  0.  0.  0.  0.  0.  0.  0.  0.  0.  0.  0.  0.\n",
      "  0.  0.  0.  0.  0.  0.  0.  0.  0.  0.  0.  0.  0.  0.  0.  0.  0.  0.\n",
      "  0.  0.  0.  0.  0.  0.  0.  0.  0.  0.  0.  0.  0.  0.  0.  0.  0.  0.\n",
      "  0.  0.  0.  0.  0.  0.  0.  0.  0.  0.  0.  0.  0.  0.  0.  0.  0.  0.\n",
      "  0.  0.  0.  0.  0.  0.  0.  0.  0.  0.  0.  0.  0.  0.  0.  0.  0.  0.\n",
      "  0.  0.]\n",
      "(200, 64, 64, 3)\n",
      "[ 0.  0.  0.  0.  0.  0.  0.  0.  0.  0.  0.  0.  0.  0.  0.  0.  0.  0.\n",
      "  0.  0.  0.  0.  0.  0.  0.  0.  0.  0.  0.  0.  0.  0.  0.  0.  0.  0.\n",
      "  0.  0.  0.  0.  0.  0.  0.  0.  0.  0.  0.  0.  0.  0.  0.  0.  0.  0.\n",
      "  0.  0.  0.  0.  0.  0.  0.  0.  0.  0.  0.  0.  0.  0.  0.  0.  0.  0.\n",
      "  0.  0.  0.  0.  0.  0.  0.  0.  0.  0.  0.  0.  0.  0.  0.  0.  0.  0.\n",
      "  0.  0.  0.  0.  0.  0.  0.  0.  0.  0.  0.  0.  0.  0.  0.  0.  0.  0.\n",
      "  0.  0.  0.  0.  0.  0.  0.  0.  0.  0.  0.  0.  0.  0.  0.  0.  0.  0.\n",
      "  0.  0.  0.  0.  0.  0.  0.  0.  0.  0.  0.  0.  0.  0.  0.  0.  0.  0.\n",
      "  0.  0.  0.  0.  0.  0.  0.  0.  0.  0.  0.  0.  0.  0.  0.  0.  0.  0.\n",
      "  0.  0.  0.  0.  0.  0.  0.  0.  0.  0.  0.  0.  0.  0.  0.  0.  0.  0.\n",
      "  0.  0.  0.  0.  0.  0.  0.  0.  0.  0.  0.  0.  0.  0.  0.  0.  0.  0.\n",
      "  0.  0.]\n",
      "(200, 64, 64, 3)\n",
      "[ 0.  0.  0.  0.  0.  0.  0.  0.  0.  0.  0.  0.  0.  0.  0.  0.  0.  0.\n",
      "  0.  0.  0.  0.  0.  0.  0.  0.  0.  0.  0.  0.  0.  0.  0.  0.  0.  0.\n",
      "  0.  0.  0.  0.  0.  0.  0.  0.  0.  0.  0.  0.  0.  0.  0.  0.  0.  0.\n",
      "  0.  0.  0.  0.  0.  0.  0.  0.  0.  0.  0.  0.  0.  0.  0.  0.  0.  0.\n",
      "  0.  0.  0.  0.  0.  0.  0.  0.  0.  0.  0.  0.  0.  0.  0.  0.  0.  0.\n",
      "  0.  0.  0.  0.  0.  0.  0.  0.  0.  0.  0.  0.  0.  0.  0.  0.  0.  0.\n",
      "  0.  0.  0.  0.  0.  0.  1.  0.  0.  0.  0.  1.  0.  0.  0.  0.  0.  0.\n",
      "  0.  0.  0.  0.  0.  0.  0.  0.  1.  1.  0.  0.  0.  0.  0.  0.  0.  0.\n",
      "  0.  0.  0.  0.  0.  0.  0.  0.  0.  0.  0.  1.  0.  0.  0.  0.  0.  0.\n",
      "  0.  0.  0.  0.  0.  0.  0.  0.  0.  0.  0.  0.  0.  0.  0.  1.  0.  0.\n",
      "  0.  0.  0.  0.  0.  0.  0.  0.  0.  0.  0.  0.  0.  0.  0.  0.  0.  0.\n",
      "  0.  0.]\n",
      "(200, 64, 64, 3)\n",
      "[ 0.  0.  0.  0.  0.  0.  0.  0.  0.  0.  0.  0.  0.  0.  0.  0.  0.  0.\n",
      "  0.  0.  0.  0.  0.  0.  0.  0.  0.  0.  0.  0.  0.  0.  0.  0.  0.  0.\n",
      "  0.  0.  0.  0.  0.  0.  0.  0.  0.  0.  0.  0.  0.  0.  0.  0.  0.  0.\n",
      "  0.  0.  0.  0.  0.  0.  0.  0.  0.  0.  0.  0.  0.  0.  0.  0.  0.  0.\n",
      "  0.  0.  0.  0.  0.  0.  0.  0.  0.  0.  0.  0.  0.  0.  0.  0.  0.  0.\n",
      "  0.  0.  0.  0.  0.  0.  0.  0.  0.  0.  0.  0.  0.  0.  0.  0.  0.  0.\n",
      "  0.  0.  0.  0.  0.  0.  1.  0.  0.  0.  1.  0.  0.  0.  0.  0.  0.  0.\n",
      "  0.  0.  0.  0.  0.  0.  0.  0.  1.  1.  0.  0.  0.  0.  0.  0.  0.  1.\n",
      "  0.  0.  0.  0.  0.  0.  0.  0.  0.  0.  0.  1.  1.  0.  0.  0.  0.  0.\n",
      "  0.  0.  0.  0.  0.  0.  0.  0.  0.  0.  0.  0.  0.  0.  1.  1.  0.  0.\n",
      "  0.  0.  0.  0.  0.  0.  0.  0.  0.  0.  0.  0.  0.  0.  0.  0.  0.  0.\n",
      "  0.  0.]\n",
      "(200, 64, 64, 3)\n",
      "[ 0.  0.  0.  0.  0.  0.  0.  0.  0.  0.  0.  0.  0.  0.  0.  0.  0.  0.\n",
      "  0.  0.  0.  0.  0.  0.  0.  0.  0.  0.  0.  0.  0.  0.  0.  0.  0.  0.\n",
      "  0.  0.  0.  0.  0.  0.  0.  0.  0.  0.  0.  0.  0.  0.  0.  0.  0.  0.\n",
      "  0.  0.  0.  0.  0.  0.  0.  0.  0.  0.  0.  0.  0.  0.  0.  0.  0.  0.\n",
      "  0.  0.  0.  0.  0.  0.  0.  0.  0.  0.  0.  0.  0.  0.  0.  0.  0.  0.\n",
      "  0.  0.  0.  0.  0.  0.  0.  0.  1.  0.  0.  0.  0.  0.  0.  0.  0.  0.\n",
      "  0.  0.  0.  0.  0.  0.  1.  0.  0.  0.  1.  1.  0.  0.  0.  0.  0.  0.\n",
      "  0.  0.  0.  0.  0.  0.  0.  0.  1.  1.  0.  0.  0.  0.  0.  0.  0.  0.\n",
      "  0.  0.  0.  0.  0.  0.  0.  0.  0.  0.  0.  1.  0.  0.  0.  0.  0.  0.\n",
      "  0.  0.  0.  0.  0.  0.  0.  0.  0.  0.  0.  0.  0.  0.  1.  0.  0.  0.\n",
      "  0.  0.  0.  0.  0.  0.  0.  0.  0.  0.  0.  0.  0.  0.  0.  0.  0.  1.\n",
      "  0.  0.]\n"
     ]
    },
    {
     "data": {
      "image/png": "[encoded data removed]",
      "text/plain": [
       "<matplotlib.figure.Figure at 0x7f46b3a91a58>"
      ]
     },
     "metadata": {},
     "output_type": "display_data"
    }
   ],
   "source": [
    "test_imgs_draw = np.copy(test_imgs)\n",
    "\n",
    "test_imgs_windows = []\n",
    "test_imgs_predictions = []\n",
    "\n",
    "for i,img in enumerate(test_imgs_draw):\n",
    "\n",
    "    window_imgs = assemble_and_resize_windows(img, window_positions=window_positions)\n",
    "    print(window_imgs.shape)\n",
    "\n",
    "    prediction = make_predictions(window_imgs,svc, orient, pix_per_cell, cell_per_block, hog_channel, \n",
    "                                  classifier_shape,features_scaler)\n",
    "    print(prediction)\n",
    "\n",
    "\n",
    "    draw_windows_on_image(img, window_positions,prediction, y_start=y_start, y_stop=y_stop, \n",
    "                          img_save = True, save_path = \"test{}.png\".format(str(i)))\n",
    "    \n",
    "    test_imgs_windows.append(window_imgs)\n",
    "    test_imgs_predictions.append(prediction)"
   ]
  },
  {
   "cell_type": "markdown",
   "metadata": {},
   "source": [
    "## 2.3 Get image heatmap and return window"
   ]
  },
  {
   "cell_type": "code",
   "execution_count": 32,
   "metadata": {
    "collapsed": false
   },
   "outputs": [],
   "source": [
    "def create_heatmap_weights(weight_per_row, weight_per_column):\n",
    "    \"\"\"\n",
    "    Input:\n",
    "    weight_per_row (list): Weight to be applied on each row (y_level)\n",
    "    weight_per_column (list): Weight to be applied on each window-position in x-direction\n",
    "    \n",
    "    \n",
    "    \"\"\"\n",
    "    prediction_weights = []\n",
    "\n",
    "    for w_y in weight_per_row:\n",
    "        for w_x in weight_per_column:\n",
    "            prediction_weights.append(w_y*w_x) \n",
    "    \n",
    "    return prediction_weights"
   ]
  },
  {
   "cell_type": "code",
   "execution_count": 33,
   "metadata": {
    "collapsed": false
   },
   "outputs": [
    {
     "name": "stdout",
     "output_type": "stream",
     "text": [
      "[1, 1, 1, 1, 1, 1, 1, 1, 1, 1, 1, 1, 1, 1, 1, 1, 1, 1, 1, 1, 1, 1, 1, 1, 1, 1, 1, 1, 1, 1, 1, 1, 1, 1, 1, 1, 1, 1, 1, 1, 1, 1, 1, 1, 1, 1, 1, 1, 1, 1, 1, 1, 1, 1, 1, 1, 1, 1, 1, 1, 2, 2, 2, 2, 2, 2, 2, 2, 2, 2, 2, 2, 2, 2, 2, 2, 2, 2, 2, 2, 2, 2, 2, 2, 2, 2, 2, 2, 2, 2, 2, 2, 2, 2, 2, 2, 2, 2, 2, 2, 3, 3, 3, 3, 3, 3, 3, 3, 3, 3, 3, 3, 3, 3, 3, 3, 3, 3, 3, 3, 3, 3, 3, 3, 3, 3, 3, 3, 3, 3, 3, 3, 3, 3, 3, 3, 3, 3, 3, 3, 3, 3, 3, 3, 3, 3, 3, 3, 3, 3, 3, 3, 3, 3, 3, 3, 3, 3, 3, 3, 2, 2, 2, 2, 2, 2, 2, 2, 2, 2, 2, 2, 2, 2, 2, 2, 2, 2, 2, 2, 2, 2, 2, 2, 2, 2, 2, 2, 2, 2, 2, 2, 2, 2, 2, 2, 2, 2, 2, 2]\n"
     ]
    }
   ],
   "source": [
    "weight_per_row = [1,1,1,2,2,3,3,3,2,2]\n",
    "weight_per_column = list(np.ones(x_num_windows).astype(int))\n",
    "\n",
    "prediction_weights = create_heatmap_weights(weight_per_row, weight_per_column)\n",
    "print(prediction_weights)"
   ]
  },
  {
   "cell_type": "code",
   "execution_count": 34,
   "metadata": {
    "collapsed": true
   },
   "outputs": [],
   "source": [
    "def get_boxes_for_heatmap(prediction,window_positions,prediction_weights=None):\n",
    "    \"\"\"\n",
    "    Gets boxes for the heatmap and their corresponding weights\n",
    "    \n",
    "    Output:\n",
    "    windows_active: All activated window frames\n",
    "    weights_windows_active: Weights to be attributed to active window frames\n",
    "    \"\"\"\n",
    "    #\n",
    "    \n",
    "    # Create activated predictions\n",
    "    if prediction_weights:\n",
    "        activated_weights = prediction * prediction_weights\n",
    "    else:\n",
    "        activated_weights = prediction\n",
    "    \n",
    "    windows_active = []\n",
    "    weights_windows_active = []\n",
    "    \n",
    "    for pre,pos in zip(activated_weights,window_positions):\n",
    "        if pre:\n",
    "            windows_active.append(pos)\n",
    "            weights_windows_active.append(pre)\n",
    "        \n",
    "    windows_active = np.array(windows_active)\n",
    "    weights_windows_active = np.array(weights_windows_active)\n",
    "    \n",
    "    \n",
    "    return windows_active, weights_windows_active"
   ]
  },
  {
   "cell_type": "code",
   "execution_count": 35,
   "metadata": {
    "collapsed": true
   },
   "outputs": [],
   "source": [
    "def add_heat(heatmap, windows_active, weights_windows_active):\n",
    "    \"\"\"\n",
    "    Add active windows with corresponding weights to heatmap\n",
    "    \n",
    "    \"\"\"\n",
    "    # Iterate through list of active windows\n",
    "    for window, weight in zip(windows_active,weights_windows_active):\n",
    "        # Add += weight for all pixels inside each bbox\n",
    "        # Assuming each \"window\" takes the form ((x1, y1), (x2, y2))\n",
    "        heatmap[window[1][1]:window[0][1],window[0][0]:window[1][0]] += weight\n",
    "\n",
    "    # Return updated heatmap\n",
    "    return heatmap"
   ]
  },
  {
   "cell_type": "code",
   "execution_count": 36,
   "metadata": {
    "collapsed": true
   },
   "outputs": [],
   "source": [
    "def apply_threshold(heatmap, threshold):\n",
    "    \"\"\"\n",
    "    Apply threshold to a heatmap\n",
    "    \"\"\"\n",
    "    \n",
    "    # Zero out pixels below the threshold\n",
    "    heatmap[heatmap <= threshold] = 0\n",
    "    # Return thresholded map\n",
    "    return heatmap"
   ]
  },
  {
   "cell_type": "code",
   "execution_count": 37,
   "metadata": {
    "collapsed": false
   },
   "outputs": [],
   "source": [
    "#Test\n",
    "heat = np.zeros((y_stop-y_start,input_image_shape_x))\n",
    "heat_threshold_single = 2\n",
    "\n",
    "heatmaps = []\n",
    "for i in range(len(test_imgs_predictions)):\n",
    "    windows_active, weights_windows_active = get_boxes_for_heatmap(test_imgs_predictions[i],\n",
    "                                                                   window_positions,\n",
    "                                                                   prediction_weights=prediction_weights)\n",
    "    heat = np.zeros((y_stop-y_start,input_image_shape_x))\n",
    "    heatmap = add_heat(heat, windows_active, weights_windows_active)\n",
    "    heatmap_thr = apply_threshold(heatmap, heat_threshold_single)\n",
    "    heatmaps.append(heatmap_thr)\n",
    "heatmaps = np.array(heatmaps)"
   ]
  },
  {
   "cell_type": "code",
   "execution_count": null,
   "metadata": {
    "collapsed": false
   },
   "outputs": [],
   "source": [
    "print(heatmaps.shape)"
   ]
  },
  {
   "cell_type": "code",
   "execution_count": null,
   "metadata": {
    "collapsed": false
   },
   "outputs": [],
   "source": [
    "heatmaps_cmaps = [\"hot\" for i in range(len(heatmaps))]\n",
    "heatmaps_headings = [\"Heatmap image {}\".format(str(i)) for i in range(len(heatmaps))]\n",
    "heatmaps_save_path = \"output_images/03_heatmaps.png\"\n",
    "\n",
    "heatmaps_vis = np.array([np.clip(heat, 0, 255) for heat in heatmaps])\n",
    "\n",
    "plot_and_save_n_images(imgs = heatmaps_vis, cmaps = heatmaps_cmaps, headings = heatmaps_headings,\n",
    "                       save = True, save_path = heatmaps_save_path,\n",
    "                       images_per_column = 6, images_per_line = 1, figw = 13, figh = 17)"
   ]
  },
  {
   "cell_type": "code",
   "execution_count": null,
   "metadata": {
    "collapsed": false
   },
   "outputs": [],
   "source": [
    "from scipy.ndimage.measurements import label\n",
    "\n",
    "labels = []\n",
    "for heatmap in heatmaps:\n",
    "    labels.append(label(heatmap))\n",
    "labels = np.array(labels)"
   ]
  },
  {
   "cell_type": "code",
   "execution_count": null,
   "metadata": {
    "collapsed": false
   },
   "outputs": [],
   "source": [
    "tmp_img_n = 0\n",
    "\n",
    "print(labels[tmp_img_n][1], 'cars found')\n",
    "plt.imshow(labels[tmp_img_n][0], cmap='gray')"
   ]
  },
  {
   "cell_type": "code",
   "execution_count": null,
   "metadata": {
    "collapsed": false
   },
   "outputs": [],
   "source": [
    "def split_large_single_detections(labels,heatmap,window_ratio_max):\n",
    "    \"\"\"\n",
    "    Input:\n",
    "    labels:\n",
    "    window_ratio_min: Minimum window ratio before window is split (2 cars in 1 detection)\n",
    "    \n",
    "    \"\"\"\n",
    "    heatmap_tmp = np.copy(heatmap)\n",
    "    print(labels[1])\n",
    "    print(range(1,labels[1]+1))\n",
    "    for car_number in range(1, labels[1]+1):\n",
    "        # Find pixels with each car_number label value\n",
    "        nonzero = (labels[0] == car_number).nonzero()\n",
    "        # Identify x and y values of those pixels\n",
    "        nonzeroy = np.array(nonzero[0])\n",
    "        nonzerox = np.array(nonzero[1])\n",
    "        # Determine ratio of window sizes y/x\n",
    "        y_max = np.max(nonzeroy)\n",
    "        y_min = np.min(nonzeroy)\n",
    "        x_max = np.max(nonzerox)\n",
    "        x_min = np.min(nonzerox)\n",
    "        bbox_ratio = (y_max-y_min) / (x_max-x_min)\n",
    "        \n",
    "        x_middle = x_min + (x_max-x_min)//2\n",
    "        #print(bbox_ratio)\n",
    "        if bbox_ratio < window_ratio_max:\n",
    "            split_size = int((x_max-x_min)*0.1)\n",
    "            heatmap_tmp[y_min:y_max, (x_middle-split_size):(x_middle+split_size)] = 0\n",
    "            #print(\"splitted\")\n",
    "            \n",
    "    labels_new = label(heatmap_tmp)\n",
    "    \n",
    "        \n",
    "    return labels_new, heatmap_tmp"
   ]
  },
  {
   "cell_type": "code",
   "execution_count": null,
   "metadata": {
    "collapsed": false
   },
   "outputs": [],
   "source": [
    "window_ratio_max = 0.5\n",
    "\n",
    "tmp_img_n = 4\n",
    "\n",
    "_,example_img = split_large_single_detections(labels[tmp_img_n],heatmaps_vis[tmp_img_n],window_ratio_max)\n",
    "plt.imshow(example_img,cmap=\"hot\")"
   ]
  },
  {
   "cell_type": "code",
   "execution_count": null,
   "metadata": {
    "collapsed": false
   },
   "outputs": [],
   "source": [
    "def draw_labeled_windows(img, labels, y_start):\n",
    "    # Iterate through all detected cars\n",
    "    try:\n",
    "        for car_number in range(1, labels[1]+1):\n",
    "            # Find pixels with each car_number label value\n",
    "            nonzero = (labels[0] == car_number).nonzero()\n",
    "            # Identify x and y values of those pixels\n",
    "            nonzeroy = np.array(nonzero[0]) + y_start\n",
    "            nonzerox = np.array(nonzero[1])\n",
    "            # Define a bounding box based on min/max x and y\n",
    "            bbox = ((np.min(nonzerox), np.min(nonzeroy)), (np.max(nonzerox), np.max(nonzeroy)))\n",
    "            # Draw the box on the image\n",
    "            cv2.rectangle(img, bbox[0], bbox[1], (0,0,255), 6)\n",
    "    except:\n",
    "        pass\n",
    "    # Return the image\n",
    "    return img"
   ]
  },
  {
   "cell_type": "code",
   "execution_count": null,
   "metadata": {
    "collapsed": false
   },
   "outputs": [],
   "source": [
    "tmp_img_n = 5\n",
    "\n",
    "example_img = draw_labeled_windows(np.copy(test_imgs[tmp_img_n]),labels[tmp_img_n],y_start)\n",
    "plt.imshow(example_img)"
   ]
  },
  {
   "cell_type": "code",
   "execution_count": null,
   "metadata": {
    "collapsed": true
   },
   "outputs": [],
   "source": [
    "# Create overall pipeline\n",
    "\n",
    "\n",
    "def process_image(img,window_positions,y_start,y_stop, input_image_shape_x, classifier_shape, svc, orient, \n",
    "                  pix_per_cell, cell_per_block, hog_channel, features_scaler, prediction_weights,\n",
    "                  heat_threshold_single, window_ratio_max):\n",
    "    window_imgs = assemble_and_resize_windows(img,window_positions,y_start,y_stop,classifier_shape)\n",
    "    prediction = make_predictions(window_imgs,svc, orient, pix_per_cell, cell_per_block, hog_channel, \n",
    "                                  classifier_shape,features_scaler)\n",
    "    windows_active, weights_windows_active = get_boxes_for_heatmap(prediction, window_positions, \n",
    "                                                                   prediction_weights)\n",
    "    heat = np.zeros((y_stop-y_start,input_image_shape_x))\n",
    "    heatmap = add_heat(heat, windows_active, weights_windows_active)\n",
    "    heatmap_thr = apply_threshold(heatmap, heat_threshold_single)\n",
    "    labels = np.array(label(heatmap_thr))\n",
    "    labels, heatmap_thr = split_large_single_detections(labels,heatmap_thr,window_ratio_max)\n",
    "    return heatmap_thr, labels"
   ]
  },
  {
   "cell_type": "code",
   "execution_count": null,
   "metadata": {
    "collapsed": false
   },
   "outputs": [],
   "source": [
    "tmp_img_n = 0\n",
    "heatmap_test, labels_test = process_image(np.copy(test_imgs[tmp_img_n]),window_positions,y_start,y_stop, \n",
    "                                          input_image_shape_x, \n",
    "                                          classifier_shape, svc, orient, pix_per_cell, cell_per_block, \n",
    "                                          hog_channel, features_scaler, prediction_weights,\n",
    "                                          heat_threshold_single, window_ratio_max)\n",
    "\n",
    "test_img = draw_labeled_windows(np.copy(test_imgs[tmp_img_n]), labels_test, y_start)\n",
    "plt.imshow(test_img)\n",
    "plt.imsave(\"test.png\",test_img)"
   ]
  },
  {
   "cell_type": "markdown",
   "metadata": {},
   "source": [
    "# 3 Video Implementation"
   ]
  },
  {
   "cell_type": "markdown",
   "metadata": {},
   "source": [
    "## 3.1 Define class to store previous image values"
   ]
  },
  {
   "cell_type": "code",
   "execution_count": null,
   "metadata": {
    "collapsed": true
   },
   "outputs": [],
   "source": [
    "class Windows():\n",
    "    def __init__(self, backlog):\n",
    "        \"\"\"\n",
    "        Input:\n",
    "        backlog (int): Number of previous images for which data is stored\n",
    "        \"\"\"        \n",
    "        \n",
    "        # what is the backlog stored in the class\n",
    "        self.backlog = backlog\n",
    "        \n",
    "        # values for previous images\n",
    "        self.windows = []\n",
    "        \n",
    "        # values for previous weights per window\n",
    "        self.weights = []\n",
    "        \n",
    "\n",
    "    \n",
    "    \n",
    "    def update_value_collection(self, update_item, update_value):\n",
    "        \"\"\"\n",
    "        Input:\n",
    "        update item (list): needs to be a stored list to be updated with a new value\n",
    "        udate_value: needs to be the value with which the list should be updated\n",
    "        Output:\n",
    "        update_item (list): updated list\n",
    "        \"\"\"\n",
    "        udate_item = update_item.append(update_value)\n",
    "        if len(update_item) > self.backlog:\n",
    "            update_item = update_item[1:]\n",
    "        return update_item\n",
    "\n",
    "    \n",
    "    def update(self,identified_windows,weights_identified_windows):\n",
    "        \"\"\"\n",
    "        Input:\n",
    "        identified_windows (list): List of identified windows in the format ((x1,y1),(x2,y2))              \n",
    "        \"\"\"\n",
    "        \n",
    "        self.windows = self.update_value_collection(self.windows, identified_windows)\n",
    "        self.weights = self.update_value_collection(self.weights, weights_identified_windows)"
   ]
  },
  {
   "cell_type": "markdown",
   "metadata": {},
   "source": [
    "## 3.2 Define function to apply processing pipeline on image"
   ]
  },
  {
   "cell_type": "code",
   "execution_count": null,
   "metadata": {
    "collapsed": false
   },
   "outputs": [],
   "source": [
    "def process_video_images(img,window_positions,y_start,y_stop, input_image_shape_x, classifier_shape, \n",
    "                         svc, orient, pix_per_cell, cell_per_block, hog_channel, features_scaler, \n",
    "                         prediction_weights, heat_threshold_multiple, window_ratio_max):\n",
    "    window_imgs = assemble_and_resize_windows(img,window_positions,y_start,y_stop,classifier_shape)\n",
    "    prediction = make_predictions(window_imgs,svc, orient, pix_per_cell, cell_per_block, hog_channel, \n",
    "                                  classifier_shape,features_scaler)\n",
    "    if np.sum(prediction) > 0:\n",
    "        windows_active, weights_windows_active = get_boxes_for_heatmap(prediction, window_positions, \n",
    "                                                                       prediction_weights)\n",
    "        window_tracker.update(windows_active, weights_windows_active)\n",
    "       \n",
    "    \n",
    "    heat = np.zeros((y_stop-y_start,input_image_shape_x))    \n",
    "   \n",
    "    windows_active_last_imgs = np.concatenate(window_tracker.windows)\n",
    "    weights_windows_active_last_imgs = np.concatenate(window_tracker.weights)\n",
    "    heatmap = add_heat(heat, windows_active_last_imgs, weights_windows_active_last_imgs)\n",
    "\n",
    "    heatmap_thr = apply_threshold(heatmap, heat_threshold_multiple)\n",
    "    labels = np.array(label(heatmap_thr))\n",
    "    #labels, heatmap_thr = split_large_single_detections(labels,heatmap_thr,window_ratio_max)    \n",
    "    \n",
    "    return labels"
   ]
  },
  {
   "cell_type": "markdown",
   "metadata": {},
   "source": [
    "## 3.3 Process video"
   ]
  },
  {
   "cell_type": "code",
   "execution_count": null,
   "metadata": {
    "collapsed": true
   },
   "outputs": [],
   "source": [
    "# Import everything needed to edit/save/watch video clips\n",
    "from moviepy.editor import VideoFileClip\n",
    "from IPython.display import HTML"
   ]
  },
  {
   "cell_type": "code",
   "execution_count": null,
   "metadata": {
    "collapsed": true
   },
   "outputs": [],
   "source": [
    "window_tracker = Windows(backlog = 10)\n",
    "heat_threshold_multiple = 25\n",
    "\n",
    "\n",
    "# Define a function which only returns the image output of the function \"process_image()\"\n",
    "def process_image_video(img):\n",
    "\n",
    "    labels = process_video_images(img,window_positions,y_start,y_stop, input_image_shape_x, classifier_shape, \n",
    "                         svc, orient, pix_per_cell, cell_per_block, hog_channel, features_scaler, \n",
    "                         prediction_weights, heat_threshold_multiple, window_ratio_max)\n",
    "    result = draw_labeled_windows(np.copy(img), labels, y_start)\n",
    "\n",
    "    return result"
   ]
  },
  {
   "cell_type": "code",
   "execution_count": null,
   "metadata": {
    "collapsed": false
   },
   "outputs": [],
   "source": [
    "# Process the video\n",
    "video_output = 'project_video_annotated.mp4'\n",
    "video_input = VideoFileClip(\"project_video.mp4\")\n",
    "white_clip = video_input.fl_image(process_image_video) #NOTE: this function expects color images!!\n",
    "%time white_clip.write_videofile(video_output, audio=False)"
   ]
  },
  {
   "cell_type": "code",
   "execution_count": null,
   "metadata": {
    "collapsed": true
   },
   "outputs": [],
   "source": [
    "# Ideas for improvements:\n",
    "#1 Split windows if hight/width not in certain threshold   Done!\n",
    "# Optimize classifier (wrong window detection on the left) -> Add color component Done!\n",
    "# Resort images for classifier\n",
    "# Build class to store values from previous heatmaps and take the average over past 3 heatmaps\n",
    "# Implement more frames for search in far away images\n"
   ]
  },
  {
   "cell_type": "code",
   "execution_count": null,
   "metadata": {
    "collapsed": true
   },
   "outputs": [],
   "source": []
  },
  {
   "cell_type": "code",
   "execution_count": null,
   "metadata": {
    "collapsed": true
   },
   "outputs": [],
   "source": []
  },
  {
   "cell_type": "code",
   "execution_count": null,
   "metadata": {
    "collapsed": false
   },
   "outputs": [],
   "source": [
    "x = [1,2,3,4]\n",
    "y = [11,12,13,14]\n",
    "z = [21,22,23,24]\n",
    "\n",
    "\n",
    "for a,b,c in zip(x,y,z):\n",
    "    print(a+b+c)"
   ]
  },
  {
   "cell_type": "code",
   "execution_count": null,
   "metadata": {
    "collapsed": true
   },
   "outputs": [],
   "source": []
  },
  {
   "cell_type": "code",
   "execution_count": null,
   "metadata": {
    "collapsed": false
   },
   "outputs": [],
   "source": [
    "zzz = 31\n",
    "\n",
    "example = window_imgs[zzz]\n",
    "print(prediction[zzz])\n",
    "\n",
    "plt.imshow(example)"
   ]
  },
  {
   "cell_type": "code",
   "execution_count": null,
   "metadata": {
    "collapsed": false
   },
   "outputs": [],
   "source": [
    "print(window_imgs[zzz].shape)\n",
    "ggg = make_predictions(window_imgs[zzz:zzz+1],svc, orient, pix_per_cell, cell_per_block, hog_channel, \n",
    "                       classifier_shape)\n",
    "\n",
    "print(ggg)"
   ]
  },
  {
   "cell_type": "code",
   "execution_count": null,
   "metadata": {
    "collapsed": false
   },
   "outputs": [],
   "source": [
    "print(window_imgs[27])"
   ]
  },
  {
   "cell_type": "code",
   "execution_count": null,
   "metadata": {
    "collapsed": true
   },
   "outputs": [],
   "source": []
  },
  {
   "cell_type": "code",
   "execution_count": null,
   "metadata": {
    "collapsed": true
   },
   "outputs": [],
   "source": []
  },
  {
   "cell_type": "code",
   "execution_count": null,
   "metadata": {
    "collapsed": true
   },
   "outputs": [],
   "source": []
  }
 ],
 "metadata": {
  "anaconda-cloud": {},
  "kernelspec": {
   "display_name": "Python [conda env:carnd-term1]",
   "language": "python",
   "name": "conda-env-carnd-term1-py"
  },
  "language_info": {
   "codemirror_mode": {
    "name": "ipython",
    "version": 3
   },
   "file_extension": ".py",
   "mimetype": "text/x-python",
   "name": "python",
   "nbconvert_exporter": "python",
   "pygments_lexer": "ipython3",
   "version": "3.5.2"
  }
 },
 "nbformat": 4,
 "nbformat_minor": 1
}
